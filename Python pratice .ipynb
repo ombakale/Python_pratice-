{
 "cells": [
  {
   "cell_type": "code",
   "execution_count": null,
   "id": "170eb351",
   "metadata": {},
   "outputs": [],
   "source": [
    "#comparision operators "
   ]
  },
  {
   "cell_type": "code",
   "execution_count": null,
   "id": "737968a6",
   "metadata": {},
   "outputs": [],
   "source": [
    "2 ==2"
   ]
  },
  {
   "cell_type": "code",
   "execution_count": null,
   "id": "1c5c6364",
   "metadata": {},
   "outputs": [],
   "source": [
    "2==1"
   ]
  },
  {
   "cell_type": "code",
   "execution_count": null,
   "id": "cc786aef",
   "metadata": {},
   "outputs": [],
   "source": [
    "'a'=='a'"
   ]
  },
  {
   "cell_type": "code",
   "execution_count": null,
   "id": "9554e084",
   "metadata": {},
   "outputs": [],
   "source": [
    "2.0==2"
   ]
  },
  {
   "cell_type": "code",
   "execution_count": null,
   "id": "f66ae364",
   "metadata": {},
   "outputs": [],
   "source": [
    "3!=3"
   ]
  },
  {
   "cell_type": "code",
   "execution_count": null,
   "id": "f26518f9",
   "metadata": {},
   "outputs": [],
   "source": [
    "#and or and not "
   ]
  },
  {
   "cell_type": "code",
   "execution_count": null,
   "id": "baf72024",
   "metadata": {},
   "outputs": [],
   "source": [
    "1<2"
   ]
  },
  {
   "cell_type": "code",
   "execution_count": null,
   "id": "f9a0b662",
   "metadata": {},
   "outputs": [],
   "source": [
    "1<2 and 2<3"
   ]
  },
  {
   "cell_type": "code",
   "execution_count": null,
   "id": "67663eab",
   "metadata": {},
   "outputs": [],
   "source": [
    "1<2 or 2>3"
   ]
  },
  {
   "cell_type": "code",
   "execution_count": null,
   "id": "531a8743",
   "metadata": {},
   "outputs": [],
   "source": [
    "1<2 and 2>3"
   ]
  },
  {
   "cell_type": "markdown",
   "id": "f01aa5d0",
   "metadata": {},
   "source": []
  },
  {
   "cell_type": "code",
   "execution_count": null,
   "id": "6c8fb2c0",
   "metadata": {},
   "outputs": [],
   "source": [
    "1<2>3"
   ]
  },
  {
   "cell_type": "code",
   "execution_count": null,
   "id": "f1d11549",
   "metadata": {},
   "outputs": [],
   "source": [
    "('h'=='h')and (2==2)"
   ]
  },
  {
   "cell_type": "code",
   "execution_count": null,
   "id": "f6b89244",
   "metadata": {},
   "outputs": [],
   "source": [
    "1 <2 <3"
   ]
  },
  {
   "cell_type": "code",
   "execution_count": null,
   "id": "f37380d4",
   "metadata": {},
   "outputs": [],
   "source": [
    "1<2 and 2<3"
   ]
  },
  {
   "cell_type": "code",
   "execution_count": null,
   "id": "cb481b81",
   "metadata": {},
   "outputs": [],
   "source": [
    "not(1==1)"
   ]
  },
  {
   "cell_type": "code",
   "execution_count": null,
   "id": "2dba9ecf",
   "metadata": {},
   "outputs": [],
   "source": [
    "1==1"
   ]
  },
  {
   "cell_type": "code",
   "execution_count": null,
   "id": "e93a0579",
   "metadata": {},
   "outputs": [],
   "source": [
    "not 1==1"
   ]
  },
  {
   "cell_type": "code",
   "execution_count": null,
   "id": "6683d96f",
   "metadata": {},
   "outputs": [],
   "source": [
    "400>5000"
   ]
  },
  {
   "cell_type": "code",
   "execution_count": null,
   "id": "28c7a56c",
   "metadata": {},
   "outputs": [],
   "source": [
    "not 400>5000"
   ]
  },
  {
   "cell_type": "markdown",
   "id": "9fe8852d",
   "metadata": {},
   "source": [
    "# python statements "
   ]
  },
  {
   "cell_type": "code",
   "execution_count": null,
   "id": "78b0d1c8",
   "metadata": {},
   "outputs": [],
   "source": [
    "a=b=9\n",
    "\n",
    "if a==b:\n",
    "    print('a and b have equal values')\n",
    "elif(a>b):\n",
    "    print(\"a is greater than b\")\n",
    "else:\n",
    "    print('a is less than b')"
   ]
  },
  {
   "cell_type": "code",
   "execution_count": null,
   "id": "253f6e16",
   "metadata": {},
   "outputs": [],
   "source": [
    "if True:\n",
    "    print('its true')"
   ]
  },
  {
   "cell_type": "code",
   "execution_count": null,
   "id": "7a0156eb",
   "metadata": {},
   "outputs": [],
   "source": [
    "hungry =True \n",
    "if hungry==True:\n",
    "    print(\"f feed me\")"
   ]
  },
  {
   "cell_type": "code",
   "execution_count": null,
   "id": "f79761e8",
   "metadata": {},
   "outputs": [],
   "source": [
    "listt=[0,1,2,3,4,5,6,7]\n",
    "for i in listt:\n",
    "    print(listt[i])"
   ]
  },
  {
   "cell_type": "code",
   "execution_count": null,
   "id": "bc1e8dba",
   "metadata": {},
   "outputs": [],
   "source": [
    "for i in listt:\n",
    "    print('ehllow ')"
   ]
  },
  {
   "cell_type": "code",
   "execution_count": null,
   "id": "8179d417",
   "metadata": {},
   "outputs": [],
   "source": [
    "for i in listt:\n",
    "    if i%2==0:\n",
    "        print(i)\n",
    "    else:\n",
    "        continue"
   ]
  },
  {
   "cell_type": "code",
   "execution_count": null,
   "id": "a88ea0b1",
   "metadata": {},
   "outputs": [],
   "source": [
    "sum =0\n",
    "for i in listt:\n",
    "     sum=sum+i\n",
    "    \n",
    "print(sum)"
   ]
  },
  {
   "cell_type": "code",
   "execution_count": null,
   "id": "109330eb",
   "metadata": {},
   "outputs": [],
   "source": [
    "stri=\"hellu\"\n",
    "for letter in stri:\n",
    "    print(letter)"
   ]
  },
  {
   "cell_type": "code",
   "execution_count": null,
   "id": "27e1559a",
   "metadata": {},
   "outputs": [],
   "source": [
    "for letter in 'hellu':\n",
    "    print(letter)"
   ]
  },
  {
   "cell_type": "code",
   "execution_count": null,
   "id": "965bf22d",
   "metadata": {},
   "outputs": [],
   "source": [
    "for _ in \"10000000000000000000000000000000000000000000000000000000000000000000000000000000000000000000000000000000000005awfkhaysfhabhsjdfgaiushjfdhagcsfgudhi00\":\n",
    "    print(\"Cool!\")"
   ]
  },
  {
   "cell_type": "code",
   "execution_count": null,
   "id": "b8d770bb",
   "metadata": {},
   "outputs": [],
   "source": [
    "tup=(1,2,3)\n",
    "\n",
    "for i in tup:\n",
    "    print(i)"
   ]
  },
  {
   "cell_type": "code",
   "execution_count": null,
   "id": "6f153fe2",
   "metadata": {},
   "outputs": [],
   "source": [
    "mylis=[(1,2),(3,4),(5,6),(7,8),(9,10)]\n",
    "for i in mylis:\n",
    "    print(i)"
   ]
  },
  {
   "cell_type": "code",
   "execution_count": null,
   "id": "4ea1e800",
   "metadata": {},
   "outputs": [],
   "source": [
    "malis={\"k1\":\"v1\",\"k2\":'v2'}\n",
    "for i in malis:\n",
    "    print(i)"
   ]
  },
  {
   "cell_type": "code",
   "execution_count": null,
   "id": "b5506d69",
   "metadata": {},
   "outputs": [],
   "source": [
    "for i in\"i dont know you\":\n",
    "    print(i)"
   ]
  },
  {
   "cell_type": "code",
   "execution_count": null,
   "id": "fd535bec",
   "metadata": {},
   "outputs": [],
   "source": [
    "w=\"aeiou\"\n",
    "for letter in w :\n",
    "    print(letter)"
   ]
  },
  {
   "cell_type": "code",
   "execution_count": null,
   "id": "cc7b4fe0",
   "metadata": {},
   "outputs": [],
   "source": [
    "for _ in\"jake paralto\":\n",
    "    print(\"cool!\")"
   ]
  },
  {
   "cell_type": "code",
   "execution_count": null,
   "id": "8d5e8e6f",
   "metadata": {},
   "outputs": [],
   "source": [
    "tup=(1,2,3)\n",
    "for item in tup:\n",
    "    print(item)"
   ]
  },
  {
   "cell_type": "code",
   "execution_count": null,
   "id": "1ed9ec65",
   "metadata": {},
   "outputs": [],
   "source": [
    "mylist=[(1,2),(3,4),(5,6)]"
   ]
  },
  {
   "cell_type": "code",
   "execution_count": null,
   "id": "3dbd5a36",
   "metadata": {},
   "outputs": [],
   "source": [
    "for item in mylist:\n",
    "    print(item)"
   ]
  },
  {
   "cell_type": "code",
   "execution_count": null,
   "id": "34eff0d6",
   "metadata": {},
   "outputs": [],
   "source": [
    "for (a,b) in mylist:\n",
    "    print(a)\n",
    "    print(b)"
   ]
  },
  {
   "cell_type": "code",
   "execution_count": null,
   "id": "2b333dbe",
   "metadata": {},
   "outputs": [],
   "source": [
    "for a,b in mylist:\n",
    "    print(a)"
   ]
  },
  {
   "cell_type": "code",
   "execution_count": null,
   "id": "2662ebdc",
   "metadata": {},
   "outputs": [],
   "source": [
    " mylist= [(1,2,3),(5,6,7),(\"a\",\"b\",\"c\")]"
   ]
  },
  {
   "cell_type": "code",
   "execution_count": null,
   "id": "417bbcf8",
   "metadata": {},
   "outputs": [],
   "source": [
    "for a,b,x in mylist:\n",
    "    print(x)"
   ]
  },
  {
   "cell_type": "code",
   "execution_count": null,
   "id": "15afdeb4",
   "metadata": {},
   "outputs": [],
   "source": [
    "dic={'k1':1,'k2':2,'k3':3}"
   ]
  },
  {
   "cell_type": "code",
   "execution_count": null,
   "id": "5ea9326c",
   "metadata": {},
   "outputs": [],
   "source": [
    "for it in dic:\n",
    "    print(it)"
   ]
  },
  {
   "cell_type": "code",
   "execution_count": null,
   "id": "50f8d63c",
   "metadata": {},
   "outputs": [],
   "source": [
    "for xy,v in dic:\n",
    "    print(xy)\n",
    "    print(v)"
   ]
  },
  {
   "cell_type": "code",
   "execution_count": null,
   "id": "0b1e5d89",
   "metadata": {},
   "outputs": [],
   "source": [
    " \n",
    "    #while loop"
   ]
  },
  {
   "cell_type": "code",
   "execution_count": null,
   "id": "f6d8d3e3",
   "metadata": {},
   "outputs": [],
   "source": [
    "x=0\n",
    "while x<5:\n",
    "    print(f'the current value of x is {x}')\n",
    "    x=x+1"
   ]
  },
  {
   "cell_type": "code",
   "execution_count": null,
   "id": "5dc6cdaa",
   "metadata": {},
   "outputs": [],
   "source": [
    "x=550\n",
    "while x<5:\n",
    "    print(f'the current value of x is {x}')\n",
    "    x=x+1\n",
    "    \n",
    "else:\n",
    "    print(\"insert a  valid number\")"
   ]
  },
  {
   "cell_type": "code",
   "execution_count": null,
   "id": "663f3728",
   "metadata": {},
   "outputs": [],
   "source": [
    "x=[1,2,3]\n",
    "for item in x:\n",
    "    pass\n",
    "print(\"end of this code\")"
   ]
  },
  {
   "cell_type": "code",
   "execution_count": null,
   "id": "050c726d",
   "metadata": {},
   "outputs": [],
   "source": [
    "x=\"kano\""
   ]
  },
  {
   "cell_type": "code",
   "execution_count": null,
   "id": "4cde3d50",
   "metadata": {},
   "outputs": [],
   "source": [
    "for let in x:\n",
    "    print(let)"
   ]
  },
  {
   "cell_type": "code",
   "execution_count": null,
   "id": "ffb02361",
   "metadata": {},
   "outputs": [],
   "source": [
    "for let in x:\n",
    "    if let =='k':\n",
    "        continue\n",
    "    print(let)"
   ]
  },
  {
   "cell_type": "code",
   "execution_count": null,
   "id": "bc5b3a36",
   "metadata": {},
   "outputs": [],
   "source": [
    "for let in x:\n",
    "    if let==\"n\":\n",
    "        break\n",
    "    print(let)"
   ]
  },
  {
   "cell_type": "code",
   "execution_count": null,
   "id": "b1d2ab41",
   "metadata": {},
   "outputs": [],
   "source": [
    "\n",
    "lis=[1,2,3,4,5,6]\n",
    "for num in range(3,10,2):\n",
    "    print(num)"
   ]
  },
  {
   "cell_type": "code",
   "execution_count": null,
   "id": "2786e5e2",
   "metadata": {},
   "outputs": [],
   "source": [
    "lis=[1,2,3,4,5,6]\n",
    "for num in range(3,11,2):\n",
    "    print(num)"
   ]
  },
  {
   "cell_type": "code",
   "execution_count": null,
   "id": "e8750948",
   "metadata": {},
   "outputs": [],
   "source": [
    "list(range(0,11,2))"
   ]
  },
  {
   "cell_type": "code",
   "execution_count": null,
   "id": "fed002ec",
   "metadata": {},
   "outputs": [],
   "source": [
    "index_count=0\n",
    "for letter in \"abcde\":\n",
    "    print(\"at index {}the letter is {}\".format(index_count,letter))\n",
    "    index_count=index_count+1"
   ]
  },
  {
   "cell_type": "code",
   "execution_count": null,
   "id": "8580755d",
   "metadata": {},
   "outputs": [],
   "source": [
    "index=0\n",
    "word=\"abcdefghi\"\n",
    "for let in word:\n",
    "    print(word[index])\n",
    "    index+=1"
   ]
  },
  {
   "cell_type": "code",
   "execution_count": null,
   "id": "f3eb9351",
   "metadata": {},
   "outputs": [],
   "source": [
    "word=\"abcdef\"\n",
    "for item in enumerate(word):\n",
    "    print(index)\n",
    "    print(letter)\n",
    "    print('\\n')"
   ]
  },
  {
   "cell_type": "code",
   "execution_count": null,
   "id": "4839d60d",
   "metadata": {},
   "outputs": [],
   "source": [
    "mylis=[1,2,3]\n",
    "malist=['a','b','c']"
   ]
  },
  {
   "cell_type": "code",
   "execution_count": null,
   "id": "d574ff06",
   "metadata": {},
   "outputs": [],
   "source": [
    "for item in zip(mylis,malist):\n",
    "    print(item)"
   ]
  },
  {
   "cell_type": "code",
   "execution_count": null,
   "id": "f38f629e",
   "metadata": {},
   "outputs": [],
   "source": [
    "mali=[1,5,8]"
   ]
  },
  {
   "cell_type": "code",
   "execution_count": null,
   "id": "b59df697",
   "metadata": {},
   "outputs": [],
   "source": [
    "for item in zip(mylis,malist,mali):\n",
    "    print(item)"
   ]
  },
  {
   "cell_type": "code",
   "execution_count": null,
   "id": "39c9f237",
   "metadata": {},
   "outputs": [],
   "source": [
    "list(zip(mylis,malist,mali))"
   ]
  },
  {
   "cell_type": "code",
   "execution_count": null,
   "id": "53f3d22a",
   "metadata": {},
   "outputs": [],
   "source": [
    "\"y\"in [1,2,3]"
   ]
  },
  {
   "cell_type": "code",
   "execution_count": null,
   "id": "99a78c52",
   "metadata": {},
   "outputs": [],
   "source": [
    "a=1,5,6,9,6\n",
    "1 in a"
   ]
  },
  {
   "cell_type": "code",
   "execution_count": null,
   "id": "36b96569",
   "metadata": {},
   "outputs": [],
   "source": [
    " lis=[1,2,3,4,5,56,6,7,7,6,55,4,4,5,0,6,6666]\n",
    " min(lis)\n",
    "max(lis)"
   ]
  },
  {
   "cell_type": "code",
   "execution_count": null,
   "id": "d12e8c71",
   "metadata": {},
   "outputs": [],
   "source": [
    "from random import shuffle"
   ]
  },
  {
   "cell_type": "code",
   "execution_count": null,
   "id": "318bd98d",
   "metadata": {},
   "outputs": [],
   "source": [
    "shuffle(lis)"
   ]
  },
  {
   "cell_type": "code",
   "execution_count": null,
   "id": "5846462e",
   "metadata": {},
   "outputs": [],
   "source": [
    "lis\n"
   ]
  },
  {
   "cell_type": "code",
   "execution_count": null,
   "id": "33a574bc",
   "metadata": {},
   "outputs": [],
   "source": [
    "from random import randint\n"
   ]
  },
  {
   "cell_type": "code",
   "execution_count": null,
   "id": "34be53ea",
   "metadata": {},
   "outputs": [],
   "source": [
    "randint(0,9)"
   ]
  },
  {
   "cell_type": "code",
   "execution_count": null,
   "id": "5281d71f",
   "metadata": {},
   "outputs": [],
   "source": [
    "mynum=randint(0,80)\n",
    "mynum"
   ]
  },
  {
   "cell_type": "code",
   "execution_count": null,
   "id": "e21ccaef",
   "metadata": {},
   "outputs": [],
   "source": [
    "it=input(\"enter a number here\")"
   ]
  },
  {
   "cell_type": "code",
   "execution_count": null,
   "id": "95e9bf2f",
   "metadata": {},
   "outputs": [],
   "source": [
    "inp=input(\"enter some number\")"
   ]
  },
  {
   "cell_type": "markdown",
   "id": "b5ebc905",
   "metadata": {},
   "source": [
    "inp"
   ]
  },
  {
   "cell_type": "code",
   "execution_count": null,
   "id": "3c010162",
   "metadata": {},
   "outputs": [],
   "source": [
    "inp"
   ]
  },
  {
   "cell_type": "code",
   "execution_count": null,
   "id": "3b1d4b42",
   "metadata": {},
   "outputs": [],
   "source": [
    "res=int(input(\"enter your fav number \"))"
   ]
  },
  {
   "cell_type": "code",
   "execution_count": null,
   "id": "c10a7418",
   "metadata": {},
   "outputs": [],
   "source": [
    "result=int(input('enter your fav number ')"
   ]
  },
  {
   "cell_type": "code",
   "execution_count": null,
   "id": "e0e1fd5a",
   "metadata": {},
   "outputs": [],
   "source": [
    "strin=\"hello\"\n"
   ]
  },
  {
   "cell_type": "markdown",
   "id": "042dfb94",
   "metadata": {},
   "source": [
    " "
   ]
  },
  {
   "cell_type": "code",
   "execution_count": null,
   "id": "17f2815c",
   "metadata": {},
   "outputs": [],
   "source": [
    "mylist=[1,2,3,4]"
   ]
  },
  {
   "cell_type": "code",
   "execution_count": null,
   "id": "b52843d5",
   "metadata": {},
   "outputs": [],
   "source": [
    "mylist.pop()"
   ]
  },
  {
   "cell_type": "code",
   "execution_count": null,
   "id": "90233220",
   "metadata": {},
   "outputs": [],
   "source": [
    "mylist"
   ]
  },
  {
   "cell_type": "code",
   "execution_count": null,
   "id": "3ab3c294",
   "metadata": {},
   "outputs": [],
   "source": [
    "help(mylist.insert)"
   ]
  },
  {
   "cell_type": "code",
   "execution_count": null,
   "id": "f86eaeba",
   "metadata": {},
   "outputs": [],
   "source": [
    "def insert(i,x):\n",
    "    n=x+i\n",
    "    print(n)"
   ]
  },
  {
   "cell_type": "code",
   "execution_count": null,
   "id": "9a21cb18",
   "metadata": {},
   "outputs": [],
   "source": [
    "insert(5,9)"
   ]
  },
  {
   "cell_type": "code",
   "execution_count": null,
   "id": "944e9448",
   "metadata": {},
   "outputs": [],
   "source": [
    "def calc(x,y,op):\n",
    "    if(op==\"+\"):\n",
    "        print(x+y)\n",
    "    elif(op==\"-\"):\n",
    "        print(x-y)\n",
    "    elif(op==\"*\"):\n",
    "        print(x*y)\n",
    "    elif(op==\"/\"):\n",
    "        print(x/y)\n",
    "    else:\n",
    "        print(\"enter a valid operator\")\n",
    "    \n",
    "    \n",
    "        \n",
    "    "
   ]
  },
  {
   "cell_type": "code",
   "execution_count": null,
   "id": "c7d74abc",
   "metadata": {},
   "outputs": [],
   "source": [
    "x=int(input(\"enter the value of x\"))\n",
    "y=int(input(\"enter the value of y\"))\n",
    "op=input(\"enter the operator + - * /\")\n",
    "calc(x,y,op)"
   ]
  },
  {
   "cell_type": "code",
   "execution_count": null,
   "id": "b26139d0",
   "metadata": {},
   "outputs": [],
   "source": [
    "def even(x):\n",
    "    if x%2==0:\n",
    "        print(\" is a even number\")\n",
    "    else:\n",
    "        print(\"is not a even number\")"
   ]
  },
  {
   "cell_type": "code",
   "execution_count": null,
   "id": "6f5d17b8",
   "metadata": {},
   "outputs": [],
   "source": [
    "x=int(input(\"Enter the number for x\"))\n",
    "even(x)"
   ]
  },
  {
   "cell_type": "code",
   "execution_count": null,
   "id": "8a97c2af",
   "metadata": {},
   "outputs": [],
   "source": [
    "#RETURN TRUE IF ANY NUMBER IS EVEN INSIDE A LIST"
   ]
  },
  {
   "cell_type": "code",
   "execution_count": null,
   "id": "9274b701",
   "metadata": {},
   "outputs": [],
   "source": [
    "def check_Even(list):\n",
    "    for i in list:\n",
    "        if i%2==0:\n",
    "            return i\n",
    "        else:    \n",
    "            pass  "
   ]
  },
  {
   "cell_type": "code",
   "execution_count": null,
   "id": "5d0647f9",
   "metadata": {},
   "outputs": [],
   "source": [
    "listt=[1,5,8,9]\n",
    "check_Even(listt)"
   ]
  },
  {
   "cell_type": "code",
   "execution_count": null,
   "id": "1ab62aad",
   "metadata": {},
   "outputs": [],
   "source": [
    "def even( x):\n",
    "    if(x%2==0):\n",
    "        print(\"x is a prime number\")\n",
    "    else:\n",
    "        print(\"this is not a prime number\")"
   ]
  },
  {
   "cell_type": "code",
   "execution_count": null,
   "id": "0b625394",
   "metadata": {},
   "outputs": [],
   "source": [
    "x=int(input(\"enter the number to check\"))\n",
    "even(x)"
   ]
  },
  {
   "cell_type": "code",
   "execution_count": null,
   "id": "2c4d761d",
   "metadata": {},
   "outputs": [],
   "source": [
    "def arr(x):\n",
    "    for i in x:\n",
    "        sum=sum+i\n",
    "        \n",
    "    print(\"the sum is \"sum)\n",
    "        "
   ]
  },
  {
   "cell_type": "code",
   "execution_count": null,
   "id": "fb588e8c",
   "metadata": {},
   "outputs": [],
   "source": [
    "def say_hello(name):\n",
    "    print(name,\"daale\")"
   ]
  },
  {
   "cell_type": "code",
   "execution_count": null,
   "id": "63fd30f7",
   "metadata": {},
   "outputs": [],
   "source": [
    "say_hello(\"mahesh\")"
   ]
  },
  {
   "cell_type": "code",
   "execution_count": null,
   "id": "00f82777",
   "metadata": {},
   "outputs": [],
   "source": [
    "def sun(n1,n2):\n",
    "    return n1+n2\n",
    "sun(8,9)\n",
    "\n"
   ]
  },
  {
   "cell_type": "code",
   "execution_count": null,
   "id": "df9ce05c",
   "metadata": {},
   "outputs": [],
   "source": [
    "sun(8,9)\n"
   ]
  },
  {
   "cell_type": "code",
   "execution_count": null,
   "id": "5762ccd4",
   "metadata": {},
   "outputs": [],
   "source": [
    "def myfun(a,b):\n",
    "    int(a,b)\n",
    "    print(a+b)\n",
    "    return a+b\n",
    "   "
   ]
  },
  {
   "cell_type": "code",
   "execution_count": null,
   "id": "52d69e9b",
   "metadata": {},
   "outputs": [],
   "source": [
    "mulis=[1,3,5,]        \n",
    "def even_ch(lis):\n",
    "    for i in lis:\n",
    "        if i%2==0:\n",
    "            return True\n",
    "    return False"
   ]
  },
  {
   "cell_type": "code",
   "execution_count": null,
   "id": "1499e501",
   "metadata": {},
   "outputs": [],
   "source": [
    "even_ch(mulis)"
   ]
  },
  {
   "cell_type": "code",
   "execution_count": null,
   "id": "168fdb32",
   "metadata": {},
   "outputs": [],
   "source": [
    "def evenchecker(l):\n",
    "    evenu=[]\n",
    "    for i in l:\n",
    "        if i%2==0:\n",
    "            evenu.append(i)\n",
    "        else:pass\n",
    "    print(evenu)"
   ]
  },
  {
   "cell_type": "code",
   "execution_count": null,
   "id": "ef680979",
   "metadata": {},
   "outputs": [],
   "source": [
    "evenchecker([1,2,3,4,54,4,3,4,5,4,33,3])"
   ]
  },
  {
   "cell_type": "code",
   "execution_count": null,
   "id": "c6618deb",
   "metadata": {},
   "outputs": [],
   "source": [
    "#tuple unpacking"
   ]
  },
  {
   "cell_type": "code",
   "execution_count": null,
   "id": "ddc7c293",
   "metadata": {},
   "outputs": [],
   "source": []
  },
  {
   "cell_type": "code",
   "execution_count": null,
   "id": "1f3c17d9",
   "metadata": {},
   "outputs": [],
   "source": [
    "def bestemp(work):\n",
    "    \n",
    "    maxx=0\n",
    "    empom=\"\"\n",
    "    \n",
    "    for name,hour in work:\n",
    "        if hour>maxx:\n",
    "            maxx=hour\n",
    "            empom=name\n",
    "        else :\n",
    "            pass\n",
    "        \n",
    "    return(maxx,empom)\n",
    "        \n",
    "    "
   ]
  },
  {
   "cell_type": "code",
   "execution_count": null,
   "id": "3663015e",
   "metadata": {},
   "outputs": [],
   "source": [
    "work=[('aby',100),('pussy',500),(\"kate\",260),(\"namen\",520000)]"
   ]
  },
  {
   "cell_type": "code",
   "execution_count": null,
   "id": "97b6cd1a",
   "metadata": {},
   "outputs": [],
   "source": [
    "bestemp(work)"
   ]
  },
  {
   "cell_type": "code",
   "execution_count": null,
   "id": "c2ae9ba8",
   "metadata": {},
   "outputs": [],
   "source": [
    "hour,name=bestemp(work)"
   ]
  },
  {
   "cell_type": "code",
   "execution_count": null,
   "id": "0f4535b3",
   "metadata": {},
   "outputs": [],
   "source": [
    "hour"
   ]
  },
  {
   "cell_type": "code",
   "execution_count": null,
   "id": "090ac758",
   "metadata": {},
   "outputs": [],
   "source": [
    "example =[1,2,3,4,5,67]"
   ]
  },
  {
   "cell_type": "code",
   "execution_count": null,
   "id": "c6010605",
   "metadata": {},
   "outputs": [],
   "source": [
    "from random import shuffle"
   ]
  },
  {
   "cell_type": "code",
   "execution_count": null,
   "id": "611cf50f",
   "metadata": {},
   "outputs": [],
   "source": [
    "def shuff(ex):\n",
    "    shuffle(ex)\n",
    "    print(ex)"
   ]
  },
  {
   "cell_type": "code",
   "execution_count": null,
   "id": "55babb9a",
   "metadata": {},
   "outputs": [],
   "source": [
    "shuff(example)\n"
   ]
  },
  {
   "cell_type": "code",
   "execution_count": null,
   "id": "1fe4e31b",
   "metadata": {},
   "outputs": [],
   "source": [
    "mylis=[' ','O',' ']\n",
    "shuff(mylis)\n"
   ]
  },
  {
   "cell_type": "code",
   "execution_count": null,
   "id": "f85aeaf6",
   "metadata": {},
   "outputs": [],
   "source": [
    "x=int(input(\"enter you guess enter 1 for 1st cup 2 for 3 for third cup\"))\n",
    "if mylis(x)=='O':\n",
    "    print(\"correct guess\")\n",
    "else:\n",
    "    print(\"Wrong guess\")\n"
   ]
  },
  {
   "cell_type": "code",
   "execution_count": null,
   "id": "e5ead05a",
   "metadata": {},
   "outputs": [],
   "source": [
    "# Write a Python program to find the best of two test average marks out of three test marks\n",
    "#accepted by the user.\n",
    "a=int(input(\"enter the marks of the 1st marks \"))\n",
    "b=int(input(\"enter the marks of the 2nd marks \"))\n",
    "c=int(input(\"enter the marks of the 3rd marks \"))\n",
    "\n",
    "if a>b and a>c:\n",
    "    if b>c:\n",
    "        sum=(a+b)/2\n",
    "    else:\n",
    "        sum=(a+c)/2\n",
    "elif b>a and b>c:\n",
    "    if a>c:\n",
    "        sum=(b+a)/2\n",
    "    else:\n",
    "        sum=(b+c)/2\n",
    "elif c>a and c>b:\n",
    "    if a>b:\n",
    "        sum=(c+a)/2\n",
    "    else:\n",
    "        sum=(c+b)/2\n",
    "print(\"the average of the best two out of three tests is\",sum)\n",
    "    "
   ]
  },
  {
   "cell_type": "code",
   "execution_count": null,
   "id": "aaff833b",
   "metadata": {},
   "outputs": [],
   "source": [
    "x=int(input(\"Enter the number to be searched\"))\n",
    "c0,c1,=0,0\n",
    "num=x\n",
    "rev=0\n",
    "while x>0:\n",
    "    r=x%10\n",
    "    rev=rev*10+r\n",
    "    x=x//10\n",
    "if r==0:\n",
    "    c0+=1\n",
    "elif r==1:\n",
    "    c1+=1\n",
    "elif r==2:\n",
    "    c2+=1\n",
    "elif r==3:\n",
    "    c3+=1\n",
    "elif r==4:\n",
    "    c4+=1\n",
    "elif r==5:\n",
    "    c5+=1\n",
    "elif r==6:\n",
    "    c6+=1\n",
    "elif r==7:\n",
    "    c7+=1\n",
    "elif r==8:\n",
    "    c8+=1\n",
    "elif r==9:\n",
    "    c9+=1\n",
    "if rev==num:\n",
    "    print(\"the number is palindrom\")\n",
    "else:\n",
    "    print(\"the number is not palindrom\")\n",
    "print(\"the occurance of 0 is{0},1 is {1}\".format(c0,c1))"
   ]
  },
  {
   "cell_type": "code",
   "execution_count": null,
   "id": "39e47458",
   "metadata": {},
   "outputs": [],
   "source": [
    "def fn(n):\n",
    "    if n==1:\n",
    "        return 0\n",
    "    elif n==2:\n",
    "        return 1\n",
    "    else:\n",
    "        return fn(n-1)+fn(n-2)\n",
    "num=int(input(\"enter the number\"))\n",
    "if num>0:\n",
    "    print(\"fn(\",num,\")=\",fn(num))\n",
    "else:\n",
    "    print(\"error\")"
   ]
  },
  {
   "cell_type": "code",
   "execution_count": null,
   "id": "efe6b0c0",
   "metadata": {},
   "outputs": [],
   "source": [
    "x=int(input(\"Enter the string\"))\n",
    "c0,c1,c2,c3,c4,c5,c6,c7,c8,c9=0,0,0,0,0,0,0,0,0,0\n",
    "num=x\n",
    "r=0\n",
    "while x>0:\n",
    "    r=x%10\n",
    "    rev=rev*10+r\n",
    "    x=x//10"
   ]
  },
  {
   "cell_type": "code",
   "execution_count": null,
   "id": "484ac9c5",
   "metadata": {},
   "outputs": [],
   "source": [
    "x=input(\"enter the string\")\n",
    "digit,lower,upper=0,0,0\n",
    "print(\"there are\",len(x.split()),\"in the string\")\n",
    "for i in x:\n",
    "    if i.isdigit():\n",
    "        digit+=1\n",
    "    elif i.islower():\n",
    "        lower+=1\n",
    "    elif i.isupper():\n",
    "        upper+=1\n",
    "print(\"there are {0}digits ,{1}upper case letters and {2}lower cases in the world\".format(digit,upper,lower))\n",
    "            "
   ]
  },
  {
   "cell_type": "code",
   "execution_count": null,
   "id": "8036abbb",
   "metadata": {},
   "outputs": [],
   "source": [
    "x=input(\"Enter the string\")\n",
    "print(\"the entered string has \",len(x.split()),\"letters\")\n",
    "digit,lower,upper=0,0,0\n",
    "for i in x:\n",
    "    if i.isdigit():\n",
    "        digit+=1\n",
    "    elif i.islower():\n",
    "        lower+=1\n",
    "    elif i.isupper():\n",
    "        upper+=1\n",
    "print(\"there are {0}digits , {1}lower case and {2}upper case letter\".format(digit,lower,upper))"
   ]
  },
  {
   "cell_type": "code",
   "execution_count": null,
   "id": "ca3a37ca",
   "metadata": {},
   "outputs": [],
   "source": [
    "x=input(\"Enter the string\")\n",
    "y=input(\"Enter the string\")\n",
    "x=x.strip()\n",
    "y=y.strip()\n",
    "sim=0\n",
    "if len(x)>len(y):\n",
    "    xx=x\n",
    "    yy=y\n",
    "else:\n",
    "    xx=y\n",
    "    yy=x\n",
    "j=0\n",
    "for i in yy:\n",
    "    if i==xx[j]:\n",
    "        sim+=1\n",
    "    else:\n",
    "        pass\n",
    "    j+=1\n",
    "similarity=(sim/len(xx))\n",
    "print(similarity)"
   ]
  },
  {
   "cell_type": "code",
   "execution_count": null,
   "id": "a701200f",
   "metadata": {},
   "outputs": [],
   "source": [
    "import re\n",
    "def isphonenumber(x):\n",
    "    for i in x:\n",
    "        if i==0 or i==1 or i==2:\n",
    "            if x[i].isdigit==false:\n",
    "                return 0\n",
    "        elif i==4 or i==5 or i==6:\n",
    "            if x[i].isdigit==false:\n",
    "                return 0\n",
    "        elif i==8 or i==9 or i==10:\n",
    "            if x[i].isdigit==false:\n",
    "                return 0\n",
    "        elif i==3 or i==7:\n",
    "            if x[i]!='-':\n",
    "                return 0\n",
    "        return 1\n",
    "def REisphonenumber(x):\n",
    "    pno=re.compile(r'\\d\\d\\d-\\d\\d\\d-\\d\\d\\d\\d')\n",
    "    if pno.match(x):\n",
    "        return 1\n",
    "    else:\n",
    "        return 0\n",
    "phoneno=input(\"enter the number in the formate ddd ddd dddd\")\n",
    "ch=int(input(\"enter 1 for checking manually and enter 2 for checking using RE\"))\n",
    "if ch==1:\n",
    "    if isphonenumber(phoneno)==1:\n",
    "        print(\"you have enterd a correct number\")\n",
    "    else :\n",
    "        print(\"you have entered a invalid number\")\n",
    "elif ch==2:\n",
    "    if REisphonenumber(phoneno)==1:\n",
    "        print(\"you have enterd a correct number\")\n",
    "    else:\n",
    "        print(\"you have ented a invalid number\")"
   ]
  },
  {
   "cell_type": "code",
   "execution_count": null,
   "id": "53da4be8",
   "metadata": {},
   "outputs": [],
   "source": [
    "import re\n",
    "try:\n",
    "        file=open(\"data.txt\")\n",
    "        for line in file:\n",
    "            line=line.strip()\n",
    "            match=re.findall(r\"\\d{10}\",line)\n",
    "            if len(match)>0:\n",
    "                print(match)\n",
    "            email=re.findall(\"[0-9a-zA-z]+@[0-9a-zA-z]+\\.[0-9a-zA-z]+\",line)\n",
    "            if len(email)>0:\n",
    "                print(email)\n",
    "except FileNotFoundError as e:\n",
    "        print(e)"
   ]
  },
  {
   "cell_type": "code",
   "execution_count": null,
   "id": "117422a9",
   "metadata": {},
   "outputs": [],
   "source": [
    "\n",
    "def bintode(x):\n",
    "    dec=0\n",
    "    i=0\n",
    "    while x>0:\n",
    "        r=x%10\n",
    "        if r!=0 and r!=1:\n",
    "            print(\"enter a valid number\")\n",
    "        else:\n",
    "            dec=dec+r*2**i\n",
    "            x=x//10\n",
    "            i+=1\n",
    "    return dec\n",
    "def octatohex(n):\n",
    "    num=n\n",
    "    dec=0\n",
    "    base=1\n",
    "    temp=num\n",
    "    while temp:\n",
    "        r=temp%10\n",
    "        temp=temp//10\n",
    "        dec+=base*r\n",
    "        base=base*8\n",
    "    result=\"\"\n",
    "    while dec!=0:\n",
    "        temp=0\n",
    "        temp=dec%16\n",
    "        if temp<10:\n",
    "            result=str(temp)+result\n",
    "        else:\n",
    "            result=chr(temp+55)+result\n",
    "        dec=dec//16\n",
    "    return result\n",
    "    "
   ]
  },
  {
   "cell_type": "code",
   "execution_count": null,
   "id": "f8bc4a64",
   "metadata": {},
   "outputs": [],
   "source": [
    "def int_to_rom(s):\n",
    "    rom_val={'I':1,'V':5,'X':10,'L':50,'C':100,'D':500,'M':1000}\n",
    "    int_val=0\n",
    "    for i in range(len(s)):\n",
    "        if i>0 and rom_val[s[i]]>rom_val[s[i-1]]:\n",
    "            int_val+=rom_val[s[i]]-2*rom_val[s[i-1]]\n",
    "        else:\n",
    "            int_val+=rom_val[s[i]]\n",
    "    return int_val\n",
    "x=input(\"enter the roman number\")\n",
    "print(int_to_rom(x.upper()))"
   ]
  },
  {
   "cell_type": "code",
   "execution_count": null,
   "id": "3ebd9e21",
   "metadata": {},
   "outputs": [],
   "source": [
    "#key arguments (krgs,args)\n",
    "\n",
    "\n",
    "def sum(a,b):\n",
    "    return a+b\n",
    "sum(10,0)\n"
   ]
  },
  {
   "cell_type": "code",
   "execution_count": null,
   "id": "87eb24ee",
   "metadata": {},
   "outputs": [],
   "source": [
    "def myfunc(*args):\n",
    "    for arg in args:\n",
    "        print(arg)"
   ]
  },
  {
   "cell_type": "code",
   "execution_count": null,
   "id": "e51d0822",
   "metadata": {},
   "outputs": [],
   "source": [
    "myfunc('hello','welcome')"
   ]
  },
  {
   "cell_type": "code",
   "execution_count": null,
   "id": "f467d4ce",
   "metadata": {},
   "outputs": [],
   "source": [
    "def myfuncc(*args):\n",
    "    return args*5"
   ]
  },
  {
   "cell_type": "code",
   "execution_count": null,
   "id": "5978ccf9",
   "metadata": {},
   "outputs": [],
   "source": [
    "myfuncc(5,9)"
   ]
  },
  {
   "cell_type": "code",
   "execution_count": null,
   "id": "9e3493b9",
   "metadata": {},
   "outputs": [],
   "source": [
    "def myfun(*args):\n",
    "    su=sum(args)*10\n",
    "    return su"
   ]
  },
  {
   "cell_type": "code",
   "execution_count": null,
   "id": "b757f7c9",
   "metadata": {},
   "outputs": [],
   "source": [
    "myfun(5,4,5,4)"
   ]
  },
  {
   "cell_type": "code",
   "execution_count": null,
   "id": "7e1693d4",
   "metadata": {},
   "outputs": [],
   "source": [
    "def myfunc(**kwargs):\n",
    "    if \"fruit\" in kwargs:\n",
    "        print('my fruit for choice is {}'.format(kwargs['fruit']))\n",
    "    elif\"veggies\" in kwargs:\n",
    "        print('my veggie of choice is {}'.format(kwargs[veggies]))\n",
    "    else:\n",
    "        print('i did not find any fruits here')"
   ]
  },
  {
   "cell_type": "code",
   "execution_count": null,
   "id": "2eeb0c07",
   "metadata": {},
   "outputs": [],
   "source": [
    "myfunc(fruit='apple')"
   ]
  },
  {
   "cell_type": "code",
   "execution_count": null,
   "id": "ffb075fb",
   "metadata": {},
   "outputs": [],
   "source": [
    "myfunc(fruit='apple',veggie='lettuce')\n",
    "    "
   ]
  },
  {
   "cell_type": "code",
   "execution_count": null,
   "id": "43298108",
   "metadata": {},
   "outputs": [],
   "source": [
    "def myfunc(*args,**kwargs):\n",
    "    print('i would like {}{}'.format(args[0],kwargs['fruit']))"
   ]
  },
  {
   "cell_type": "code",
   "execution_count": null,
   "id": "1806da54",
   "metadata": {},
   "outputs": [],
   "source": [
    "myfunc(10,20,30,fruit=\"baanan\")\n"
   ]
  },
  {
   "cell_type": "code",
   "execution_count": null,
   "id": "1f09fdc2",
   "metadata": {},
   "outputs": [],
   "source": [
    "x=[1,23,4,5,6,]\n",
    "def mydef(x):\n",
    "    for i in x:\n",
    "        if x%2==0:\n",
    "            list(q)\n",
    "        else:\n",
    "            pass\n",
    "    return q"
   ]
  },
  {
   "cell_type": "code",
   "execution_count": null,
   "id": "c0101ea0",
   "metadata": {},
   "outputs": [],
   "source": [
    "\n",
    "la=[2,9,5,6,7]\n",
    "mydef(la)"
   ]
  },
  {
   "cell_type": "code",
   "execution_count": null,
   "id": "29db6b82",
   "metadata": {},
   "outputs": [],
   "source": [
    "#lambda and maps and filters"
   ]
  },
  {
   "cell_type": "code",
   "execution_count": null,
   "id": "f121715e",
   "metadata": {},
   "outputs": [],
   "source": [
    "def squa(num):\n",
    "    return num**2"
   ]
  },
  {
   "cell_type": "code",
   "execution_count": null,
   "id": "e0e6de55",
   "metadata": {},
   "outputs": [],
   "source": [
    "mynu=[1,2,3,4]\n"
   ]
  },
  {
   "cell_type": "code",
   "execution_count": null,
   "id": "7f41b3b6",
   "metadata": {},
   "outputs": [],
   "source": [
    "for i in map(squa,mynu):\n",
    "    print(i)"
   ]
  },
  {
   "cell_type": "code",
   "execution_count": null,
   "id": "c8e7e457",
   "metadata": {},
   "outputs": [],
   "source": [
    "0x1ac7ceaa590\n"
   ]
  },
  {
   "cell_type": "code",
   "execution_count": null,
   "id": "b8737780",
   "metadata": {},
   "outputs": [],
   "source": [
    "def spid(mystring):\n",
    "    if len(mystring)%2==0:\n",
    "        return'even'\n",
    "    else:\n",
    "        return mystring[0]"
   ]
  },
  {
   "cell_type": "code",
   "execution_count": null,
   "id": "9bb0946d",
   "metadata": {},
   "outputs": [],
   "source": [
    "names=['andy','sol','allen']"
   ]
  },
  {
   "cell_type": "code",
   "execution_count": null,
   "id": "102c0f88",
   "metadata": {},
   "outputs": [],
   "source": [
    "list(map(spid,names))"
   ]
  },
  {
   "cell_type": "code",
   "execution_count": null,
   "id": "241e0a5f",
   "metadata": {},
   "outputs": [],
   "source": [
    "def check_even(num):\n",
    "    return num%2==0\n"
   ]
  },
  {
   "cell_type": "code",
   "execution_count": null,
   "id": "b61a2de3",
   "metadata": {},
   "outputs": [],
   "source": [
    "mynums=[2,34,5,6,3]"
   ]
  },
  {
   "cell_type": "code",
   "execution_count": null,
   "id": "4d4ce329",
   "metadata": {},
   "outputs": [],
   "source": [
    "list(filter(check_even,mynums))"
   ]
  },
  {
   "cell_type": "code",
   "execution_count": null,
   "id": "8f0edf77",
   "metadata": {},
   "outputs": [],
   "source": [
    "def square(num):\n",
    "    result=num**2\n",
    "    return result\n"
   ]
  },
  {
   "cell_type": "code",
   "execution_count": null,
   "id": "1ab5bcd3",
   "metadata": {},
   "outputs": [],
   "source": [
    "square(3)"
   ]
  },
  {
   "cell_type": "code",
   "execution_count": null,
   "id": "161c0923",
   "metadata": {},
   "outputs": [],
   "source": [
    "square=lambda num:num**2 "
   ]
  },
  {
   "cell_type": "code",
   "execution_count": null,
   "id": "e822e5cb",
   "metadata": {},
   "outputs": [],
   "source": [
    "square(5)"
   ]
  },
  {
   "cell_type": "code",
   "execution_count": null,
   "id": "8c253420",
   "metadata": {},
   "outputs": [],
   "source": [
    "list(filter(lambda num:num%2==0,mynums))"
   ]
  },
  {
   "cell_type": "code",
   "execution_count": null,
   "id": "0d123b2c",
   "metadata": {},
   "outputs": [],
   "source": [
    "list(map(lambda name:name[0],names))"
   ]
  },
  {
   "cell_type": "code",
   "execution_count": null,
   "id": "72e96c5a",
   "metadata": {},
   "outputs": [],
   "source": [
    "list(map(lambda name:name[::-1],names))"
   ]
  },
  {
   "cell_type": "code",
   "execution_count": null,
   "id": "94470461",
   "metadata": {},
   "outputs": [],
   "source": [
    "#LEGB RULE:Local Enclosing local,Global,Builtin  "
   ]
  },
  {
   "cell_type": "code",
   "execution_count": null,
   "id": "bea9feba",
   "metadata": {},
   "outputs": [],
   "source": [
    "def vol(Rad):\n",
    "    return 4/3*(2.1432*Rad)"
   ]
  },
  {
   "cell_type": "code",
   "execution_count": null,
   "id": "7280cfcc",
   "metadata": {},
   "outputs": [],
   "source": [
    "vol(2)"
   ]
  },
  {
   "cell_type": "code",
   "execution_count": null,
   "id": "753e7f12",
   "metadata": {},
   "outputs": [],
   "source": []
  },
  {
   "cell_type": "code",
   "execution_count": null,
   "id": "dc0b35cc",
   "metadata": {},
   "outputs": [],
   "source": [
    "inputFile='data.txt'\n",
    "N=int(input(\"Enter N values\"))\n",
    "with open (inputFile,'r')as filedata:\n",
    "    lineslist=filedata.readlines()\n",
    "    print(\"the following are the first lines of text file\")\n",
    "    for textline in (lineslist[:N]):\n",
    "        print(textline)\n",
    "word=input(\"enter\")\n",
    "k=0\n",
    "with open(inputFile,'r')as f:\n",
    "    for lines in f:\n",
    "        words =lines.split()\n",
    "        for i in words:\n",
    "            if(i==word):\n",
    "                k=k+1\n",
    "print(k)\n",
    "filedata.close()"
   ]
  },
  {
   "cell_type": "code",
   "execution_count": null,
   "id": "9877d0df",
   "metadata": {},
   "outputs": [],
   "source": [
    "from zipfile import ZipFile\n",
    "import os\n",
    "from os.path import basename\n",
    "with ZipFile('F:\\SampleDirZipFile','w')as zipObj:\n",
    "    for foldername,subfolders,filenames in os.walk(\"F:\\SampleDir\"):\n",
    "        for filename in filenames:\n",
    "            print(folderName,subfolders,filename)\n",
    "            filePath=os.path.join(folderName,filename)\n",
    "            zipObj.write(filePath,basename(filepath))\n",
    "print('created')"
   ]
  },
  {
   "cell_type": "code",
   "execution_count": null,
   "id": "a0f42eec",
   "metadata": {
    "scrolled": true
   },
   "outputs": [],
   "source": [
    "class shape:\n",
    "    area,radius,length,breadth,a,b,c=0,0,0,0,0,0,0\n",
    "#    def __init__(self,r):\n",
    "#        self.radius=r\n",
    "#    def __init__(self,l,b):\n",
    "#        self.length=l\n",
    "#        self.breadth=b\n",
    "    def __init__(self,a,b,c):\n",
    "        self.a=a\n",
    "        self.b=b\n",
    "        self.c=c\n",
    "#class Circle(shape):\n",
    "#    def __init__(self,r):\n",
    " #       super().__init__(r)\n",
    " #   def area(self):\n",
    "#        print(\"The area of the triangle is\"3.142*r*r)\n",
    "#class rectangle(Shape):\n",
    "#    def __init__(self,l,b)\n",
    "#    super().__init__(l,b)\n",
    "#    def area(Self):\n",
    "#        print(\"the area of the rectange is\"l*b)\n",
    "\n",
    "class Triangle(shape):\n",
    "    def __init(self,a,b,c):\n",
    "        super(). __init__(a,b,c)\n",
    "    def area(self):\n",
    "        s=(self.a+self.b+c)\n",
    "    import math\n",
    "    print(\"the area of triangle is\",math.sqrt(s*(s-a)*(s-b)*(s-c)))"
   ]
  },
  {
   "cell_type": "code",
   "execution_count": null,
   "id": "59fe3f16",
   "metadata": {},
   "outputs": [],
   "source": [
    "class dog():\n",
    "    def __init__(self, height):\n",
    "        print(\"init function\")\n",
    "        self.height = height\n",
    "    \n",
    "    def tell_the_height(self):\n",
    "        print(self.height)\n",
    "        \n",
    "    def height_told(self):\n",
    "        print(self.height_told)\n",
    "        \n",
    "lobrodor = dog(5)\n",
    "pug = dog(3)\n"
   ]
  },
  {
   "cell_type": "code",
   "execution_count": null,
   "id": "31abf8d7",
   "metadata": {},
   "outputs": [],
   "source": [
    "pug.height_told()"
   ]
  },
  {
   "cell_type": "code",
   "execution_count": null,
   "id": "caf8ff02",
   "metadata": {},
   "outputs": [],
   "source": [
    "import requests\n",
    "res = requests.get('https://ipinfo.io/')\n",
    "data = res.json()\n",
    "citydata = data['city']\n",
    "print(citydata)\n",
    "url = 'https://wttr.in/{}'.format(citydata)\n",
    "res = requests.get(url)\n",
    "print(res.text)"
   ]
  },
  {
   "cell_type": "code",
   "execution_count": null,
   "id": "6daf32d4",
   "metadata": {},
   "outputs": [],
   "source": [
    "def leapyear(year):\n",
    "    if(year%4==0):\n",
    "        print(\"leap year\")\n",
    "    else:\n",
    "        print(\"not a leap year\")"
   ]
  },
  {
   "cell_type": "code",
   "execution_count": null,
   "id": "fa5abce8",
   "metadata": {},
   "outputs": [],
   "source": [
    "leapyear(2011)"
   ]
  },
  {
   "cell_type": "code",
   "execution_count": null,
   "id": "0d778574",
   "metadata": {},
   "outputs": [],
   "source": [
    "import calendar\n",
    "\n",
    "# Input the year and month from the user\n",
    "year = int(input(\"Enter the year: \"))\n",
    "month = int(input(\"Enter the month (1-12): \"))\n",
    "\n",
    "# Create a calendar object for the specified year and month\n",
    "cal = calendar.month(year,month)\n",
    "\n",
    "# Display the calendar\n",
    "print(\"\\nCalendar:\")\n",
    "print(cal)"
   ]
  },
  {
   "cell_type": "code",
   "execution_count": null,
   "id": "c5faedca",
   "metadata": {},
   "outputs": [],
   "source": [
    "print([1,3,4])"
   ]
  },
  {
   "cell_type": "code",
   "execution_count": null,
   "id": "0d82badb",
   "metadata": {},
   "outputs": [],
   "source": [
    "def user_choice():\n",
    "    \n",
    "    choice =input(\"Please enter a number(0-10):\")\n",
    "    \n",
    "    return int(choice)\n"
   ]
  },
  {
   "cell_type": "code",
   "execution_count": null,
   "id": "3a767366",
   "metadata": {},
   "outputs": [],
   "source": [
    "user_choice()"
   ]
  },
  {
   "cell_type": "code",
   "execution_count": null,
   "id": "ec5b6999",
   "metadata": {},
   "outputs": [],
   "source": [
    "game_list=[0,1,2]"
   ]
  },
  {
   "cell_type": "code",
   "execution_count": null,
   "id": "e57bfca0",
   "metadata": {},
   "outputs": [],
   "source": [
    "def display_game(game_list):\n",
    "    print(\"here is the current list:\")\n",
    "    print(game_list)"
   ]
  },
  {
   "cell_type": "code",
   "execution_count": null,
   "id": "010eda96",
   "metadata": {},
   "outputs": [],
   "source": [
    "def position_choice():\n",
    "    \n",
    "    choice='wrong'\n",
    "    while choice not in['0','1','2']:\n",
    "        choice=input(\"pick a position(0,1,2):\")\n",
    "        if choice not in['0','1','2']:\n",
    "            print(\"sorry,invalid choice!\")\n",
    "    return int(choice)"
   ]
  },
  {
   "cell_type": "code",
   "execution_count": null,
   "id": "03f3f6b9",
   "metadata": {},
   "outputs": [],
   "source": [
    "position_choice()"
   ]
  },
  {
   "cell_type": "code",
   "execution_count": null,
   "id": "b0dfc8ce",
   "metadata": {},
   "outputs": [],
   "source": [
    "def replacement_choice(game_list,position):\n",
    "    user_placement=input(\"type a string to place at position:\")\n",
    "    game_list[position]=user_placement\n",
    "    return game_list"
   ]
  },
  {
   "cell_type": "code",
   "execution_count": null,
   "id": "75d293b3",
   "metadata": {},
   "outputs": [],
   "source": [
    "replacement_choice(game_list,1)"
   ]
  },
  {
   "cell_type": "code",
   "execution_count": null,
   "id": "49d5e61e",
   "metadata": {},
   "outputs": [],
   "source": [
    "def gameon_choice():\n",
    "    \n",
    "    choice='wrong'\n",
    "    while choice not in['y','n']:\n",
    "        choice=input(\"do you want to keep playing\")\n",
    "        if choice not in['y','n']:\n",
    "            print(\"sorry,invalid choice!\")\n",
    "    if choice=='y':\n",
    "        return True\n",
    "    else:\n",
    "        return False"
   ]
  },
  {
   "cell_type": "markdown",
   "id": "dc7120fa",
   "metadata": {},
   "source": []
  },
  {
   "cell_type": "code",
   "execution_count": null,
   "id": "30cd9a67",
   "metadata": {},
   "outputs": [],
   "source": [
    "game_on()"
   ]
  },
  {
   "cell_type": "code",
   "execution_count": null,
   "id": "3a5d3827",
   "metadata": {},
   "outputs": [],
   "source": [
    "game_on=True\n",
    "game_list=[0,1,2]\n",
    "while game_on:\n",
    "    display_game(game_list)\n",
    "    position=position_choice()\n",
    "    game_list=replacement_choice(game_list,position)\n",
    "    display_game(game_list)\n",
    "    game_on=gameon_choice()\n",
    "    "
   ]
  },
  {
   "cell_type": "code",
   "execution_count": null,
   "id": "b6f9e0ae",
   "metadata": {},
   "outputs": [],
   "source": [
    "from IPython.display import clear_output\n",
    "def disboard(board):\n",
    "    clear_output()\n",
    "    print(board[1]+\"|\"+board[2]+\"|\"+board[3])\n",
    "    print(board[4]+\"|\"+board[5]+\"|\"+board[6])\n",
    "    print(board[7]+\"|\"+board[8]+\"|\"+board[9])\n",
    "    "
   ]
  },
  {
   "cell_type": "code",
   "execution_count": null,
   "id": "59cf7874",
   "metadata": {},
   "outputs": [],
   "source": [
    "testboard=[' ',' ',' ',' ',' ',' ',' ',' ',' ',' ']"
   ]
  },
  {
   "cell_type": "code",
   "execution_count": null,
   "id": "76002f77",
   "metadata": {},
   "outputs": [],
   "source": [
    "disboard(testboard)"
   ]
  },
  {
   "cell_type": "code",
   "execution_count": null,
   "id": "b80088f5",
   "metadata": {},
   "outputs": [],
   "source": [
    "def player_input():\n",
    "    marker=''\n",
    "    while marker !='X' and marker !='0':\n",
    "        marker =input(\"player 1:choose Xor o\").upper()\n",
    "        \n",
    "        if marker=='X':\n",
    "            return (\"X\",\"O\")\n",
    "        else:\n",
    "            return('O','X')"
   ]
  },
  {
   "cell_type": "code",
   "execution_count": null,
   "id": "0bc815d2",
   "metadata": {},
   "outputs": [],
   "source": [
    "player_input()"
   ]
  },
  {
   "cell_type": "code",
   "execution_count": null,
   "id": "20ad91d4",
   "metadata": {
    "scrolled": true
   },
   "outputs": [],
   "source": [
    "def place_marker(board,marker,position):\n",
    "    testboard[position]='x'\n",
    "    disboard(testboard)\n"
   ]
  },
  {
   "cell_type": "code",
   "execution_count": null,
   "id": "94526179",
   "metadata": {},
   "outputs": [],
   "source": [
    "place_marker(testboard,'x',3)"
   ]
  },
  {
   "cell_type": "code",
   "execution_count": null,
   "id": "dd796f10",
   "metadata": {},
   "outputs": [],
   "source": [
    "def win_check(board,mark):\n",
    "    if board[1]and board[2]and board[3]=='mark':\n",
    "        return True\n",
    "    else:\n",
    "        pass\n",
    "    if board[4]and board[5]and board[6]=='mark':\n",
    "        return True\n",
    "    else:\n",
    "        pass\n",
    "    if board[7]and board[8]and board[9]=='mark':\n",
    "        return True\n",
    "    else:\n",
    "        pass\n",
    "    if board[1]and board[4]and board[7]=='mark':\n",
    "        return True\n",
    "    else:\n",
    "        pass\n",
    "    if board[2]and board[5]and board[8]=='mark':\n",
    "        return True\n",
    "    else:\n",
    "        pass\n",
    "    if board[3]and board[6]and board[9]=='mark':\n",
    "        return True\n",
    "    else:\n",
    "        pass\n",
    "    if board[1]and board[5]and board[9]=='mark':\n",
    "        return True\n",
    "    else:\n",
    "        pass\n",
    "    if board[3]and board[5]and board[7]=='mark':\n",
    "        return True\n",
    "    else:\n",
    "        pass\n",
    "   \n",
    "    \n",
    "    "
   ]
  },
  {
   "cell_type": "code",
   "execution_count": null,
   "id": "0d9d3628",
   "metadata": {},
   "outputs": [],
   "source": [
    "win_check(testboard,'X')"
   ]
  },
  {
   "cell_type": "raw",
   "id": "cb26e12b",
   "metadata": {},
   "source": [
    "OBJECT ORIENTED PROGRAMMING(syntax)\n",
    "class NameOfClass():\n",
    "    def__init__(self,param1,param2):\n",
    "        self.param1=param1\n",
    "        self.param2=param2\n",
    "    def some_meth0d(self)\n",
    "        akdf\n",
    "        asf"
   ]
  },
  {
   "cell_type": "code",
   "execution_count": null,
   "id": "f2843db6",
   "metadata": {},
   "outputs": [],
   "source": [
    "class Cat():\n",
    "    #class object attributes(this are same for any instance of a class)\n",
    "    species='mammal'\n",
    "    #this sepcies is going to same all this time\n",
    "    def __init__(self,mybreed,name,color):\n",
    "        self.breed=mybreed\n",
    "        self.name=name\n",
    "        self.color=color\n",
    "    "
   ]
  },
  {
   "cell_type": "code",
   "execution_count": null,
   "id": "f80d0eeb",
   "metadata": {},
   "outputs": [],
   "source": [
    "    #this is called a instance(my_cat)\n",
    "    my_cat=Cat(mybreed='machkin',name='meow',color='white' )"
   ]
  },
  {
   "cell_type": "code",
   "execution_count": null,
   "id": "a8a7ac53",
   "metadata": {},
   "outputs": [],
   "source": [
    "my_cat.breed"
   ]
  },
  {
   "cell_type": "code",
   "execution_count": null,
   "id": "26ad3015",
   "metadata": {},
   "outputs": [],
   "source": [
    "my_cat.color"
   ]
  },
  {
   "cell_type": "code",
   "execution_count": null,
   "id": "60fa3520",
   "metadata": {},
   "outputs": [],
   "source": [
    "my_cat.species"
   ]
  },
  {
   "cell_type": "code",
   "execution_count": null,
   "id": "e296cdd7",
   "metadata": {},
   "outputs": [],
   "source": [
    "#methods in python "
   ]
  },
  {
   "cell_type": "code",
   "execution_count": null,
   "id": "64f2c306",
   "metadata": {},
   "outputs": [],
   "source": [
    "class dog():\n",
    "    #class object attributes(this are same for any instance of a class)\n",
    "    species='mammal'\n",
    "    #this sepcies is going to same all this time\n",
    "    def __init__(self,mybreed,name,):\n",
    "        self.breed=mybreed\n",
    "        self.name=name\n",
    " \n",
    "    #OPERATIONS---->Methods\n",
    "    def bark(Self):\n",
    "        print(\"woof\")"
   ]
  },
  {
   "cell_type": "code",
   "execution_count": null,
   "id": "ec10bbcd",
   "metadata": {},
   "outputs": [],
   "source": [
    "my_dog=dog(mybreed='lab',name=\"orange\")"
   ]
  },
  {
   "cell_type": "code",
   "execution_count": null,
   "id": "0884e8e7",
   "metadata": {},
   "outputs": [],
   "source": [
    "my_dog.bark()"
   ]
  },
  {
   "cell_type": "code",
   "execution_count": null,
   "id": "fce707a4",
   "metadata": {},
   "outputs": [],
   "source": [
    "#NOW WE CAN ALSO USR THE ATTRIBUTES IS ANY METHOD THAT IS DECLEREAD IN THE CLASS"
   ]
  },
  {
   "cell_type": "code",
   "execution_count": null,
   "id": "fc2b687a",
   "metadata": {},
   "outputs": [],
   "source": [
    "class dog():\n",
    "    #class object attributes(this are same for any instance of a class)\n",
    "    species='mammal'\n",
    "    #this sepcies is going to same all this time\n",
    "    def __init__(self,mybreed,name):\n",
    "        self.breed=mybreed\n",
    "        self.name=name\n",
    " \n",
    "    #OPERATIONS---->Methods\n",
    "    def bark(Self):\n",
    "        print(\"woof MY NAME IS{} :\".format(self.name))"
   ]
  },
  {
   "cell_type": "code",
   "execution_count": null,
   "id": "0c125bee",
   "metadata": {},
   "outputs": [],
   "source": [
    "class dogo():\n",
    "    #class object attributes(this are same for any instance of a class)\n",
    "    species='mammal'\n",
    "    #this sepcies is going to same all this time\n",
    "    def __init__(self,mybreed,name):\n",
    "        self.breed=mybreed\n",
    "        self.name=name\n",
    " \n",
    "    #OPERATIONS---->Methods\n",
    "    def bark(self,num):\n",
    "        print(\"woof MY NAME IS{} and the number is {} :\".format(self.name,num))"
   ]
  },
  {
   "cell_type": "code",
   "execution_count": null,
   "id": "44c95dd9",
   "metadata": {},
   "outputs": [],
   "source": [
    "my_dogo=dogo(mybreed=\"lab\",name=\"sam\")"
   ]
  },
  {
   "cell_type": "code",
   "execution_count": null,
   "id": "063098ab",
   "metadata": {},
   "outputs": [],
   "source": [
    "my_dogo.bark(9)"
   ]
  },
  {
   "cell_type": "code",
   "execution_count": null,
   "id": "cb9ce5b9",
   "metadata": {},
   "outputs": [],
   "source": [
    "class Circle():\n",
    "    pi=3.142\n",
    "    def __init__(self,radius=1):\n",
    "        self.radius=radius\n",
    "        \n",
    "    def area(self):\n",
    "        \n",
    "        return 2*self.pi*self.radius"
   ]
  },
  {
   "cell_type": "code",
   "execution_count": null,
   "id": "13853b95",
   "metadata": {},
   "outputs": [],
   "source": [
    "shape=Circle(radius=3)"
   ]
  },
  {
   "cell_type": "code",
   "execution_count": null,
   "id": "63ac5e57",
   "metadata": {},
   "outputs": [],
   "source": [
    "shape.area()"
   ]
  },
  {
   "cell_type": "code",
   "execution_count": null,
   "id": "b3e97b3d",
   "metadata": {},
   "outputs": [],
   "source": [
    "class Employe:\n",
    "    def __init__(self,name,usn,salary,branch):\n",
    "        self.name=name\n",
    "        self.usn=usn\n",
    "        self.salary=salary\n",
    "        self.branch=brach\n",
    "    def drive(self):\n",
    "        print(\"my name is \",name,\"usn is \",usn,\"salary is \",salary,\"branch is\",branch)\n",
    "    def update(branch,usn):\n",
    "        nusn=int(input(\"enter the number of the usn you want to change\"))\n",
    "        nbranch=int(input(\"Enter the branch name that you want to change \"))\n",
    "        \n",
    "        \n",
    "        "
   ]
  },
  {
   "cell_type": "code",
   "execution_count": null,
   "id": "b65a2350",
   "metadata": {},
   "outputs": [],
   "source": [
    "#inheritance is basically a way to form new classes\n",
    "#using the classes that already have been decleared"
   ]
  },
  {
   "cell_type": "code",
   "execution_count": null,
   "id": "a72928b2",
   "metadata": {},
   "outputs": [],
   "source": [
    "class Animal():\n",
    "    def __init__(self):\n",
    "        print(\"Animal is created\")\n",
    "    def whoAmI(self):\n",
    "        print(\"i am a animal \")\n",
    "    def eat(self):\n",
    "        print(\"i am eating\")"
   ]
  },
  {
   "cell_type": "code",
   "execution_count": null,
   "id": "8270662b",
   "metadata": {},
   "outputs": [],
   "source": [
    "myanimal=Animal()"
   ]
  },
  {
   "cell_type": "code",
   "execution_count": null,
   "id": "8cecdfb8",
   "metadata": {},
   "outputs": [],
   "source": [
    "myanimal.whoAmI()"
   ]
  },
  {
   "cell_type": "code",
   "execution_count": null,
   "id": "b255c038",
   "metadata": {},
   "outputs": [],
   "source": [
    "class Dog(Animal):\n",
    "    def __init__(self):\n",
    "        Animal.__init__(self)\n",
    "        print(\"dof created\")\n",
    "    #here we can add methods(bark) or \n",
    "    #overwrite the privous method such as (whoAmI)\n",
    "    def whoAmI(self):\n",
    "        print(\"i am a dog\")\n",
    "    def bark(self):\n",
    "        print(\"woof!\")"
   ]
  },
  {
   "cell_type": "markdown",
   "id": "9114474a",
   "metadata": {},
   "source": []
  },
  {
   "cell_type": "code",
   "execution_count": null,
   "id": "17f73ac4",
   "metadata": {},
   "outputs": [],
   "source": [
    "mydog=Dog()"
   ]
  },
  {
   "cell_type": "code",
   "execution_count": null,
   "id": "eff552c4",
   "metadata": {},
   "outputs": [],
   "source": [
    "mydog.eat()"
   ]
  },
  {
   "cell_type": "code",
   "execution_count": null,
   "id": "e518c083",
   "metadata": {},
   "outputs": [],
   "source": [
    "mydog.whoAmI()"
   ]
  },
  {
   "cell_type": "code",
   "execution_count": null,
   "id": "0494ae9f",
   "metadata": {},
   "outputs": [],
   "source": [
    "mydog.bark()"
   ]
  },
  {
   "cell_type": "code",
   "execution_count": null,
   "id": "3a1af232",
   "metadata": {},
   "outputs": [],
   "source": [
    "#polymorphism refers to the way where diffrent object classes can share the same method name and then the methods can be"
   ]
  },
  {
   "cell_type": "code",
   "execution_count": null,
   "id": "ce33828e",
   "metadata": {},
   "outputs": [],
   "source": [
    "class Dog():\n",
    "    \n",
    "    def __init__(self,name):\n",
    "        self.name=name\n",
    "    def speak(self):\n",
    "        return self.name+\" barks woof!\""
   ]
  },
  {
   "cell_type": "code",
   "execution_count": null,
   "id": "548a5626",
   "metadata": {},
   "outputs": [],
   "source": [
    "class Cat():\n",
    "    \n",
    "    def __init__(self,name):\n",
    "        self.name=name\n",
    "    def speak(self):\n",
    "        return self.name+\" says meow!\""
   ]
  },
  {
   "cell_type": "code",
   "execution_count": null,
   "id": "6152c841",
   "metadata": {},
   "outputs": [],
   "source": [
    "niko=Dog('niko')\n",
    "uri=Cat('uri')"
   ]
  },
  {
   "cell_type": "code",
   "execution_count": null,
   "id": "13dc45bc",
   "metadata": {},
   "outputs": [],
   "source": [
    "niko.speak()\n"
   ]
  },
  {
   "cell_type": "code",
   "execution_count": null,
   "id": "188d587d",
   "metadata": {},
   "outputs": [],
   "source": [
    "uri.speak()"
   ]
  },
  {
   "cell_type": "code",
   "execution_count": null,
   "id": "ba374019",
   "metadata": {},
   "outputs": [],
   "source": [
    "class Animal():\n",
    "    def __init__(self,name):\n",
    "        self.name=name\n",
    "    def speak(Self):\n",
    "        raise NotImplementedErroe(\"subclass must implement thsi abstract method\")"
   ]
  },
  {
   "cell_type": "code",
   "execution_count": null,
   "id": "22b8c327",
   "metadata": {},
   "outputs": [],
   "source": [
    "#Special (magic/dunder)"
   ]
  },
  {
   "cell_type": "code",
   "execution_count": null,
   "id": "a517ed3b",
   "metadata": {},
   "outputs": [],
   "source": [
    "mylist=[1,2,3]"
   ]
  },
  {
   "cell_type": "code",
   "execution_count": null,
   "id": "e1be4e51",
   "metadata": {},
   "outputs": [],
   "source": [
    "len(mylist)"
   ]
  },
  {
   "cell_type": "code",
   "execution_count": null,
   "id": "aad2a49e",
   "metadata": {},
   "outputs": [],
   "source": [
    "class Sample():\n",
    "    pass"
   ]
  },
  {
   "cell_type": "code",
   "execution_count": null,
   "id": "6d662d6e",
   "metadata": {},
   "outputs": [],
   "source": [
    "mysample=Sample()"
   ]
  },
  {
   "cell_type": "code",
   "execution_count": null,
   "id": "5a35697b",
   "metadata": {
    "scrolled": true
   },
   "outputs": [],
   "source": [
    "len(mysample)"
   ]
  },
  {
   "cell_type": "code",
   "execution_count": null,
   "id": "19e583f6",
   "metadata": {},
   "outputs": [],
   "source": [
    "class Book():\n",
    "    def __init__(self,title,author,pages):\n",
    "        self.title=title\n",
    "        self.author=author\n",
    "        self.pages=pages\n",
    "    def __str__(self):\n",
    "        return f\"{self.title}by{self.author}\"\n",
    "    def __len__(self):\n",
    "        return self.pages\n",
    "    "
   ]
  },
  {
   "cell_type": "code",
   "execution_count": null,
   "id": "8aa19cf4",
   "metadata": {},
   "outputs": [],
   "source": [
    "b=Book('python rocks ',' Jose',200)"
   ]
  },
  {
   "cell_type": "code",
   "execution_count": null,
   "id": "d413a046",
   "metadata": {},
   "outputs": [],
   "source": [
    "print(b)"
   ]
  },
  {
   "cell_type": "code",
   "execution_count": null,
   "id": "3e2b56d5",
   "metadata": {},
   "outputs": [],
   "source": [
    "str(b)"
   ]
  },
  {
   "cell_type": "code",
   "execution_count": null,
   "id": "3ffc9c52",
   "metadata": {},
   "outputs": [],
   "source": [
    "len(b)"
   ]
  },
  {
   "cell_type": "code",
   "execution_count": null,
   "id": "27cffc01",
   "metadata": {},
   "outputs": [],
   "source": [
    "\n",
    "#HOMEWORK"
   ]
  },
  {
   "cell_type": "code",
   "execution_count": null,
   "id": "c2066756",
   "metadata": {},
   "outputs": [],
   "source": [
    "from math import *\n",
    "class Line:\n",
    "    \n",
    "    def __init__(self,coor1,coor2):\n",
    "        self.coor1=coor1\n",
    "        self.coor2=coor2\n",
    "        \n",
    "    \n",
    "    def distance(self):\n",
    "        return sqrt(pow((self.coor2[1]-self.coor2[0]),2)+pow((self.coor1[1]-self.coor2[0]),2))\n",
    "    \n",
    "    def slope(self):\n",
    "        return (self.coor2[1]-self.coor2[0]/self.coor1[1]-self.coor1[0])\n",
    "    \n",
    "    "
   ]
  },
  {
   "cell_type": "code",
   "execution_count": null,
   "id": "98da4aca",
   "metadata": {},
   "outputs": [],
   "source": [
    "lin=Line((3,2),(8,10))"
   ]
  },
  {
   "cell_type": "code",
   "execution_count": null,
   "id": "8fce5627",
   "metadata": {},
   "outputs": [],
   "source": [
    "lin.distance()"
   ]
  },
  {
   "cell_type": "code",
   "execution_count": null,
   "id": "6248354b",
   "metadata": {},
   "outputs": [],
   "source": [
    "lin.slope()"
   ]
  },
  {
   "cell_type": "code",
   "execution_count": null,
   "id": "feabb282",
   "metadata": {},
   "outputs": [],
   "source": [
    "class Cylinder:\n",
    "    pi=3.142\n",
    "    def __init__(self,height=1,radius=1):\n",
    "        self.height=height\n",
    "        self.radius=radius\n",
    "    def volume(self):\n",
    "        return pi*pow(self.radius,2)*self.height\n",
    "    def surface_area(self):\n",
    "        return (2*pi*self.radius*self.height)+(2*pi*pow(self.radius,2))\n",
    "        \n",
    "        "
   ]
  },
  {
   "cell_type": "code",
   "execution_count": null,
   "id": "8e155947",
   "metadata": {},
   "outputs": [],
   "source": [
    "c=Cylinder(2,3)"
   ]
  },
  {
   "cell_type": "code",
   "execution_count": null,
   "id": "02c5a423",
   "metadata": {},
   "outputs": [],
   "source": [
    "c.volume()"
   ]
  },
  {
   "cell_type": "code",
   "execution_count": null,
   "id": "1ce2fb3e",
   "metadata": {},
   "outputs": [],
   "source": [
    "c.surface_area()"
   ]
  },
  {
   "cell_type": "code",
   "execution_count": null,
   "id": "b3855a55",
   "metadata": {},
   "outputs": [],
   "source": [
    "class Account:\n",
    "    def __init__(self,owner,balance):\n",
    "        self.owner=owner\n",
    "        self.balance=balance\n",
    "        print(\"Account owner : \",self.owner,\"\\nAccount balance: $\",self.balance)        \n",
    "    def deposit(self,add):\n",
    "        self.balance=self.balance+add\n",
    "        print(\"deposite accepted\")\n",
    "    def withdraw(self,wit):\n",
    "        if wit>self.balance:\n",
    "            print(\"funds unavailable!\")\n",
    "        else:\n",
    "            self.balance=self.balance-wit\n",
    "            print(\"withdrawal accepted\")\n",
    "        "
   ]
  },
  {
   "cell_type": "code",
   "execution_count": null,
   "id": "154263a5",
   "metadata": {},
   "outputs": [],
   "source": [
    "acct1=Account('Jose',100)"
   ]
  },
  {
   "cell_type": "code",
   "execution_count": null,
   "id": "f73fe7d3",
   "metadata": {},
   "outputs": [],
   "source": [
    "acct1.owner"
   ]
  },
  {
   "cell_type": "code",
   "execution_count": null,
   "id": "e8fff313",
   "metadata": {},
   "outputs": [],
   "source": [
    "acct1.balance"
   ]
  },
  {
   "cell_type": "code",
   "execution_count": null,
   "id": "409ba00d",
   "metadata": {},
   "outputs": [],
   "source": [
    "acct1.deposit(50)"
   ]
  },
  {
   "cell_type": "code",
   "execution_count": null,
   "id": "c5ea2e81",
   "metadata": {},
   "outputs": [],
   "source": [
    "acct1.withdraw(75)"
   ]
  },
  {
   "cell_type": "code",
   "execution_count": null,
   "id": "5e1e88a5",
   "metadata": {},
   "outputs": [],
   "source": [
    "acct1.withdraw(500)"
   ]
  },
  {
   "cell_type": "code",
   "execution_count": null,
   "id": "4dd1d206",
   "metadata": {},
   "outputs": [],
   "source": [
    "acct1.balance"
   ]
  },
  {
   "cell_type": "code",
   "execution_count": null,
   "id": "0ca18fcd",
   "metadata": {},
   "outputs": [],
   "source": [
    "#modules and packages\n",
    "#subline text editor"
   ]
  },
  {
   "cell_type": "code",
   "execution_count": null,
   "id": "0123906f",
   "metadata": {},
   "outputs": [],
   "source": [
    "#Errors and exception handling\n",
    "#try:this is the block of code to be attempted\n",
    "#except:block of code will execute in case there is an error in try block\n",
    "#finally:a final block of code to be executed,regardless of an error.\n"
   ]
  },
  {
   "cell_type": "code",
   "execution_count": null,
   "id": "0e32f82b",
   "metadata": {},
   "outputs": [],
   "source": [
    "def add(n1,n2):\n",
    "    print(n1+n2)\n",
    "add(10,20)\n",
    "add(10,\"20\")\n"
   ]
  },
  {
   "cell_type": "code",
   "execution_count": null,
   "id": "1730b8fb",
   "metadata": {},
   "outputs": [],
   "source": [
    "try:\n",
    "    result=20+20\n",
    "except:\n",
    "    print(\"aah! wrong again\")\n",
    "else:\n",
    "    print(result)\n",
    "    "
   ]
  },
  {
   "cell_type": "code",
   "execution_count": null,
   "id": "37eb5d28",
   "metadata": {},
   "outputs": [],
   "source": [
    "try:\n",
    "    f=open('testfile',\"r\")\n",
    "    f.write(\"write a test line\")\n",
    "    \n",
    "except TypeError:\n",
    "    print(\"there was a type error\")\n",
    "except OSError:\n",
    "    print(\"hey you have an os error\")\n",
    "finally:\n",
    "    print(\"i always run no matter anything \")\n"
   ]
  },
  {
   "cell_type": "code",
   "execution_count": null,
   "id": "d795dd61",
   "metadata": {},
   "outputs": [],
   "source": []
  },
  {
   "cell_type": "code",
   "execution_count": null,
   "id": "c405fe75",
   "metadata": {},
   "outputs": [],
   "source": []
  },
  {
   "cell_type": "code",
   "execution_count": null,
   "id": "a757c9c5",
   "metadata": {},
   "outputs": [],
   "source": []
  },
  {
   "cell_type": "code",
   "execution_count": null,
   "id": "3a315d06",
   "metadata": {},
   "outputs": [],
   "source": [
    "def ask_for_int():\n",
    "    while True:\n",
    "        \n",
    "        try :\n",
    "            result=int(input(\"please provide a number\"))\n",
    "        except:\n",
    "            print(\"there is an error\")\n",
    "            continue\n",
    "        else:\n",
    "            print(\"thank you\")\n",
    "            break\n",
    "        finally:\n",
    "            print(\"i am going to ask you again\" )"
   ]
  },
  {
   "cell_type": "code",
   "execution_count": null,
   "id": "d6be43b8",
   "metadata": {},
   "outputs": [],
   "source": [
    "ask_for_int()"
   ]
  },
  {
   "cell_type": "code",
   "execution_count": null,
   "id": "7cb41ee2",
   "metadata": {},
   "outputs": [],
   "source": [
    "#ASSIGNMENT FOR ERROR"
   ]
  },
  {
   "cell_type": "code",
   "execution_count": null,
   "id": "c48bfd97",
   "metadata": {},
   "outputs": [],
   "source": [
    "#Handle the exception thrown by the code below by using\n",
    "#try and except block\n",
    "try:\n",
    "    for i in ['a','b','c']:\n",
    "        print(i**2)\n",
    "except TypeError:\n",
    "    print('there is a type error please enter a number ')\n",
    "    "
   ]
  },
  {
   "cell_type": "code",
   "execution_count": null,
   "id": "426ef019",
   "metadata": {},
   "outputs": [],
   "source": [
    "#Handle the exception thrown by the code below by using try and except \n",
    "#blocks. Then use a finally block to print 'All Done.'\n",
    "try:\n",
    "    x = 5\n",
    "    y = 0\n",
    "\n",
    "    z = x/y\n",
    "except ZeroDivisionError:\n",
    "    print(\"you cannot divide a number with zero\")\n",
    "finally:\n",
    "    print(\"All Done\")\n",
    "\n"
   ]
  },
  {
   "cell_type": "code",
   "execution_count": null,
   "id": "0264073d",
   "metadata": {},
   "outputs": [],
   "source": [
    "#Write a function that asks for an integer and prints the square of it.\n",
    "#Use a while loop with  a try, except, else block to account for incorrect\n",
    "#inputs.\n",
    "\n",
    "def asks():\n",
    "    while True:\n",
    "        try:\n",
    "            n=int(input(\"Enter the number that has to be squared\"))\n",
    "            n=pow(n,2)\n",
    "        except:\n",
    "            print(\"there was an error i will ask you again\")\n",
    "            continue\n",
    "        else:\n",
    "            print(n)\n",
    "            break\n"
   ]
  },
  {
   "cell_type": "code",
   "execution_count": null,
   "id": "fa2f2172",
   "metadata": {},
   "outputs": [],
   "source": [
    "asks()"
   ]
  },
  {
   "cell_type": "code",
   "execution_count": null,
   "id": "e526f061",
   "metadata": {},
   "outputs": [],
   "source": [
    "#UNTI TESTING(pyline,unittest)"
   ]
  },
  {
   "cell_type": "code",
   "execution_count": null,
   "id": "df841391",
   "metadata": {},
   "outputs": [],
   "source": [
    "# mile stone project 2\n",
    "#creating war card game "
   ]
  },
  {
   "cell_type": "code",
   "execution_count": null,
   "id": "0ac495f7",
   "metadata": {},
   "outputs": [],
   "source": [
    "import random \n",
    "\n",
    "suits = ('Hearts', 'Diamonds', 'Spades', 'Clubs')\n",
    "ranks = ('Two', 'Three', 'Four', 'Five', 'Six', 'Seven', 'Eight', 'Nine', 'Ten', 'Jack', 'Queen', 'King', 'Ace')\n",
    "values = {'Two':2, 'Three':3, 'Four':4, 'Five':5, 'Six':6, 'Seven':7, 'Eight':8, \n",
    "            'Nine':9, 'Ten':10, 'Jack':11, 'Queen':12, 'King':13, 'Ace':14}\n",
    "\n"
   ]
  },
  {
   "cell_type": "code",
   "execution_count": null,
   "id": "61c58319",
   "metadata": {},
   "outputs": [],
   "source": [
    "class Card:\n",
    "    def __init__(self,suit,rank):\n",
    "        self.suit=suit\n",
    "        self.rank=rank\n",
    "        self.value=values[rank]\n",
    "    def __str__(self):\n",
    "        return self.rank+\" of \"+self.suit"
   ]
  },
  {
   "cell_type": "code",
   "execution_count": null,
   "id": "3108dfbd",
   "metadata": {},
   "outputs": [],
   "source": [
    "twohearts=Card(\"hearts\",\"Two\")"
   ]
  },
  {
   "cell_type": "code",
   "execution_count": null,
   "id": "4bd7c36f",
   "metadata": {},
   "outputs": [],
   "source": [
    "print(twohearts)"
   ]
  },
  {
   "cell_type": "code",
   "execution_count": null,
   "id": "485de320",
   "metadata": {},
   "outputs": [],
   "source": [
    "class Deck:\n",
    "    def __init__(self):\n",
    "        self.all_cards=[]\n",
    "        for suit in suits:\n",
    "            for rank in ranks:\n",
    "                #creat the card object\n",
    "                created_card=Card(suit,rank)\n",
    "                self.all_cards.append(created_card)\n",
    "    def shuffle(self):\n",
    "        random.shuffle(self.all_cards)\n",
    "    def deal_one(self):\n",
    "        return self.all_cards.pop()"
   ]
  },
  {
   "cell_type": "code",
   "execution_count": null,
   "id": "be05ccf7",
   "metadata": {},
   "outputs": [],
   "source": [
    "new_deck=Deck()"
   ]
  },
  {
   "cell_type": "code",
   "execution_count": null,
   "id": "a4ca0e57",
   "metadata": {},
   "outputs": [],
   "source": [
    "mycard=new_deck.deal_one()"
   ]
  },
  {
   "cell_type": "code",
   "execution_count": null,
   "id": "198462af",
   "metadata": {},
   "outputs": [],
   "source": [
    "print(mycard)"
   ]
  },
  {
   "cell_type": "code",
   "execution_count": null,
   "id": "2ae354fa",
   "metadata": {},
   "outputs": [],
   "source": [
    "len(new_deck.all_cards)"
   ]
  },
  {
   "cell_type": "code",
   "execution_count": null,
   "id": "073c069a",
   "metadata": {},
   "outputs": [],
   "source": [
    "first=new_deck.all_cards[-1]\n",
    "print(first)"
   ]
  },
  {
   "cell_type": "code",
   "execution_count": null,
   "id": "d5fe8fd8",
   "metadata": {},
   "outputs": [],
   "source": [
    "new_deck.shuffle()\n",
    "\n",
    "print(new_deck.all_cards[-1])"
   ]
  },
  {
   "cell_type": "code",
   "execution_count": null,
   "id": "8aeff8b0",
   "metadata": {},
   "outputs": [],
   "source": [
    " class Player:\n",
    "        def __init__(self,name):\n",
    "            self.name=name\n",
    "            self.all_cards=[]\n",
    "        def remove_one(self):\n",
    "            return self.all_cards.pop(0)\n",
    "        def add_cards(self,new_cards):\n",
    "            if type(new_cards)==type([]):\n",
    "                #List of multiple cards objects\n",
    "                self.all_cards.extend(new_cards)\n",
    "            else:\n",
    "                #for a single card object\n",
    "                self.all_cards.append(new_cards)\n",
    "        def __str__(self):\n",
    "            return f'Player {self.name} has {len(self.all_cards)}cards.'"
   ]
  },
  {
   "cell_type": "code",
   "execution_count": null,
   "id": "74f361d2",
   "metadata": {},
   "outputs": [],
   "source": [
    "new_player=Player(\"jose\")"
   ]
  },
  {
   "cell_type": "code",
   "execution_count": null,
   "id": "9c260c39",
   "metadata": {},
   "outputs": [],
   "source": [
    "print(new_player)"
   ]
  },
  {
   "cell_type": "code",
   "execution_count": null,
   "id": "df07066f",
   "metadata": {},
   "outputs": [],
   "source": [
    "new_player.add_cards(mycard)"
   ]
  },
  {
   "cell_type": "code",
   "execution_count": null,
   "id": "9e446fff",
   "metadata": {},
   "outputs": [],
   "source": [
    "print(new_player)"
   ]
  },
  {
   "cell_type": "code",
   "execution_count": null,
   "id": "e1bd77d1",
   "metadata": {},
   "outputs": [],
   "source": [
    "print(new_player.all_cards[0])"
   ]
  },
  {
   "cell_type": "code",
   "execution_count": null,
   "id": "e3801098",
   "metadata": {},
   "outputs": [],
   "source": [
    "new_player.add_cards([mycard,mycard,mycard])"
   ]
  },
  {
   "cell_type": "code",
   "execution_count": null,
   "id": "8019bf51",
   "metadata": {},
   "outputs": [],
   "source": [
    "print(new_player)"
   ]
  },
  {
   "cell_type": "code",
   "execution_count": null,
   "id": "8345cf6b",
   "metadata": {},
   "outputs": [],
   "source": [
    "new_player.remove_one()"
   ]
  },
  {
   "cell_type": "code",
   "execution_count": null,
   "id": "3f0d0828",
   "metadata": {},
   "outputs": [],
   "source": [
    "print(new_player)"
   ]
  },
  {
   "cell_type": "code",
   "execution_count": null,
   "id": "9b05c454",
   "metadata": {},
   "outputs": [],
   "source": [
    "#GAME SETUP\n",
    "player_one=Player(\"One\")\n",
    "player_two=Player(\"Two\")\n",
    "\n",
    "new_deck=Deck()\n",
    "new_deck.shuffle()\n",
    "\n",
    "for x in range(26):\n",
    "    player_one.add_cards(new_deck.deal_one())\n",
    "    player_two.add_cards(new_deck.deal_one())"
   ]
  },
  {
   "cell_type": "code",
   "execution_count": null,
   "id": "a9a58d16",
   "metadata": {},
   "outputs": [],
   "source": [
    "game_on=True"
   ]
  },
  {
   "cell_type": "code",
   "execution_count": null,
   "id": "6e7c8271",
   "metadata": {},
   "outputs": [],
   "source": [
    "round_num=0\n",
    "while game_on:\n",
    "    \n",
    "    round_num+=1\n",
    "    print(\"round number is\",round_num)\n",
    "    \n",
    "    if len(player_one.all_cards)==0:\n",
    "        print('player one out of cards! player two wins')\n",
    "        game_on = False\n",
    "        break\n",
    "    \n",
    "    if len(player_two.all_cards)==0:\n",
    "        print(\"player two out of cards player one wins the game \")\n",
    "        game_on=False\n",
    "        break\n",
    "    \n",
    "    #start a new round\n",
    "    player_one_cards=[]\n",
    "    player_one_cards.append(player_one.remove_one())\n",
    "    player_two_cards=[]\n",
    "    player_two_cards.append(player_two.remove_one())\n",
    "    \n",
    "    \n",
    "    at_war=True\n",
    "    \n",
    "    while at_war:\n",
    "        if player_one_cards[-1].value>player_two_cards[-1].value:\n",
    "            player_one.add_cards(player_one_cards)\n",
    "            player_two.add_cards(player_two_cards)\n",
    "        \n",
    "            at_war=False\n",
    "            \n",
    "        elif player_one_cards[-1].value<player_two_cards[-1].value:\n",
    "            \n",
    "            player_two.add_cards(player_one_cards)\n",
    "            player_one.add_cards(player_two_cards)\n",
    "            \n",
    "            at_war=False\n",
    "        \n",
    "        else:\n",
    "            print(\"warr\")\n",
    "            \n",
    "            if len(player_one.all_cards)<10:\n",
    "                print('player one unable to declare war')\n",
    "                print(\"player two wins\")\n",
    "                game_on=False\n",
    "                break \n",
    "            \n",
    "            if len(player_two.all_cards)<10:\n",
    "                print(\"player two unables to declare war\")\n",
    "                print(\"player one winds\")\n",
    "                game_on=False\n",
    "                break \n",
    "            else:\n",
    "                for num in range(10):\n",
    "                    player_one_cards.append(player_one.remove_one())\n",
    "                    player_two_cards.append(player_two.remove_one())\n",
    "                    \n",
    "                \n",
    "        \n"
   ]
  },
  {
   "cell_type": "code",
   "execution_count": null,
   "id": "618efbd1",
   "metadata": {},
   "outputs": [],
   "source": [
    "import random\n",
    "suits=(\"heart\",\"diamond\",\"spade\",\"clubs\")\n",
    "ranks = ('Two', 'Three', 'Four', 'Five', 'Six', 'Seven', 'Eight', 'Nine', 'Ten', 'Jack', 'Queen', 'King', 'Ace')\n",
    "values = {'Two':2, 'Three':3, 'Four':4, 'Five':5, 'Six':6, 'Seven':7, 'Eight':8, 'Nine':9, 'Ten':10, 'Jack':10,\n",
    "         'Queen':10, 'King':10, 'Ace':11}\n",
    "playing=True\n"
   ]
  },
  {
   "cell_type": "code",
   "execution_count": null,
   "id": "9ff728d0",
   "metadata": {},
   "outputs": [],
   "source": [
    "class Cards:\n",
    "    def __init__(self,suits,ranks):\n",
    "        self.suit=suits\n",
    "        self.rank=ranks\n",
    "        self.value=values[self.rank]\n",
    "        \n",
    "    def __str__ (self):\n",
    "        return self.rank+\" of \"+self.suit"
   ]
  },
  {
   "cell_type": "code",
   "execution_count": null,
   "id": "919613f9",
   "metadata": {},
   "outputs": [],
   "source": [
    "five_heart = Cards(\"heart\",\"Five\")"
   ]
  },
  {
   "cell_type": "code",
   "execution_count": null,
   "id": "644f1d44",
   "metadata": {},
   "outputs": [],
   "source": [
    "print(five_heart)"
   ]
  },
  {
   "cell_type": "code",
   "execution_count": null,
   "id": "842e9a37",
   "metadata": {},
   "outputs": [],
   "source": [
    "myplayer=Cards(\"heart\",\"Two\")\n"
   ]
  },
  {
   "cell_type": "code",
   "execution_count": null,
   "id": "a38fb218",
   "metadata": {},
   "outputs": [],
   "source": [
    "print(myplayer)"
   ]
  },
  {
   "cell_type": "code",
   "execution_count": null,
   "id": "7f5f3729",
   "metadata": {},
   "outputs": [],
   "source": [
    "class Deck:\n",
    "    \n",
    "    def __init__(self):\n",
    "        self.all_deck=[]\n",
    "        for suit in suits:\n",
    "            for rank in ranks:\n",
    "                add_card=Cards(suit,rank)\n",
    "                self.all_deck.append(add_card)\n",
    "    \n",
    "    def shuffle(self):\n",
    "        random.shuffle(self.all_deck)\n",
    "\n",
    "    def deal(self):\n",
    "        return self.all_deck.pop()\n",
    "    "
   ]
  },
  {
   "cell_type": "code",
   "execution_count": null,
   "id": "2103641d",
   "metadata": {},
   "outputs": [],
   "source": [
    "class Hand:\n",
    "    def __init__(self):\n",
    "        self.all_cards=[]\n",
    "        self.value=0\n",
    "        self.aces=0\n",
    "    \n",
    "    def add_card(self,card):\n",
    "        self.value=\n",
    "        #continue"
   ]
  },
  {
   "cell_type": "markdown",
   "id": "28290cc9",
   "metadata": {},
   "source": [
    "Decorators"
   ]
  },
  {
   "cell_type": "code",
   "execution_count": null,
   "id": "618e2bb8",
   "metadata": {},
   "outputs": [],
   "source": [
    "# decorators allow you to decorate a function\n",
    "#imagine you created a function\n",
    "def func():\n",
    "    #does somthing and \n",
    "    #returns something\n",
    "# now if we have some to add some functionality to this code \n",
    "#there occurs problems \n",
    "\n",
    "\n",
    "#python has decorators that allow you to tack on extra functionality to \n",
    "#an already existing function. and we can remove this functionality \n",
    "#whenever we want by only delecting one line in the decorator .\n",
    "# it uses the at operator\n",
    "@some_decorator\n",
    "def func():\n",
    "    #does somthing and \n",
    "    #returns something\n",
    "    "
   ]
  },
  {
   "cell_type": "code",
   "execution_count": null,
   "id": "635f8c42",
   "metadata": {},
   "outputs": [],
   "source": [
    "def func():\n",
    "    return 1\n"
   ]
  },
  {
   "cell_type": "code",
   "execution_count": null,
   "id": "dfa4f622",
   "metadata": {},
   "outputs": [],
   "source": [
    "def hello():\n",
    "    return \"hello\"\n",
    "    "
   ]
  },
  {
   "cell_type": "code",
   "execution_count": null,
   "id": "8d16e11f",
   "metadata": {},
   "outputs": [],
   "source": [
    "greet=hello\n",
    "#not hello()"
   ]
  },
  {
   "cell_type": "code",
   "execution_count": null,
   "id": "7c964a00",
   "metadata": {},
   "outputs": [],
   "source": [
    "greet()"
   ]
  },
  {
   "cell_type": "code",
   "execution_count": null,
   "id": "492b2fbe",
   "metadata": {},
   "outputs": [],
   "source": [
    "del hello"
   ]
  },
  {
   "cell_type": "code",
   "execution_count": null,
   "id": "b0082519",
   "metadata": {},
   "outputs": [],
   "source": [
    "hello()"
   ]
  },
  {
   "cell_type": "code",
   "execution_count": null,
   "id": "40ffb3cc",
   "metadata": {},
   "outputs": [],
   "source": [
    "greet()\n",
    "#this means that it is not pointing towards hello instead it is assigning\n",
    "#the whole func hello() to itself"
   ]
  },
  {
   "cell_type": "code",
   "execution_count": null,
   "id": "f40b1c6b",
   "metadata": {},
   "outputs": [],
   "source": [
    "def hello(name='yo'):\n",
    "    print(\"the hello() function has been executed\")\n",
    "    \n",
    "    def greet():\n",
    "        return \"\\t this is the greet() function inside hello\"\n",
    "    \n",
    "    def welcome():\n",
    "        return '\\t\\tthis is welcome inside hello'\n",
    "    \n",
    "    \n",
    "    print(\"i am going to return a functtion\")\n",
    "    \n",
    "    if name=='yo':\n",
    "        return greet\n",
    "    else:\n",
    "        return welcome"
   ]
  },
  {
   "cell_type": "code",
   "execution_count": null,
   "id": "e31a4114",
   "metadata": {},
   "outputs": [],
   "source": [
    "mynew=hello('jo')"
   ]
  },
  {
   "cell_type": "code",
   "execution_count": null,
   "id": "c2ed103f",
   "metadata": {},
   "outputs": [],
   "source": [
    "mynew()"
   ]
  },
  {
   "cell_type": "code",
   "execution_count": null,
   "id": "33d8c13c",
   "metadata": {},
   "outputs": [],
   "source": [
    "def user_input_based_function_caller(int1, int2, opr):\n",
    "    def addition(int1, int2):\n",
    "        print(int1+int2)\n",
    "        return int1+int2\n",
    "    \n",
    "    def subtration(int1, int2):\n",
    "        print(int1-int2)\n",
    "        return int1-int2\n",
    "    \n",
    "    if opr == 'add':\n",
    "        return addition\n",
    "    elif opr == 'sub':\n",
    "        return subtraction\n",
    "    "
   ]
  },
  {
   "cell_type": "code",
   "execution_count": null,
   "id": "78c2d86e",
   "metadata": {},
   "outputs": [],
   "source": [
    "operation_function = user_input_based_function_caller(5,5,'add')"
   ]
  },
  {
   "cell_type": "code",
   "execution_count": null,
   "id": "e48a9234",
   "metadata": {},
   "outputs": [],
   "source": [
    "operation_function()"
   ]
  },
  {
   "cell_type": "code",
   "execution_count": null,
   "id": "741aa1f8",
   "metadata": {},
   "outputs": [],
   "source": [
    "def cool():\n",
    "    \n",
    "    def super_cool():\n",
    "        return ' i am very cool '\n",
    "    return super_cool"
   ]
  },
  {
   "cell_type": "code",
   "execution_count": null,
   "id": "8f7da246",
   "metadata": {},
   "outputs": [],
   "source": [
    "some_func=cool()"
   ]
  },
  {
   "cell_type": "code",
   "execution_count": null,
   "id": "b645c6c4",
   "metadata": {},
   "outputs": [],
   "source": [
    "some_func()"
   ]
  },
  {
   "cell_type": "code",
   "execution_count": null,
   "id": "f8d1336b",
   "metadata": {},
   "outputs": [],
   "source": [
    "def hello():\n",
    "    return 'helloooo'"
   ]
  },
  {
   "cell_type": "code",
   "execution_count": null,
   "id": "345c6713",
   "metadata": {},
   "outputs": [],
   "source": [
    "def other(some_def_func):\n",
    "    print(\"other code runs here\")\n",
    "    print(some_def_func())"
   ]
  },
  {
   "cell_type": "code",
   "execution_count": null,
   "id": "4e75c4fb",
   "metadata": {},
   "outputs": [],
   "source": [
    "other(hello)"
   ]
  },
  {
   "cell_type": "code",
   "execution_count": null,
   "id": "f9fa3dc3",
   "metadata": {},
   "outputs": [],
   "source": [
    "def new_decorator(original_func):\n",
    "    \n",
    "    def wrap_func():\n",
    "        \n",
    "        print('some extra code, before the original function')\n",
    "        \n",
    "        original_func()\n",
    "        \n",
    "        print(\"some other code after the original function\")\n",
    "        \n",
    "    return wrap_func"
   ]
  },
  {
   "cell_type": "code",
   "execution_count": null,
   "id": "9331f569",
   "metadata": {},
   "outputs": [],
   "source": [
    "def func_needs_decorator():\n",
    "    print(\"i want to be decorated\")"
   ]
  },
  {
   "cell_type": "code",
   "execution_count": null,
   "id": "c679bb81",
   "metadata": {},
   "outputs": [],
   "source": [
    "func_needs_decorator()"
   ]
  },
  {
   "cell_type": "code",
   "execution_count": null,
   "id": "8eb8a0e0",
   "metadata": {},
   "outputs": [],
   "source": [
    "decorated_func=new_decorator(func_needs_decorator)"
   ]
  },
  {
   "cell_type": "code",
   "execution_count": null,
   "id": "4e1a75dd",
   "metadata": {},
   "outputs": [],
   "source": [
    "decorated_func()"
   ]
  },
  {
   "cell_type": "code",
   "execution_count": null,
   "id": "206beb01",
   "metadata": {},
   "outputs": [],
   "source": [
    "@new_decorator\n",
    "def func_needs_decorator():\n",
    "    print(\"i want to be decorated\")"
   ]
  },
  {
   "cell_type": "code",
   "execution_count": null,
   "id": "a30671cf",
   "metadata": {},
   "outputs": [],
   "source": [
    "func_needs_decorator()"
   ]
  },
  {
   "cell_type": "code",
   "execution_count": null,
   "id": "c0ee589b",
   "metadata": {},
   "outputs": [],
   "source": [
    "#@new_decorator\n",
    "def func_needs_decorator():\n",
    "    print(\"i want to be decorated\")"
   ]
  },
  {
   "cell_type": "code",
   "execution_count": null,
   "id": "fc0c55dd",
   "metadata": {},
   "outputs": [],
   "source": [
    "func_needs_decorator()"
   ]
  },
  {
   "cell_type": "code",
   "execution_count": null,
   "id": "8c694235",
   "metadata": {},
   "outputs": [],
   "source": [
    "lis=[]\n",
    "for i in range(10000000):\n",
    "    lis.append(i)\n",
    "lis"
   ]
  },
  {
   "cell_type": "code",
   "execution_count": null,
   "id": "da08c1d2",
   "metadata": {},
   "outputs": [],
   "source": [
    "lis"
   ]
  },
  {
   "cell_type": "code",
   "execution_count": null,
   "id": "4da53246",
   "metadata": {},
   "outputs": [],
   "source": [
    "def create_cubes(n):\n",
    "    for x in range(n):\n",
    "        yield x**3    "
   ]
  },
  {
   "cell_type": "code",
   "execution_count": null,
   "id": "37a844f9",
   "metadata": {},
   "outputs": [],
   "source": [
    "for x in create_cubes(10):\n",
    "    print(x)"
   ]
  },
  {
   "cell_type": "code",
   "execution_count": null,
   "id": "80e27133",
   "metadata": {},
   "outputs": [],
   "source": [
    "def fibo(n):\n",
    "    a=1\n",
    "    b=1\n",
    "    for i in range(n):\n",
    "        yield a\n",
    "        a,b=b,a+b"
   ]
  },
  {
   "cell_type": "code",
   "execution_count": null,
   "id": "a3b19cca",
   "metadata": {},
   "outputs": [],
   "source": [
    "fi=fibo(10)"
   ]
  },
  {
   "cell_type": "code",
   "execution_count": null,
   "id": "57abb384",
   "metadata": {},
   "outputs": [],
   "source": [
    "for i in fi:\n",
    "    print(i)"
   ]
  },
  {
   "cell_type": "code",
   "execution_count": null,
   "id": "8bc5f7f1",
   "metadata": {},
   "outputs": [],
   "source": [
    "def simple_gen():\n",
    "    for x in range(3):\n",
    "        yield x"
   ]
  },
  {
   "cell_type": "code",
   "execution_count": null,
   "id": "dfe3f9bc",
   "metadata": {},
   "outputs": [],
   "source": [
    "for num in simple_gen():\n",
    "    print(num)"
   ]
  },
  {
   "cell_type": "code",
   "execution_count": null,
   "id": "c2e8b0e1",
   "metadata": {},
   "outputs": [],
   "source": [
    "g=simple_gen()"
   ]
  },
  {
   "cell_type": "code",
   "execution_count": null,
   "id": "8160e8f8",
   "metadata": {},
   "outputs": [],
   "source": [
    "print(next(g))"
   ]
  },
  {
   "cell_type": "code",
   "execution_count": null,
   "id": "830f2ed1",
   "metadata": {},
   "outputs": [],
   "source": [
    "print(next(g))"
   ]
  },
  {
   "cell_type": "code",
   "execution_count": null,
   "id": "2607642f",
   "metadata": {},
   "outputs": [],
   "source": [
    "print(next(g))"
   ]
  },
  {
   "cell_type": "code",
   "execution_count": null,
   "id": "beb3dfa4",
   "metadata": {},
   "outputs": [],
   "source": [
    "s=\"hello\""
   ]
  },
  {
   "cell_type": "code",
   "execution_count": null,
   "id": "c8fe6814",
   "metadata": {},
   "outputs": [],
   "source": [
    "for i in s:\n",
    "    print(i)"
   ]
  },
  {
   "cell_type": "code",
   "execution_count": null,
   "id": "16daf8ce",
   "metadata": {},
   "outputs": [],
   "source": [
    "s_iter=iter(s)"
   ]
  },
  {
   "cell_type": "code",
   "execution_count": null,
   "id": "c39ca703",
   "metadata": {},
   "outputs": [],
   "source": [
    "next(s_iter)"
   ]
  },
  {
   "cell_type": "code",
   "execution_count": null,
   "id": "dbdc0d49",
   "metadata": {},
   "outputs": [],
   "source": [
    "next(s_iter)"
   ]
  },
  {
   "cell_type": "code",
   "execution_count": null,
   "id": "f55af0bc",
   "metadata": {},
   "outputs": [],
   "source": [
    "next(s_iter)"
   ]
  },
  {
   "cell_type": "code",
   "execution_count": null,
   "id": "1418ffdf",
   "metadata": {},
   "outputs": [],
   "source": [
    "next(s_iter)\n"
   ]
  },
  {
   "cell_type": "code",
   "execution_count": null,
   "id": "ef3481d9",
   "metadata": {},
   "outputs": [],
   "source": [
    "next(s_iter)"
   ]
  },
  {
   "cell_type": "code",
   "execution_count": null,
   "id": "8605a4b1",
   "metadata": {},
   "outputs": [],
   "source": [
    "#Problem 1\n",
    "\n",
    "#Create a generator that generates the squares of numbers up\n",
    "#to some number N."
   ]
  },
  {
   "cell_type": "code",
   "execution_count": null,
   "id": "c9163683",
   "metadata": {},
   "outputs": [],
   "source": [
    "def gensquare(n):\n",
    "    for i in range(n):\n",
    "        yield i**2"
   ]
  },
  {
   "cell_type": "code",
   "execution_count": null,
   "id": "1f3212f1",
   "metadata": {},
   "outputs": [],
   "source": [
    "for x in gensquare(10):\n",
    "    print(x)"
   ]
  },
  {
   "cell_type": "code",
   "execution_count": null,
   "id": "28fa160f",
   "metadata": {},
   "outputs": [],
   "source": [
    "#Problem 2\n",
    "\n",
    "#Create a generator that yields \"n\" random numbers between a low and high number (that are inputs).\n",
    "#Note: Use the random library.\n"
   ]
  },
  {
   "cell_type": "code",
   "execution_count": null,
   "id": "d9d65719",
   "metadata": {},
   "outputs": [],
   "source": [
    "from random import Random\n",
    "def ran(low,high,n):\n",
    "    count=0\n",
    "    while count<=n:\n",
    "        s=Random()\n",
    "        s=s.randint(low,high)\n",
    "        print(s)\n",
    "        count+=1"
   ]
  },
  {
   "cell_type": "code",
   "execution_count": null,
   "id": "2dcbe27c",
   "metadata": {},
   "outputs": [],
   "source": [
    "ran(0,10,12)"
   ]
  },
  {
   "cell_type": "code",
   "execution_count": null,
   "id": "37d9c86c",
   "metadata": {},
   "outputs": [],
   "source": [
    "#Use the iter() function to convert the string below into an iterator:\n",
    "\n",
    "s = 'hello'\n",
    "\n",
    "s=iter(s)"
   ]
  },
  {
   "cell_type": "code",
   "execution_count": null,
   "id": "f958b71c",
   "metadata": {},
   "outputs": [],
   "source": [
    "next(s)"
   ]
  },
  {
   "cell_type": "markdown",
   "id": "6209c73f",
   "metadata": {},
   "source": [
    "advance modules\n",
    "\n"
   ]
  },
  {
   "cell_type": "code",
   "execution_count": null,
   "id": "a1626fc8",
   "metadata": {},
   "outputs": [],
   "source": [
    "#collection mukdes\n"
   ]
  },
  {
   "cell_type": "code",
   "execution_count": null,
   "id": "9066a02c",
   "metadata": {},
   "outputs": [],
   "source": [
    "from collections import Counter"
   ]
  },
  {
   "cell_type": "code",
   "execution_count": null,
   "id": "9d1ac796",
   "metadata": {},
   "outputs": [],
   "source": [
    "mylist=[1,1,1,1,1,1,1,2,2,2,2,3,3,3,3,3,4,4,4,4,4,4,4,4,4,4,5,5,5,5]"
   ]
  },
  {
   "cell_type": "code",
   "execution_count": null,
   "id": "5c783015",
   "metadata": {},
   "outputs": [],
   "source": [
    "Counter(mylist)"
   ]
  },
  {
   "cell_type": "code",
   "execution_count": null,
   "id": "9183c572",
   "metadata": {},
   "outputs": [],
   "source": [
    "sent=\"how many times des each word show uo un the sentence with a word and there is so much other studd her\""
   ]
  },
  {
   "cell_type": "code",
   "execution_count": null,
   "id": "f8ec975b",
   "metadata": {},
   "outputs": [],
   "source": [
    "Counter(sent.lower().split())"
   ]
  },
  {
   "cell_type": "code",
   "execution_count": null,
   "id": "56d2567f",
   "metadata": {},
   "outputs": [],
   "source": [
    "letter='asdasfasfvsasreqtefgasfgwegdbsaDGF'"
   ]
  },
  {
   "cell_type": "code",
   "execution_count": null,
   "id": "f96572e7",
   "metadata": {},
   "outputs": [],
   "source": [
    "c=Counter(letter)"
   ]
  },
  {
   "cell_type": "code",
   "execution_count": null,
   "id": "32c6aa7f",
   "metadata": {},
   "outputs": [],
   "source": [
    "c"
   ]
  },
  {
   "cell_type": "code",
   "execution_count": null,
   "id": "f9d94e76",
   "metadata": {},
   "outputs": [],
   "source": [
    "c.most_common()"
   ]
  },
  {
   "cell_type": "code",
   "execution_count": null,
   "id": "67af524d",
   "metadata": {},
   "outputs": [],
   "source": [
    "list(c)"
   ]
  },
  {
   "cell_type": "code",
   "execution_count": null,
   "id": "70ae6a69",
   "metadata": {},
   "outputs": [],
   "source": [
    "from collections import defaultdict"
   ]
  },
  {
   "cell_type": "code",
   "execution_count": null,
   "id": "5ba47b15",
   "metadata": {},
   "outputs": [],
   "source": [
    "d={'a':10}\n",
    "d"
   ]
  },
  {
   "cell_type": "code",
   "execution_count": null,
   "id": "dfefb646",
   "metadata": {},
   "outputs": [],
   "source": [
    "d['a']"
   ]
  },
  {
   "cell_type": "code",
   "execution_count": null,
   "id": "691de62a",
   "metadata": {},
   "outputs": [],
   "source": [
    "d['b']"
   ]
  },
  {
   "cell_type": "code",
   "execution_count": null,
   "id": "46c51a5a",
   "metadata": {},
   "outputs": [],
   "source": [
    "d= defaultdict(lambda:0)"
   ]
  },
  {
   "cell_type": "code",
   "execution_count": null,
   "id": "ec1b247f",
   "metadata": {},
   "outputs": [],
   "source": [
    "d['b']"
   ]
  },
  {
   "cell_type": "code",
   "execution_count": null,
   "id": "77b27b47",
   "metadata": {},
   "outputs": [],
   "source": [
    "mytuple=(10,20,30)"
   ]
  },
  {
   "cell_type": "code",
   "execution_count": null,
   "id": "6ddde252",
   "metadata": {},
   "outputs": [],
   "source": [
    "from collections import namedtuple\n"
   ]
  },
  {
   "cell_type": "code",
   "execution_count": null,
   "id": "13e9c9f3",
   "metadata": {},
   "outputs": [],
   "source": [
    "Dog=namedtuple('Dog',['age','breed','name'])"
   ]
  },
  {
   "cell_type": "code",
   "execution_count": null,
   "id": "a0255017",
   "metadata": {},
   "outputs": [],
   "source": [
    "sammy=Dog(age=5,breed='husky',name='sam')"
   ]
  },
  {
   "cell_type": "code",
   "execution_count": null,
   "id": "6b2f9cf5",
   "metadata": {},
   "outputs": [],
   "source": [
    "type(sammy)"
   ]
  },
  {
   "cell_type": "code",
   "execution_count": null,
   "id": "bba1d509",
   "metadata": {},
   "outputs": [],
   "source": [
    "sammy"
   ]
  },
  {
   "cell_type": "code",
   "execution_count": null,
   "id": "534751c7",
   "metadata": {},
   "outputs": [],
   "source": [
    "sammy.age"
   ]
  },
  {
   "cell_type": "markdown",
   "id": "dc6c0750",
   "metadata": {},
   "source": [
    "opening and reading files and folder(os and show utility modules)"
   ]
  },
  {
   "cell_type": "code",
   "execution_count": null,
   "id": "f79977b8",
   "metadata": {},
   "outputs": [],
   "source": [
    "pwd"
   ]
  },
  {
   "cell_type": "code",
   "execution_count": null,
   "id": "1c3bb781",
   "metadata": {},
   "outputs": [],
   "source": [
    "f=open(\"pratice.txt\",'w+')\n",
    "f.write(\"This is a text file\")\n",
    "f.close()"
   ]
  },
  {
   "cell_type": "code",
   "execution_count": null,
   "id": "da19e999",
   "metadata": {},
   "outputs": [],
   "source": [
    "import os"
   ]
  },
  {
   "cell_type": "code",
   "execution_count": null,
   "id": "b11d0d61",
   "metadata": {},
   "outputs": [],
   "source": [
    "os.getcwd()"
   ]
  },
  {
   "cell_type": "code",
   "execution_count": null,
   "id": "962d9ef7",
   "metadata": {},
   "outputs": [],
   "source": [
    "os.listdir()"
   ]
  },
  {
   "cell_type": "code",
   "execution_count": null,
   "id": "1fdb6aa7",
   "metadata": {},
   "outputs": [],
   "source": [
    "import shutil"
   ]
  },
  {
   "cell_type": "code",
   "execution_count": null,
   "id": "7497c93d",
   "metadata": {},
   "outputs": [],
   "source": [
    "shutil.move(\"pratice.txt\",os.getcwd())"
   ]
  },
  {
   "cell_type": "code",
   "execution_count": null,
   "id": "8b87924c",
   "metadata": {},
   "outputs": [],
   "source": [
    "import send2trash"
   ]
  },
  {
   "cell_type": "code",
   "execution_count": null,
   "id": "7c70b1cd",
   "metadata": {},
   "outputs": [],
   "source": [
    "os.listdir()\n"
   ]
  },
  {
   "cell_type": "code",
   "execution_count": null,
   "id": "b1dec0ca",
   "metadata": {},
   "outputs": [],
   "source": [
    "send2trash.send2trash('pratice.txt')"
   ]
  },
  {
   "cell_type": "code",
   "execution_count": null,
   "id": "44671803",
   "metadata": {},
   "outputs": [],
   "source": [
    "for folder,sub_folders,files in os.walk()"
   ]
  },
  {
   "cell_type": "markdown",
   "id": "0efb0b9f",
   "metadata": {},
   "source": [
    "Date time module\n"
   ]
  },
  {
   "cell_type": "code",
   "execution_count": null,
   "id": "2917ab44",
   "metadata": {},
   "outputs": [],
   "source": [
    "import datetime"
   ]
  },
  {
   "cell_type": "code",
   "execution_count": null,
   "id": "aadfa197",
   "metadata": {},
   "outputs": [],
   "source": [
    "mytime=datetime.time(5,20)"
   ]
  },
  {
   "cell_type": "code",
   "execution_count": null,
   "id": "300adb5d",
   "metadata": {},
   "outputs": [],
   "source": [
    "mytime.minute"
   ]
  },
  {
   "cell_type": "code",
   "execution_count": null,
   "id": "5eb9dea6",
   "metadata": {},
   "outputs": [],
   "source": [
    "print(mytime)"
   ]
  },
  {
   "cell_type": "code",
   "execution_count": null,
   "id": "0718708a",
   "metadata": {},
   "outputs": [],
   "source": [
    "mytime=datetime.time(5)"
   ]
  },
  {
   "cell_type": "code",
   "execution_count": null,
   "id": "f3d3641c",
   "metadata": {},
   "outputs": [],
   "source": [
    "mytime.minute"
   ]
  },
  {
   "cell_type": "code",
   "execution_count": null,
   "id": "1a3df7f7",
   "metadata": {},
   "outputs": [],
   "source": [
    "print(mytime)"
   ]
  },
  {
   "cell_type": "code",
   "execution_count": null,
   "id": "e70c7577",
   "metadata": {},
   "outputs": [],
   "source": [
    "myy=datetime.time(5,55,43,33,)"
   ]
  },
  {
   "cell_type": "code",
   "execution_count": null,
   "id": "ef1c68f2",
   "metadata": {},
   "outputs": [],
   "source": [
    "print(myy)"
   ]
  },
  {
   "cell_type": "code",
   "execution_count": null,
   "id": "bbdb78d0",
   "metadata": {},
   "outputs": [],
   "source": [
    "today=datetime.date.today()"
   ]
  },
  {
   "cell_type": "code",
   "execution_count": null,
   "id": "ec9e1877",
   "metadata": {},
   "outputs": [],
   "source": [
    "print(today)"
   ]
  },
  {
   "cell_type": "code",
   "execution_count": null,
   "id": "13544d12",
   "metadata": {},
   "outputs": [],
   "source": [
    "today.year"
   ]
  },
  {
   "cell_type": "code",
   "execution_count": null,
   "id": "4736e1ab",
   "metadata": {},
   "outputs": [],
   "source": [
    "today.month"
   ]
  },
  {
   "cell_type": "code",
   "execution_count": null,
   "id": "9d001f4f",
   "metadata": {},
   "outputs": [],
   "source": [
    "today.day"
   ]
  },
  {
   "cell_type": "code",
   "execution_count": null,
   "id": "8101ef3a",
   "metadata": {},
   "outputs": [],
   "source": [
    "today.ctime()"
   ]
  },
  {
   "cell_type": "code",
   "execution_count": null,
   "id": "26372e6c",
   "metadata": {},
   "outputs": [],
   "source": [
    "from datetime import datetime"
   ]
  },
  {
   "cell_type": "code",
   "execution_count": null,
   "id": "c2c2a14d",
   "metadata": {},
   "outputs": [],
   "source": [
    "ma=datetime(2021,10,3,4,23,1)"
   ]
  },
  {
   "cell_type": "code",
   "execution_count": null,
   "id": "0067709e",
   "metadata": {},
   "outputs": [],
   "source": [
    "print(ma)"
   ]
  },
  {
   "cell_type": "code",
   "execution_count": null,
   "id": "14b41677",
   "metadata": {},
   "outputs": [],
   "source": [
    "ma=ma.replace(year=1997)"
   ]
  },
  {
   "cell_type": "code",
   "execution_count": null,
   "id": "08108ad8",
   "metadata": {},
   "outputs": [],
   "source": [
    "print(ma)"
   ]
  },
  {
   "cell_type": "code",
   "execution_count": null,
   "id": "b9ea8c46",
   "metadata": {},
   "outputs": [],
   "source": [
    "#date"
   ]
  },
  {
   "cell_type": "code",
   "execution_count": null,
   "id": "b936a3df",
   "metadata": {},
   "outputs": [],
   "source": [
    "from datetime import date"
   ]
  },
  {
   "cell_type": "code",
   "execution_count": null,
   "id": "5ae5ae8c",
   "metadata": {},
   "outputs": [],
   "source": [
    "date1=date(2021,11,3)\n",
    "date2=date(2020,11,3)"
   ]
  },
  {
   "cell_type": "code",
   "execution_count": null,
   "id": "5ccfb8b9",
   "metadata": {},
   "outputs": [],
   "source": [
    "date1-date2"
   ]
  },
  {
   "cell_type": "code",
   "execution_count": null,
   "id": "62aedd0d",
   "metadata": {},
   "outputs": [],
   "source": [
    " datetime1=datetime(2021,11,3,22,0)\n",
    "datetime2=datetime(2020,11,3,12,0)"
   ]
  },
  {
   "cell_type": "code",
   "execution_count": null,
   "id": "10aef994",
   "metadata": {},
   "outputs": [],
   "source": [
    "datetime1-datetime2"
   ]
  },
  {
   "cell_type": "markdown",
   "id": "271c56c5",
   "metadata": {},
   "source": [
    "debugger\n"
   ]
  },
  {
   "cell_type": "code",
   "execution_count": null,
   "id": "b5d45ef0",
   "metadata": {},
   "outputs": [],
   "source": [
    "x=[1,2,3]\n",
    "y=2\n",
    "z=3\n"
   ]
  },
  {
   "cell_type": "code",
   "execution_count": null,
   "id": "bb47a37b",
   "metadata": {},
   "outputs": [],
   "source": [
    "import pdb"
   ]
  },
  {
   "cell_type": "code",
   "execution_count": null,
   "id": "16c38f80",
   "metadata": {},
   "outputs": [],
   "source": [
    "x=[1,2,3]\n",
    "\n",
    "y=2\n",
    "\n",
    "z=3\n",
    "\n",
    "result_one=y+z\n",
    "pdb.set_trace()\n",
    "result_two=y+x"
   ]
  },
  {
   "cell_type": "markdown",
   "id": "02df18c4",
   "metadata": {},
   "source": [
    "timing python code"
   ]
  },
  {
   "cell_type": "code",
   "execution_count": null,
   "id": "cb13040a",
   "metadata": {},
   "outputs": [],
   "source": [
    "def func_once(n):\n",
    "    return [str(num) for num in range(n)]"
   ]
  },
  {
   "cell_type": "code",
   "execution_count": null,
   "id": "e8a4e97f",
   "metadata": {},
   "outputs": [],
   "source": [
    "func_once(10)"
   ]
  },
  {
   "cell_type": "code",
   "execution_count": null,
   "id": "daef5f61",
   "metadata": {},
   "outputs": [],
   "source": [
    "def func_two(y):\n",
    "    return list(map(str,range(y)))"
   ]
  },
  {
   "cell_type": "code",
   "execution_count": null,
   "id": "975c6fde",
   "metadata": {},
   "outputs": [],
   "source": [
    "func_two(10)"
   ]
  },
  {
   "cell_type": "code",
   "execution_count": null,
   "id": "d9eaf771",
   "metadata": {},
   "outputs": [],
   "source": [
    "import time \n",
    "# current time before the\n",
    "start_time=time.time()\n",
    "#run code\n",
    "result=func_once(10000000)\n",
    "#current time after runnung code\n",
    "end_time=time.time()\n",
    "#elapsedtime\n",
    "print( end_time-start_time)"
   ]
  },
  {
   "cell_type": "code",
   "execution_count": null,
   "id": "6a44741b",
   "metadata": {},
   "outputs": [],
   "source": [
    "import time \n",
    "# current time before the\n",
    "start_time=time.time()\n",
    "#run code\n",
    "result=func_two(10000000)\n",
    "#current time after runnung code\n",
    "end_time=time.time()\n",
    "#elapsedtime\n",
    "print( end_time-start_time)"
   ]
  },
  {
   "cell_type": "code",
   "execution_count": null,
   "id": "25b9cd10",
   "metadata": {},
   "outputs": [],
   "source": [
    "import timeit"
   ]
  },
  {
   "cell_type": "code",
   "execution_count": null,
   "id": "82b2af2d",
   "metadata": {},
   "outputs": [],
   "source": [
    "timeit.timeit"
   ]
  },
  {
   "cell_type": "code",
   "execution_count": null,
   "id": "70ac40db",
   "metadata": {},
   "outputs": [],
   "source": [
    "stmt='''\n",
    "func_one(100)\n",
    "\n",
    "\n",
    "'''"
   ]
  },
  {
   "cell_type": "code",
   "execution_count": null,
   "id": "931dd49e",
   "metadata": {},
   "outputs": [],
   "source": [
    "setup='''\n",
    "def func_one(y):\n",
    "    return list(map(str,range(y)))\n",
    "'''"
   ]
  },
  {
   "cell_type": "code",
   "execution_count": null,
   "id": "d184dd31",
   "metadata": {},
   "outputs": [],
   "source": [
    "timeit.timeit(stmt,setup,number=100000)"
   ]
  },
  {
   "cell_type": "code",
   "execution_count": null,
   "id": "5057f66a",
   "metadata": {},
   "outputs": [],
   "source": [
    "%%timeit\n",
    "func_once(100)"
   ]
  },
  {
   "cell_type": "code",
   "execution_count": null,
   "id": "2fb9b08e",
   "metadata": {},
   "outputs": [],
   "source": [
    "%%timeit\n",
    "func_two(100)"
   ]
  },
  {
   "cell_type": "code",
   "execution_count": null,
   "id": "6cec5364",
   "metadata": {},
   "outputs": [],
   "source": [
    "'dog' in 'you are a dog'"
   ]
  },
  {
   "cell_type": "markdown",
   "id": "7d5f70fd",
   "metadata": {},
   "source": [
    "REGULAR EXPRESSION"
   ]
  },
  {
   "cell_type": "code",
   "execution_count": null,
   "id": "120b6f21",
   "metadata": {},
   "outputs": [],
   "source": [
    "text='the agents phone number is 408-222-3333 call soon'"
   ]
  },
  {
   "cell_type": "code",
   "execution_count": null,
   "id": "8074077c",
   "metadata": {},
   "outputs": [],
   "source": [
    "'phone' in text"
   ]
  },
  {
   "cell_type": "code",
   "execution_count": null,
   "id": "546d6881",
   "metadata": {},
   "outputs": [],
   "source": [
    "import re"
   ]
  },
  {
   "cell_type": "code",
   "execution_count": null,
   "id": "79522098",
   "metadata": {},
   "outputs": [],
   "source": [
    "pattern = 'phone'"
   ]
  },
  {
   "cell_type": "code",
   "execution_count": null,
   "id": "cdfea039",
   "metadata": {},
   "outputs": [],
   "source": [
    "re.search(pattern,text)"
   ]
  },
  {
   "cell_type": "code",
   "execution_count": null,
   "id": "add75934",
   "metadata": {},
   "outputs": [],
   "source": [
    "match=re.search(pattern,text)"
   ]
  },
  {
   "cell_type": "code",
   "execution_count": null,
   "id": "022a8638",
   "metadata": {},
   "outputs": [],
   "source": [
    "match"
   ]
  },
  {
   "cell_type": "code",
   "execution_count": null,
   "id": "acc9da42",
   "metadata": {},
   "outputs": [],
   "source": [
    "match.span()"
   ]
  },
  {
   "cell_type": "code",
   "execution_count": null,
   "id": "85d9ea5b",
   "metadata": {},
   "outputs": [],
   "source": [
    "match.start()"
   ]
  },
  {
   "cell_type": "code",
   "execution_count": null,
   "id": "19b723fb",
   "metadata": {},
   "outputs": [],
   "source": [
    "match.end()"
   ]
  },
  {
   "cell_type": "code",
   "execution_count": null,
   "id": "9832e583",
   "metadata": {},
   "outputs": [],
   "source": [
    "text=\"this is my phone and the phone is a phone\""
   ]
  },
  {
   "cell_type": "code",
   "execution_count": null,
   "id": "80295dbb",
   "metadata": {},
   "outputs": [],
   "source": [
    "re.search('phone',text)"
   ]
  },
  {
   "cell_type": "code",
   "execution_count": null,
   "id": "959d0155",
   "metadata": {},
   "outputs": [],
   "source": [
    "re.findall('phone',text)"
   ]
  },
  {
   "cell_type": "code",
   "execution_count": null,
   "id": "21d79a90",
   "metadata": {},
   "outputs": [],
   "source": [
    "match=re.findall('phone',text)"
   ]
  },
  {
   "cell_type": "code",
   "execution_count": null,
   "id": "601a1dd9",
   "metadata": {},
   "outputs": [],
   "source": [
    "len(match)\n"
   ]
  },
  {
   "cell_type": "code",
   "execution_count": null,
   "id": "8268e55c",
   "metadata": {},
   "outputs": [],
   "source": [
    "for match in re.finditer('phone',text):"
   ]
  },
  {
   "cell_type": "markdown",
   "id": "62194c44",
   "metadata": {},
   "source": [
    "zipping and unzippping the files"
   ]
  },
  {
   "cell_type": "code",
   "execution_count": null,
   "id": "e022ee8b",
   "metadata": {},
   "outputs": [],
   "source": [
    "f=open('fileone.txt','w+')\n",
    "f.write('one file')\n",
    "f.close()"
   ]
  },
  {
   "cell_type": "code",
   "execution_count": null,
   "id": "7f639065",
   "metadata": {},
   "outputs": [],
   "source": [
    "f=open('filetwo.txt','w+')\n",
    "f.write('two file')\n",
    "f.close()"
   ]
  },
  {
   "cell_type": "code",
   "execution_count": null,
   "id": "8e324b50",
   "metadata": {},
   "outputs": [],
   "source": [
    "import zipfile\n"
   ]
  },
  {
   "cell_type": "code",
   "execution_count": null,
   "id": "06143766",
   "metadata": {},
   "outputs": [],
   "source": [
    "comp_file=zipfile.ZipFile('comp_file','w')"
   ]
  },
  {
   "cell_type": "code",
   "execution_count": null,
   "id": "7b99dd7a",
   "metadata": {},
   "outputs": [],
   "source": [
    "comp_file.write('fileone.txt',compress_type=zipfile.ZIP_DEFLATED)"
   ]
  },
  {
   "cell_type": "code",
   "execution_count": null,
   "id": "20970dc5",
   "metadata": {},
   "outputs": [],
   "source": [
    "comp_file.write('filetwo.txt',compress_type=zipfile.ZIP_DEFLATED)"
   ]
  },
  {
   "cell_type": "code",
   "execution_count": null,
   "id": "d8f02303",
   "metadata": {},
   "outputs": [],
   "source": [
    "comp_file.close()"
   ]
  },
  {
   "cell_type": "code",
   "execution_count": null,
   "id": "5bba67f7",
   "metadata": {},
   "outputs": [],
   "source": [
    "zip_obj=zipfile.ZipFile('comp_file.zip','r')"
   ]
  },
  {
   "cell_type": "markdown",
   "id": "1a93523b",
   "metadata": {},
   "source": [
    "web scrapping\n",
    "\n"
   ]
  },
  {
   "cell_type": "code",
   "execution_count": null,
   "id": "3acd098f",
   "metadata": {},
   "outputs": [],
   "source": [
    " import requests"
   ]
  },
  {
   "cell_type": "code",
   "execution_count": null,
   "id": "e1148d4e",
   "metadata": {},
   "outputs": [],
   "source": [
    "import lxml\n"
   ]
  },
  {
   "cell_type": "code",
   "execution_count": null,
   "id": "0262d4cf",
   "metadata": {},
   "outputs": [],
   "source": [
    "import bs4"
   ]
  },
  {
   "cell_type": "code",
   "execution_count": null,
   "id": "709be29b",
   "metadata": {},
   "outputs": [],
   "source": [
    "result=requests.get(\"https://en.wikipedia.org/wiki/Narendra_Modi\")"
   ]
  },
  {
   "cell_type": "code",
   "execution_count": null,
   "id": "151cf95b",
   "metadata": {},
   "outputs": [],
   "source": [
    "type(result)"
   ]
  },
  {
   "cell_type": "code",
   "execution_count": null,
   "id": "efded003",
   "metadata": {},
   "outputs": [],
   "source": [
    "result.text"
   ]
  },
  {
   "cell_type": "code",
   "execution_count": null,
   "id": "8902fe11",
   "metadata": {},
   "outputs": [],
   "source": [
    "soup=bs4.BeautifulSoup(result.text,\"lxml\")"
   ]
  },
  {
   "cell_type": "code",
   "execution_count": null,
   "id": "eb58a22b",
   "metadata": {},
   "outputs": [],
   "source": [
    "soup"
   ]
  },
  {
   "cell_type": "code",
   "execution_count": null,
   "id": "96a206fb",
   "metadata": {},
   "outputs": [],
   "source": [
    "soup.select('title')"
   ]
  },
  {
   "cell_type": "code",
   "execution_count": null,
   "id": "ac0eb183",
   "metadata": {},
   "outputs": [],
   "source": [
    "soup.select('p')"
   ]
  },
  {
   "cell_type": "code",
   "execution_count": null,
   "id": "2d12ca30",
   "metadata": {},
   "outputs": [],
   "source": [
    "soup.select('title')[0].getText()"
   ]
  },
  {
   "cell_type": "code",
   "execution_count": null,
   "id": "ac78c705",
   "metadata": {},
   "outputs": [],
   "source": [
    "site=soup.select('p')"
   ]
  },
  {
   "cell_type": "code",
   "execution_count": null,
   "id": "a27bb76d",
   "metadata": {},
   "outputs": [],
   "source": [
    "site[0]"
   ]
  },
  {
   "cell_type": "raw",
   "id": "710e5de3",
   "metadata": {},
   "source": [
    "res=requests.get(\"https://en.wikipedia.org/wiki/Narendra_Modi\")"
   ]
  },
  {
   "cell_type": "code",
   "execution_count": null,
   "id": "e98c8934",
   "metadata": {},
   "outputs": [],
   "source": [
    "res=requests.get(\"https://en.wikipedia.org/wiki/Narendra_Modi\")"
   ]
  },
  {
   "cell_type": "code",
   "execution_count": null,
   "id": "1ac6141b",
   "metadata": {},
   "outputs": [],
   "source": [
    "soup=bs4.BeautifulSoup(res.text,'lxml')"
   ]
  },
  {
   "cell_type": "code",
   "execution_count": null,
   "id": "fc893596",
   "metadata": {},
   "outputs": [],
   "source": [
    "soup.select('.fn')[0]"
   ]
  },
  {
   "cell_type": "code",
   "execution_count": null,
   "id": "825ffc7e",
   "metadata": {},
   "outputs": [],
   "source": [
    "first=soup.select('.fn')[0]"
   ]
  },
  {
   "cell_type": "code",
   "execution_count": null,
   "id": "db781880",
   "metadata": {},
   "outputs": [],
   "source": [
    "first.text"
   ]
  },
  {
   "cell_type": "code",
   "execution_count": null,
   "id": "3f96eaa9",
   "metadata": {},
   "outputs": [],
   "source": [
    "for item in soup.select('.fn'):\n",
    "    print(item.text)"
   ]
  },
  {
   "cell_type": "code",
   "execution_count": null,
   "id": "4de6389e",
   "metadata": {},
   "outputs": [],
   "source": [
    "res=requests.get('https://en.wikipedia.org/wiki/Ana_de_Armas')"
   ]
  },
  {
   "cell_type": "code",
   "execution_count": null,
   "id": "0dc79426",
   "metadata": {},
   "outputs": [],
   "source": [
    "soup=bs4.BeautifulSoup(res.text,'lxml')"
   ]
  },
  {
   "cell_type": "code",
   "execution_count": null,
   "id": "d627c156",
   "metadata": {},
   "outputs": [],
   "source": [
    "soup.select('img')[0]"
   ]
  },
  {
   "cell_type": "code",
   "execution_count": null,
   "id": "3a2be2b9",
   "metadata": {},
   "outputs": [],
   "source": [
    "soup.select('.mw-file-description')[0]"
   ]
  },
  {
   "cell_type": "code",
   "execution_count": null,
   "id": "5d9e5891",
   "metadata": {},
   "outputs": [],
   "source": [
    "comp=soup.select('.mw-file-description')[0]"
   ]
  },
  {
   "cell_type": "code",
   "execution_count": null,
   "id": "1566edfc",
   "metadata": {},
   "outputs": [],
   "source": [
    "comp['']"
   ]
  },
  {
   "cell_type": "markdown",
   "id": "53fd9c6a",
   "metadata": {},
   "source": [
    "<img\n",
    "src='//upload.wikimedia.org/wikipedia/commons/thumb/1/1c/Ana_de_Armas_by_Gage_Skidmore.jpg/220px-Ana_de_Armas_by_Gage_Skidmore.jpg'>"
   ]
  },
  {
   "cell_type": "code",
   "execution_count": null,
   "id": "4450ad33",
   "metadata": {},
   "outputs": [],
   "source": [
    "image=requests.get('https://upload.wikimedia.org/wikipedia/commons/thumb/1/1c/Ana_de_Armas_by_Gage_Skidmore.jpg/220px-Ana_de_Armas_by_Gage_Skidmore.jpg')"
   ]
  },
  {
   "cell_type": "code",
   "execution_count": null,
   "id": "0b8985c9",
   "metadata": {},
   "outputs": [],
   "source": [
    "image.content"
   ]
  },
  {
   "cell_type": "code",
   "execution_count": null,
   "id": "e9426b48",
   "metadata": {},
   "outputs": [],
   "source": [
    "f=open('myfile11','wb')"
   ]
  },
  {
   "cell_type": "code",
   "execution_count": null,
   "id": "0178c280",
   "metadata": {},
   "outputs": [],
   "source": [
    "f.write(image.content)"
   ]
  },
  {
   "cell_type": "code",
   "execution_count": null,
   "id": "9543447d",
   "metadata": {},
   "outputs": [],
   "source": [
    "f.close()"
   ]
  },
  {
   "cell_type": "code",
   "execution_count": null,
   "id": "daf55740",
   "metadata": {},
   "outputs": [],
   "source": [
    "#goal is to get title of every book with a 2 star rating"
   ]
  },
  {
   "cell_type": "code",
   "execution_count": null,
   "id": "0a9af1ba",
   "metadata": {},
   "outputs": [],
   "source": [
    "import requests"
   ]
  },
  {
   "cell_type": "code",
   "execution_count": null,
   "id": "06a49e22",
   "metadata": {},
   "outputs": [],
   "source": [
    "import bs4"
   ]
  },
  {
   "cell_type": "code",
   "execution_count": null,
   "id": "dffab765",
   "metadata": {},
   "outputs": [],
   "source": [
    "base_url = 'http://books.toscrape.com/catalogue/page-{}.html'"
   ]
  },
  {
   "cell_type": "code",
   "execution_count": null,
   "id": "d6821f6d",
   "metadata": {},
   "outputs": [],
   "source": [
    "res=requests.get(base_url)\n",
    "soup=bs4.BeautifulSoup(res.text,'lxml')\n",
    "#print(soup)\n",
    "products=soup.select(\".product_pod\")\n"
   ]
  },
  {
   "cell_type": "code",
   "execution_count": null,
   "id": "8df5a109",
   "metadata": {},
   "outputs": [],
   "source": [
    "example=products[0]"
   ]
  },
  {
   "cell_type": "code",
   "execution_count": null,
   "id": "6011cf3c",
   "metadata": {},
   "outputs": [],
   "source": [
    "example.select(\".star-rating.Three\")"
   ]
  },
  {
   "cell_type": "code",
   "execution_count": null,
   "id": "1693231a",
   "metadata": {},
   "outputs": [],
   "source": [
    "example.select('a')[1]['title']"
   ]
  },
  {
   "cell_type": "code",
   "execution_count": null,
   "id": "18ebd650",
   "metadata": {},
   "outputs": [],
   "source": [
    "two_star_titles=[]\n",
    "\n",
    "for n in range(50):\n",
    "    \n",
    "    scrape_url=base_url.format(n)\n",
    "    res=requests.get(scrape_url)\n",
    "    \n",
    "    soup=bs4.BeautifulSoup(res.text,'lxml')\n",
    "    books=soup.select(\".product_pod\")\n",
    "    \n",
    "    for book in books:\n",
    "        if len(book.select('star-rating.Two'))!=0:\n",
    "            book_title=book.select('a')[1]['title']\n",
    "            two_star_titles.append(book_title)\n",
    "            "
   ]
  },
  {
   "cell_type": "code",
   "execution_count": null,
   "id": "10b7bc98",
   "metadata": {},
   "outputs": [],
   "source": [
    "two_star_titles"
   ]
  },
  {
   "cell_type": "code",
   "execution_count": null,
   "id": "8b73816f",
   "metadata": {},
   "outputs": [],
   "source": [
    "import requests\n",
    "import bs4"
   ]
  },
  {
   "cell_type": "code",
   "execution_count": null,
   "id": "389df26c",
   "metadata": {},
   "outputs": [],
   "source": [
    "base_url =requests.get('https://en.wikipedia.org/wiki/Jagjit_Singh')"
   ]
  },
  {
   "cell_type": "code",
   "execution_count": null,
   "id": "4c620724",
   "metadata": {},
   "outputs": [],
   "source": [
    "soup=bs4.BeautifulSoup(base_url.text,'lxml')"
   ]
  },
  {
   "cell_type": "code",
   "execution_count": null,
   "id": "7dab7c7c",
   "metadata": {},
   "outputs": [],
   "source": [
    "soup"
   ]
  },
  {
   "cell_type": "code",
   "execution_count": null,
   "id": "670ee9f7",
   "metadata": {},
   "outputs": [],
   "source": [
    "su=soup.select('.vector-header-start')"
   ]
  },
  {
   "cell_type": "code",
   "execution_count": null,
   "id": "f5314012",
   "metadata": {},
   "outputs": [],
   "source": []
  },
  {
   "cell_type": "code",
   "execution_count": null,
   "id": "fc7c0454",
   "metadata": {},
   "outputs": [],
   "source": [
    "import bs4\n",
    "import requests\n",
    "import lxml"
   ]
  },
  {
   "cell_type": "code",
   "execution_count": null,
   "id": "1c35be38",
   "metadata": {},
   "outputs": [],
   "source": [
    "res=requests.get('http://quotes.toscrape.com/')"
   ]
  },
  {
   "cell_type": "code",
   "execution_count": null,
   "id": "1ea23cdc",
   "metadata": {},
   "outputs": [],
   "source": [
    "soup=bs4.BeautifulSoup(res.text,'lxml')"
   ]
  },
  {
   "cell_type": "code",
   "execution_count": null,
   "id": "945d20dd",
   "metadata": {},
   "outputs": [],
   "source": [
    "soup"
   ]
  },
  {
   "cell_type": "code",
   "execution_count": null,
   "id": "a51aa968",
   "metadata": {},
   "outputs": [],
   "source": [
    "auto=set()\n",
    "for name in soup.select('.author'):\n",
    "    auto.add(name.text)\n",
    "    "
   ]
  },
  {
   "cell_type": "code",
   "execution_count": null,
   "id": "1b723c02",
   "metadata": {},
   "outputs": [],
   "source": [
    "auto"
   ]
  },
  {
   "cell_type": "code",
   "execution_count": null,
   "id": "8f688dc2",
   "metadata": {},
   "outputs": [],
   "source": [
    "lis=[]\n",
    "for quotes in soup.select('.text'):\n",
    "    lis.append(quotes.text)"
   ]
  },
  {
   "cell_type": "code",
   "execution_count": null,
   "id": "fd3f7e20",
   "metadata": {},
   "outputs": [],
   "source": [
    "lis"
   ]
  },
  {
   "cell_type": "code",
   "execution_count": null,
   "id": "acacd798",
   "metadata": {},
   "outputs": [],
   "source": [
    "tag=soup.select('.tag-item')"
   ]
  },
  {
   "cell_type": "code",
   "execution_count": null,
   "id": "93a65009",
   "metadata": {},
   "outputs": [],
   "source": [
    "for tag in soup.select(\".tag-item\"):\n",
    "    print(tag.text)"
   ]
  },
  {
   "cell_type": "code",
   "execution_count": null,
   "id": "4014c554",
   "metadata": {},
   "outputs": [],
   "source": [
    "base_url='https://quotes.toscrape.com/tag/love/page/{}/'"
   ]
  },
  {
   "cell_type": "code",
   "execution_count": null,
   "id": "bf0e59b3",
   "metadata": {},
   "outputs": [],
   "source": [
    "res=requests.get('https://quotes.toscrape.com/tag/love/page/{}/')"
   ]
  },
  {
   "cell_type": "code",
   "execution_count": null,
   "id": "b8630946",
   "metadata": {},
   "outputs": [],
   "source": [
    "soup=bs4.BeautifulSoup(res.text,'lxml')"
   ]
  },
  {
   "cell_type": "code",
   "execution_count": null,
   "id": "7d2ec8df",
   "metadata": {},
   "outputs": [],
   "source": [
    "soup"
   ]
  },
  {
   "cell_type": "code",
   "execution_count": null,
   "id": "b10eb59e",
   "metadata": {},
   "outputs": [],
   "source": [
    "auto=[]\n",
    "for i in range (10):\n",
    "    scrape_url=base_url.format(i)\n",
    "    res=requests.get(scrape_url)\n",
    "    \n",
    "    soup=bs4.BeautifulSoup(res.text,'lxml')\n",
    "    aut=soup.select('.author')\n",
    "    for name in soup.select('.author'):\n",
    "        print(name.text)"
   ]
  },
  {
   "cell_type": "code",
   "execution_count": null,
   "id": "4bb54f15",
   "metadata": {},
   "outputs": [],
   "source": [
    "two_star_titles=[]\n",
    "\n",
    "for n in range(50):\n",
    "    \n",
    "    scrape_url=base_url.format(n)\n",
    "    res=requests.get(scrape_url)\n",
    "    \n",
    "    soup=bs4.BeautifulSoup(res.text,'lxml')\n",
    "    books=soup.select(\".product_pod\")\n",
    "    \n",
    "    for book in books:\n",
    "        if len(book.select('star-rating.Two'))!=0:\n",
    "            book_title=book.select('a')[1]['title']\n",
    "            two_star_titles.append(book_title)\n",
    "            "
   ]
  },
  {
   "cell_type": "code",
   "execution_count": null,
   "id": "807405f4",
   "metadata": {},
   "outputs": [],
   "source": [
    "from PIL import Image"
   ]
  },
  {
   "cell_type": "code",
   "execution_count": null,
   "id": "f2ba8a2d",
   "metadata": {},
   "outputs": [],
   "source": [
    "mac=Image.open('example.jpg')"
   ]
  },
  {
   "cell_type": "code",
   "execution_count": null,
   "id": "175b0a80",
   "metadata": {},
   "outputs": [],
   "source": [
    "while True:\n",
    "    tasks = []\n",
    "\n",
    "    def test_func():\n",
    "        tasks.append('a')\n",
    "        return tasks\n",
    "    test_func()\n",
    "    print(tasks)\n",
    "    break;"
   ]
  },
  {
   "cell_type": "code",
   "execution_count": null,
   "id": "7a3f11e8",
   "metadata": {},
   "outputs": [],
   "source": []
  },
  {
   "cell_type": "code",
   "execution_count": null,
   "id": "dff89ec5",
   "metadata": {},
   "outputs": [],
   "source": [
    "tasks=[]\n",
    "\n",
    "while True:\n",
    "    def addtask():\n",
    "        task=input(\"enter the task\")\n",
    "        tasks.append(task)\n",
    "    def deltask():\n",
    "        task=tasks.pop()\n",
    "        print(task)\n",
    "    def display():\n",
    "        print(tasks)\n",
    "    def exit():\n",
    "        return 0\n",
    "\n",
    "    option=int(input(\"enter \\n 1.for adding a task \\n2.for delecting task \\n 3.for displaying all the task\\n 4.exit\\n \"))\n",
    "\n",
    "    if option==1:\n",
    "        addtask()\n",
    "    elif option ==2:\n",
    "        deltask()\n",
    "    elif option ==3:\n",
    "        display()\n",
    "    else:\n",
    "        break\n"
   ]
  },
  {
   "cell_type": "code",
   "execution_count": null,
   "id": "8a94a056",
   "metadata": {
    "scrolled": false
   },
   "outputs": [],
   "source": [
    "def add(n1,n2):\n",
    "    print (n1+n2)\n",
    "def sub(n1,n2):\n",
    "    print (n1-n2)\n",
    "def mul(n1,n2):\n",
    "    print (n1*n2)\n",
    "def div(n1,n2):\n",
    "    print( n1/n2)\n",
    "\n",
    "n1=int(input(\"enter the 1st number \"))\n",
    "n2=int(input(\"enter the 2nd number \"))\n",
    "op=int(input(\"enter the operation \\n1 to add \\n2 to substract \\n3 to multiply \\n4 to divide\\n\"))\n",
    "\n",
    "if op==1:\n",
    "    add(n1,n2)\n",
    "elif op==2:\n",
    "    sub(n1,n2)\n",
    "elif op==3:\n",
    "    mul(n1,n2)\n",
    "elif op==4:\n",
    "    div(n1,n2)\n",
    "else:\n",
    "    print(\"Enter a valid operation\")"
   ]
  },
  {
   "cell_type": "code",
   "execution_count": null,
   "id": "ada02263",
   "metadata": {},
   "outputs": [],
   "source": [
    "#Password generator \n",
    "\n",
    "import random\n",
    "import string\n",
    "\n",
    "def generate_password(length):\n",
    "    all_chars = string.ascii_letters + string.digits\n",
    "    password = ''.join(random.choice(all_chars) for i in range(length))\n",
    "    return password\n",
    "n=int(input(\"Enter the lenght \"))\n",
    "print(generate_password(n))\n"
   ]
  },
  {
   "cell_type": "raw",
   "id": "7c919d1a",
   "metadata": {},
   "source": [
    "#rock paper and scissor\n"
   ]
  },
  {
   "cell_type": "code",
   "execution_count": null,
   "id": "538634ba",
   "metadata": {},
   "outputs": [],
   "source": [
    "import random \n",
    "user_op=input(\"enter rock paper or scissor \")\n",
    "option=['rock','paper','scissor']\n",
    "comp_op=random.choice(option)\n",
    "\n",
    "if user_op==\"rock\" and comp_op=='rock':\n",
    "    print('USER :',user_op)\n",
    "    print('COMPUTER :',comp_op)\n",
    "    print(\"DRAW!!\")\n",
    "elif user_op==\"rock\" and comp_op==\"paper\":\n",
    "    print('USER :',user_op)\n",
    "    print('COMPUTER :',comp_op)\n",
    "    print(\"COMPUTER WINS!!\")\n",
    "elif user_op=='rock' and comp_op=='scissor':\n",
    "    print('USER :',user_op)\n",
    "    print('COMPUTER :',comp_op)\n",
    "    print(\"USER WINS!!\")\n",
    "elif user_op=='paper' and comp_op=='rock':\n",
    "    print('USER :',user_op)\n",
    "    print('COMPUTER :',comp_op)\n",
    "    print(\"USER WINS!!\")\n",
    "elif user_op=='paper' and comp_op=='paper':\n",
    "    print('USER :',user_op)\n",
    "    print('COMPUTER :',comp_op)\n",
    "    \n",
    "    print(\"DRAW!!\")\n",
    "elif user_op=='paper' and comp_op==\"scissor\":\n",
    "    print('USER :',user_op)\n",
    "    print('COMPUTER :',comp_op)\n",
    "    print('COMPUTER WINS!!')\n",
    "elif user_op=='scissor' and comp_op=='rock':\n",
    "    print('USER :',user_op)\n",
    "    print('COMPUTER :',comp_op)\n",
    "    \n",
    "    print(\"COMPUTER WINS!!\")\n",
    "elif user_op=='scissor' and comp_op=='paper':\n",
    "    print('USER :',user_op)\n",
    "    print('COMPUTER :',comp_op)\n",
    "    print(\"USER WINS\")\n",
    "elif user_op=='scissor' and comp_op=='scissor':\n",
    "    print('USER :',user_op)\n",
    "    print('COMPUTER :',comp_op)\n",
    "    print(\"DRAW!!\")\n",
    "else:\n",
    "    print(\"enter valid options only rock paper and scissor\")"
   ]
  },
  {
   "cell_type": "markdown",
   "id": "f4e078ae",
   "metadata": {},
   "source": [
    "email "
   ]
  },
  {
   "cell_type": "code",
   "execution_count": null,
   "id": "578f63bc",
   "metadata": {},
   "outputs": [],
   "source": [
    "import smtplib\n"
   ]
  },
  {
   "cell_type": "code",
   "execution_count": null,
   "id": "34ecc0f4",
   "metadata": {},
   "outputs": [],
   "source": [
    "smtp_object = smtplib.SMTP('smtp.gmail.com',587)"
   ]
  },
  {
   "cell_type": "code",
   "execution_count": null,
   "id": "b4472287",
   "metadata": {},
   "outputs": [],
   "source": [
    "smtp_object.ehlo()"
   ]
  },
  {
   "cell_type": "code",
   "execution_count": null,
   "id": "672fd725",
   "metadata": {},
   "outputs": [],
   "source": [
    "smtp_object.starttls()"
   ]
  },
  {
   "cell_type": "code",
   "execution_count": null,
   "id": "f0d3a3a7",
   "metadata": {},
   "outputs": [],
   "source": [
    "import getpass"
   ]
  },
  {
   "cell_type": "code",
   "execution_count": null,
   "id": "6bd40d46",
   "metadata": {},
   "outputs": [],
   "source": [
    "pswd=getpass.getpass('Password please :')"
   ]
  },
  {
   "cell_type": "code",
   "execution_count": null,
   "id": "1a7e164c",
   "metadata": {},
   "outputs": [],
   "source": [
    "pswd"
   ]
  },
  {
   "cell_type": "markdown",
   "id": "097179ef",
   "metadata": {},
   "source": [
    "receiving emails\n"
   ]
  },
  {
   "cell_type": "code",
   "execution_count": null,
   "id": "a49b9a60",
   "metadata": {},
   "outputs": [],
   "source": [
    "import email \n",
    "import imaplib"
   ]
  },
  {
   "cell_type": "code",
   "execution_count": null,
   "id": "3785b506",
   "metadata": {},
   "outputs": [],
   "source": [
    "M=imaplib.IMAP4_SSL('imap.gmail.com')\n"
   ]
  },
  {
   "cell_type": "code",
   "execution_count": null,
   "id": "6fd11373",
   "metadata": {},
   "outputs": [],
   "source": [
    "import getpass\n",
    "email=getpass.getpass(\"Email\")\n",
    "password=getpass.getpass(\"password\")"
   ]
  },
  {
   "cell_type": "code",
   "execution_count": null,
   "id": "148acb86",
   "metadata": {},
   "outputs": [],
   "source": [
    "M.login(email,password)\n"
   ]
  },
  {
   "cell_type": "code",
   "execution_count": null,
   "id": "9338d49f",
   "metadata": {},
   "outputs": [],
   "source": [
    "M.list()"
   ]
  },
  {
   "cell_type": "markdown",
   "id": "3b6d9155",
   "metadata": {},
   "source": [
    "Advance Numbers"
   ]
  },
  {
   "cell_type": "code",
   "execution_count": null,
   "id": "2b1e8c02",
   "metadata": {},
   "outputs": [],
   "source": [
    "hex(12)"
   ]
  },
  {
   "cell_type": "code",
   "execution_count": null,
   "id": "b3372ca4",
   "metadata": {},
   "outputs": [],
   "source": [
    "bin(234)"
   ]
  },
  {
   "cell_type": "code",
   "execution_count": null,
   "id": "2a173bcb",
   "metadata": {},
   "outputs": [],
   "source": [
    "pow(2,4)"
   ]
  },
  {
   "cell_type": "code",
   "execution_count": null,
   "id": "96f326d2",
   "metadata": {},
   "outputs": [],
   "source": [
    "pow(2,4,6)"
   ]
  },
  {
   "cell_type": "code",
   "execution_count": null,
   "id": "fbaa153a",
   "metadata": {},
   "outputs": [],
   "source": [
    "abs(2)"
   ]
  },
  {
   "cell_type": "raw",
   "id": "2135ecfa",
   "metadata": {},
   "source": []
  },
  {
   "cell_type": "code",
   "execution_count": null,
   "id": "407c878e",
   "metadata": {},
   "outputs": [],
   "source": [
    "round(3.9)"
   ]
  },
  {
   "cell_type": "code",
   "execution_count": null,
   "id": "7a762770",
   "metadata": {},
   "outputs": [],
   "source": [
    "round(3.4)"
   ]
  },
  {
   "cell_type": "markdown",
   "id": "99176739",
   "metadata": {},
   "source": [
    "Advance Strings"
   ]
  },
  {
   "cell_type": "code",
   "execution_count": 3,
   "id": "5952a7b7",
   "metadata": {},
   "outputs": [],
   "source": [
    "s='hello word'"
   ]
  },
  {
   "cell_type": "code",
   "execution_count": 4,
   "id": "30befdd7",
   "metadata": {},
   "outputs": [
    {
     "data": {
      "text/plain": [
       "'Hello word'"
      ]
     },
     "execution_count": 4,
     "metadata": {},
     "output_type": "execute_result"
    }
   ],
   "source": [
    "s.capitalize()"
   ]
  },
  {
   "cell_type": "code",
   "execution_count": 5,
   "id": "75da40ef",
   "metadata": {},
   "outputs": [
    {
     "data": {
      "text/plain": [
       "'HELLO WORD'"
      ]
     },
     "execution_count": 5,
     "metadata": {},
     "output_type": "execute_result"
    }
   ],
   "source": [
    "s.upper()"
   ]
  },
  {
   "cell_type": "code",
   "execution_count": 7,
   "id": "acaaf9a7",
   "metadata": {},
   "outputs": [
    {
     "data": {
      "text/plain": [
       "'hello word'"
      ]
     },
     "execution_count": 7,
     "metadata": {},
     "output_type": "execute_result"
    }
   ],
   "source": [
    "s.lower()"
   ]
  },
  {
   "cell_type": "code",
   "execution_count": 9,
   "id": "0f7a68a3",
   "metadata": {},
   "outputs": [
    {
     "data": {
      "text/plain": [
       "2"
      ]
     },
     "execution_count": 9,
     "metadata": {},
     "output_type": "execute_result"
    }
   ],
   "source": [
    "s.count('o')"
   ]
  },
  {
   "cell_type": "code",
   "execution_count": 10,
   "id": "3b99f111",
   "metadata": {},
   "outputs": [
    {
     "data": {
      "text/plain": [
       "4"
      ]
     },
     "execution_count": 10,
     "metadata": {},
     "output_type": "execute_result"
    }
   ],
   "source": [
    "s.find('o')"
   ]
  },
  {
   "cell_type": "code",
   "execution_count": 11,
   "id": "e566304e",
   "metadata": {},
   "outputs": [
    {
     "data": {
      "text/plain": [
       "'zzzzzhello wordzzzzz'"
      ]
     },
     "execution_count": 11,
     "metadata": {},
     "output_type": "execute_result"
    }
   ],
   "source": [
    "s.center(20,'z')"
   ]
  },
  {
   "cell_type": "code",
   "execution_count": 13,
   "id": "fe77f791",
   "metadata": {},
   "outputs": [
    {
     "data": {
      "text/plain": [
       "'hello   hi'"
      ]
     },
     "execution_count": 13,
     "metadata": {},
     "output_type": "execute_result"
    }
   ],
   "source": [
    "'hello\\thi'.expandtabs()"
   ]
  },
  {
   "cell_type": "code",
   "execution_count": 14,
   "id": "1a8c12b7",
   "metadata": {},
   "outputs": [],
   "source": [
    "s='hello'"
   ]
  },
  {
   "cell_type": "code",
   "execution_count": 15,
   "id": "6246dab5",
   "metadata": {},
   "outputs": [
    {
     "data": {
      "text/plain": [
       "True"
      ]
     },
     "execution_count": 15,
     "metadata": {},
     "output_type": "execute_result"
    }
   ],
   "source": [
    "s.isalnum()"
   ]
  },
  {
   "cell_type": "code",
   "execution_count": 16,
   "id": "54dea4c5",
   "metadata": {},
   "outputs": [
    {
     "data": {
      "text/plain": [
       "True"
      ]
     },
     "execution_count": 16,
     "metadata": {},
     "output_type": "execute_result"
    }
   ],
   "source": [
    "s.isalpha()"
   ]
  },
  {
   "cell_type": "code",
   "execution_count": 17,
   "id": "97200ab3",
   "metadata": {},
   "outputs": [
    {
     "data": {
      "text/plain": [
       "True"
      ]
     },
     "execution_count": 17,
     "metadata": {},
     "output_type": "execute_result"
    }
   ],
   "source": [
    "s.islower()"
   ]
  },
  {
   "cell_type": "code",
   "execution_count": 19,
   "id": "73901719",
   "metadata": {},
   "outputs": [
    {
     "data": {
      "text/plain": [
       "False"
      ]
     },
     "execution_count": 19,
     "metadata": {},
     "output_type": "execute_result"
    }
   ],
   "source": [
    "s.isspace()"
   ]
  },
  {
   "cell_type": "code",
   "execution_count": 20,
   "id": "2bd0948c",
   "metadata": {},
   "outputs": [
    {
     "data": {
      "text/plain": [
       "False"
      ]
     },
     "execution_count": 20,
     "metadata": {},
     "output_type": "execute_result"
    }
   ],
   "source": [
    "s.istitle()"
   ]
  },
  {
   "cell_type": "code",
   "execution_count": 21,
   "id": "070074c1",
   "metadata": {},
   "outputs": [
    {
     "data": {
      "text/plain": [
       "False"
      ]
     },
     "execution_count": 21,
     "metadata": {},
     "output_type": "execute_result"
    }
   ],
   "source": [
    "s.isupper()"
   ]
  },
  {
   "cell_type": "code",
   "execution_count": 22,
   "id": "5f5045bb",
   "metadata": {},
   "outputs": [
    {
     "data": {
      "text/plain": [
       "True"
      ]
     },
     "execution_count": 22,
     "metadata": {},
     "output_type": "execute_result"
    }
   ],
   "source": [
    "'HELLO'.isupper()"
   ]
  },
  {
   "cell_type": "code",
   "execution_count": 23,
   "id": "9b64d819",
   "metadata": {},
   "outputs": [
    {
     "data": {
      "text/plain": [
       "True"
      ]
     },
     "execution_count": 23,
     "metadata": {},
     "output_type": "execute_result"
    }
   ],
   "source": [
    "s.endswith('o')"
   ]
  },
  {
   "cell_type": "code",
   "execution_count": 24,
   "id": "1ff9efb1",
   "metadata": {},
   "outputs": [
    {
     "data": {
      "text/plain": [
       "['h', 'llo']"
      ]
     },
     "execution_count": 24,
     "metadata": {},
     "output_type": "execute_result"
    }
   ],
   "source": [
    "s.split('e')"
   ]
  },
  {
   "cell_type": "code",
   "execution_count": 25,
   "id": "cc5e5b6a",
   "metadata": {},
   "outputs": [],
   "source": [
    "s='hihihihih'"
   ]
  },
  {
   "cell_type": "code",
   "execution_count": 26,
   "id": "b3acb646",
   "metadata": {},
   "outputs": [
    {
     "data": {
      "text/plain": [
       "['h', 'h', 'h', 'h', 'h']"
      ]
     },
     "execution_count": 26,
     "metadata": {},
     "output_type": "execute_result"
    }
   ],
   "source": [
    "s.split('i')"
   ]
  },
  {
   "cell_type": "code",
   "execution_count": 30,
   "id": "cfb4fe24",
   "metadata": {},
   "outputs": [
    {
     "data": {
      "text/plain": [
       "('h', 'i', 'hihihih')"
      ]
     },
     "execution_count": 30,
     "metadata": {},
     "output_type": "execute_result"
    }
   ],
   "source": [
    "s.partition('i')"
   ]
  },
  {
   "cell_type": "markdown",
   "id": "f51c0e2d",
   "metadata": {},
   "source": [
    "Advance set"
   ]
  },
  {
   "cell_type": "code",
   "execution_count": 31,
   "id": "af956529",
   "metadata": {},
   "outputs": [],
   "source": [
    "s= set()"
   ]
  },
  {
   "cell_type": "code",
   "execution_count": 33,
   "id": "c776a3e2",
   "metadata": {},
   "outputs": [],
   "source": [
    "s.add(1)"
   ]
  },
  {
   "cell_type": "code",
   "execution_count": 34,
   "id": "2b55c31d",
   "metadata": {},
   "outputs": [],
   "source": [
    "s.add(2)"
   ]
  },
  {
   "cell_type": "code",
   "execution_count": 35,
   "id": "6fa25b32",
   "metadata": {},
   "outputs": [
    {
     "data": {
      "text/plain": [
       "{1, 2}"
      ]
     },
     "execution_count": 35,
     "metadata": {},
     "output_type": "execute_result"
    }
   ],
   "source": [
    "s"
   ]
  },
  {
   "cell_type": "code",
   "execution_count": 36,
   "id": "9cc5009b",
   "metadata": {},
   "outputs": [],
   "source": [
    "s.clear()"
   ]
  },
  {
   "cell_type": "code",
   "execution_count": 37,
   "id": "7a29ed13",
   "metadata": {},
   "outputs": [
    {
     "data": {
      "text/plain": [
       "set()"
      ]
     },
     "execution_count": 37,
     "metadata": {},
     "output_type": "execute_result"
    }
   ],
   "source": [
    "s"
   ]
  },
  {
   "cell_type": "code",
   "execution_count": 44,
   "id": "ebe1b8ae",
   "metadata": {},
   "outputs": [],
   "source": [
    "s={1,2,3,4}"
   ]
  },
  {
   "cell_type": "code",
   "execution_count": 39,
   "id": "509287eb",
   "metadata": {},
   "outputs": [],
   "source": [
    "sc=s.copy()"
   ]
  },
  {
   "cell_type": "code",
   "execution_count": 40,
   "id": "fe175755",
   "metadata": {},
   "outputs": [
    {
     "data": {
      "text/plain": [
       "{1, 2, 3}"
      ]
     },
     "execution_count": 40,
     "metadata": {},
     "output_type": "execute_result"
    }
   ],
   "source": [
    "sc"
   ]
  },
  {
   "cell_type": "code",
   "execution_count": 41,
   "id": "65ce64ab",
   "metadata": {},
   "outputs": [
    {
     "data": {
      "text/plain": [
       "{1, 2, 3}"
      ]
     },
     "execution_count": 41,
     "metadata": {},
     "output_type": "execute_result"
    }
   ],
   "source": [
    "s"
   ]
  },
  {
   "cell_type": "code",
   "execution_count": 45,
   "id": "1b71a7d6",
   "metadata": {},
   "outputs": [
    {
     "data": {
      "text/plain": [
       "{4}"
      ]
     },
     "execution_count": 45,
     "metadata": {},
     "output_type": "execute_result"
    }
   ],
   "source": [
    "s.difference(sc)"
   ]
  },
  {
   "cell_type": "code",
   "execution_count": 46,
   "id": "247f32eb",
   "metadata": {},
   "outputs": [
    {
     "ename": "NameError",
     "evalue": "name 'Sc' is not defined",
     "output_type": "error",
     "traceback": [
      "\u001b[1;31m---------------------------------------------------------------------------\u001b[0m",
      "\u001b[1;31mNameError\u001b[0m                                 Traceback (most recent call last)",
      "Cell \u001b[1;32mIn[46], line 1\u001b[0m\n\u001b[1;32m----> 1\u001b[0m s\u001b[38;5;241m.\u001b[39mdifference(\u001b[43mSc\u001b[49m)\n",
      "\u001b[1;31mNameError\u001b[0m: name 'Sc' is not defined"
     ]
    }
   ],
   "source": [
    "s.difference(Sc)"
   ]
  },
  {
   "cell_type": "code",
   "execution_count": 47,
   "id": "d426fc20",
   "metadata": {},
   "outputs": [
    {
     "data": {
      "text/plain": [
       "{1, 2, 3, 4}"
      ]
     },
     "execution_count": 47,
     "metadata": {},
     "output_type": "execute_result"
    }
   ],
   "source": [
    "s"
   ]
  },
  {
   "cell_type": "code",
   "execution_count": 49,
   "id": "2e426d54",
   "metadata": {},
   "outputs": [],
   "source": [
    "s.discard(2)"
   ]
  },
  {
   "cell_type": "code",
   "execution_count": 50,
   "id": "6fbda2c1",
   "metadata": {},
   "outputs": [
    {
     "data": {
      "text/plain": [
       "{1, 3, 4}"
      ]
     },
     "execution_count": 50,
     "metadata": {},
     "output_type": "execute_result"
    }
   ],
   "source": [
    "s"
   ]
  },
  {
   "cell_type": "code",
   "execution_count": 51,
   "id": "e214a461",
   "metadata": {},
   "outputs": [],
   "source": [
    "s1={1,2,3}\n",
    "s2={1,2,4}"
   ]
  },
  {
   "cell_type": "code",
   "execution_count": 52,
   "id": "d4733b03",
   "metadata": {},
   "outputs": [
    {
     "data": {
      "text/plain": [
       "{1, 2}"
      ]
     },
     "execution_count": 52,
     "metadata": {},
     "output_type": "execute_result"
    }
   ],
   "source": [
    "s1.intersection(s2)"
   ]
  },
  {
   "cell_type": "code",
   "execution_count": 53,
   "id": "06b3708c",
   "metadata": {},
   "outputs": [],
   "source": [
    "s1.intersection_update(s2)"
   ]
  },
  {
   "cell_type": "code",
   "execution_count": 54,
   "id": "a8bea7de",
   "metadata": {},
   "outputs": [
    {
     "data": {
      "text/plain": [
       "{1, 2}"
      ]
     },
     "execution_count": 54,
     "metadata": {},
     "output_type": "execute_result"
    }
   ],
   "source": [
    "s1"
   ]
  },
  {
   "cell_type": "code",
   "execution_count": 55,
   "id": "530ae345",
   "metadata": {},
   "outputs": [],
   "source": [
    "s1={1,2}\n",
    "s2={1,2,4}\n",
    "s3={5}"
   ]
  },
  {
   "cell_type": "code",
   "execution_count": 56,
   "id": "e9501d92",
   "metadata": {},
   "outputs": [
    {
     "data": {
      "text/plain": [
       "False"
      ]
     },
     "execution_count": 56,
     "metadata": {},
     "output_type": "execute_result"
    }
   ],
   "source": [
    "s1.isdisjoint(s2)"
   ]
  },
  {
   "cell_type": "code",
   "execution_count": 57,
   "id": "b6c78a0c",
   "metadata": {},
   "outputs": [
    {
     "data": {
      "text/plain": [
       "True"
      ]
     },
     "execution_count": 57,
     "metadata": {},
     "output_type": "execute_result"
    }
   ],
   "source": [
    "s1.isdisjoint(s3)"
   ]
  },
  {
   "cell_type": "code",
   "execution_count": 58,
   "id": "92e8c2b6",
   "metadata": {},
   "outputs": [
    {
     "data": {
      "text/plain": [
       "True"
      ]
     },
     "execution_count": 58,
     "metadata": {},
     "output_type": "execute_result"
    }
   ],
   "source": [
    "s1.issubset(s2)"
   ]
  },
  {
   "cell_type": "code",
   "execution_count": 60,
   "id": "efb0fcac",
   "metadata": {},
   "outputs": [
    {
     "data": {
      "text/plain": [
       "True"
      ]
     },
     "execution_count": 60,
     "metadata": {},
     "output_type": "execute_result"
    }
   ],
   "source": [
    "s2.issuperset(s1)"
   ]
  },
  {
   "cell_type": "code",
   "execution_count": 61,
   "id": "fbde9714",
   "metadata": {},
   "outputs": [
    {
     "data": {
      "text/plain": [
       "{1, 2}"
      ]
     },
     "execution_count": 61,
     "metadata": {},
     "output_type": "execute_result"
    }
   ],
   "source": [
    "s1"
   ]
  },
  {
   "cell_type": "code",
   "execution_count": 62,
   "id": "be2cb3e6",
   "metadata": {},
   "outputs": [
    {
     "data": {
      "text/plain": [
       "{1, 2, 4}"
      ]
     },
     "execution_count": 62,
     "metadata": {},
     "output_type": "execute_result"
    }
   ],
   "source": [
    "s2"
   ]
  },
  {
   "cell_type": "code",
   "execution_count": 63,
   "id": "12dd2673",
   "metadata": {},
   "outputs": [
    {
     "data": {
      "text/plain": [
       "{4}"
      ]
     },
     "execution_count": 63,
     "metadata": {},
     "output_type": "execute_result"
    }
   ],
   "source": [
    "s1.symmetric_difference(s2)"
   ]
  },
  {
   "cell_type": "code",
   "execution_count": 65,
   "id": "477a547c",
   "metadata": {},
   "outputs": [
    {
     "data": {
      "text/plain": [
       "{1, 2, 4}"
      ]
     },
     "execution_count": 65,
     "metadata": {},
     "output_type": "execute_result"
    }
   ],
   "source": [
    "s1.union(s2)"
   ]
  },
  {
   "cell_type": "code",
   "execution_count": 68,
   "id": "bf6dbed8",
   "metadata": {},
   "outputs": [],
   "source": [
    "s1.update(s2)"
   ]
  },
  {
   "cell_type": "code",
   "execution_count": 69,
   "id": "5e1170aa",
   "metadata": {},
   "outputs": [
    {
     "data": {
      "text/plain": [
       "{1, 2, 4}"
      ]
     },
     "execution_count": 69,
     "metadata": {},
     "output_type": "execute_result"
    }
   ],
   "source": [
    "s1"
   ]
  },
  {
   "cell_type": "markdown",
   "id": "eaf5a5a8",
   "metadata": {},
   "source": [
    "Advance dictionary"
   ]
  },
  {
   "cell_type": "code",
   "execution_count": 78,
   "id": "dd5ec668",
   "metadata": {},
   "outputs": [],
   "source": [
    "d={'k1':1,'k2':2}"
   ]
  },
  {
   "cell_type": "code",
   "execution_count": 79,
   "id": "80723477",
   "metadata": {},
   "outputs": [
    {
     "data": {
      "text/plain": [
       "{0: 0, 1: 1, 2: 4, 3: 9, 4: 16, 5: 25, 6: 36, 7: 49, 8: 64, 9: 81}"
      ]
     },
     "execution_count": 79,
     "metadata": {},
     "output_type": "execute_result"
    }
   ],
   "source": [
    "{k:k**2 for k in range(10)}"
   ]
  },
  {
   "cell_type": "code",
   "execution_count": 86,
   "id": "b2739096",
   "metadata": {},
   "outputs": [
    {
     "data": {
      "text/plain": [
       "dict_values([1, 2])"
      ]
     },
     "execution_count": 86,
     "metadata": {},
     "output_type": "execute_result"
    }
   ],
   "source": [
    "d.values()"
   ]
  },
  {
   "cell_type": "code",
   "execution_count": 87,
   "id": "a009932b",
   "metadata": {},
   "outputs": [
    {
     "data": {
      "text/plain": [
       "dict_items([('k1', 1), ('k2', 2)])"
      ]
     },
     "execution_count": 87,
     "metadata": {},
     "output_type": "execute_result"
    }
   ],
   "source": [
    "d.items()"
   ]
  },
  {
   "cell_type": "markdown",
   "id": "d7e91608",
   "metadata": {},
   "source": [
    "Advance lists"
   ]
  },
  {
   "cell_type": "code",
   "execution_count": 89,
   "id": "9397590d",
   "metadata": {},
   "outputs": [],
   "source": [
    "l=[1,2,3]"
   ]
  },
  {
   "cell_type": "code",
   "execution_count": 90,
   "id": "5db3aaed",
   "metadata": {},
   "outputs": [],
   "source": [
    "l.append(4)"
   ]
  },
  {
   "cell_type": "code",
   "execution_count": 91,
   "id": "16fcf1c5",
   "metadata": {},
   "outputs": [
    {
     "data": {
      "text/plain": [
       "0"
      ]
     },
     "execution_count": 91,
     "metadata": {},
     "output_type": "execute_result"
    }
   ],
   "source": [
    "l.count(10)"
   ]
  },
  {
   "cell_type": "code",
   "execution_count": 92,
   "id": "dcfa50c7",
   "metadata": {},
   "outputs": [
    {
     "data": {
      "text/plain": [
       "1"
      ]
     },
     "execution_count": 92,
     "metadata": {},
     "output_type": "execute_result"
    }
   ],
   "source": [
    "l.count(3)"
   ]
  },
  {
   "cell_type": "code",
   "execution_count": 95,
   "id": "d81e269f",
   "metadata": {},
   "outputs": [
    {
     "name": "stdout",
     "output_type": "stream",
     "text": [
      "[1, 2, 3, [4, [5]]]\n"
     ]
    }
   ],
   "source": [
    "x=[1,2,3]\n",
    "x.append([4,[5]])\n",
    "print (x)"
   ]
  },
  {
   "cell_type": "code",
   "execution_count": 97,
   "id": "85497b88",
   "metadata": {},
   "outputs": [
    {
     "name": "stdout",
     "output_type": "stream",
     "text": [
      "[1, 2, 3, 4, 5]\n"
     ]
    }
   ],
   "source": [
    "x=[1,2,3]\n",
    "x.extend([4,5])\n",
    "print (x)"
   ]
  },
  {
   "cell_type": "code",
   "execution_count": 99,
   "id": "0183ea0f",
   "metadata": {},
   "outputs": [
    {
     "data": {
      "text/plain": [
       "[1, 2, 3, 4]"
      ]
     },
     "execution_count": 99,
     "metadata": {},
     "output_type": "execute_result"
    }
   ],
   "source": [
    "l"
   ]
  },
  {
   "cell_type": "code",
   "execution_count": 100,
   "id": "8c084ec1",
   "metadata": {},
   "outputs": [
    {
     "data": {
      "text/plain": [
       "1"
      ]
     },
     "execution_count": 100,
     "metadata": {},
     "output_type": "execute_result"
    }
   ],
   "source": [
    "l.index(2)"
   ]
  },
  {
   "cell_type": "code",
   "execution_count": 101,
   "id": "2be0b1b3",
   "metadata": {},
   "outputs": [],
   "source": [
    "l.insert(3,50)"
   ]
  },
  {
   "cell_type": "code",
   "execution_count": 102,
   "id": "5fad89ca",
   "metadata": {},
   "outputs": [
    {
     "data": {
      "text/plain": [
       "[1, 2, 3, 50, 4]"
      ]
     },
     "execution_count": 102,
     "metadata": {},
     "output_type": "execute_result"
    }
   ],
   "source": [
    "l"
   ]
  },
  {
   "cell_type": "code",
   "execution_count": 103,
   "id": "eac8f9ce",
   "metadata": {},
   "outputs": [
    {
     "data": {
      "text/plain": [
       "4"
      ]
     },
     "execution_count": 103,
     "metadata": {},
     "output_type": "execute_result"
    }
   ],
   "source": [
    "l.pop()"
   ]
  },
  {
   "cell_type": "code",
   "execution_count": 104,
   "id": "a87f6243",
   "metadata": {},
   "outputs": [
    {
     "data": {
      "text/plain": [
       "3"
      ]
     },
     "execution_count": 104,
     "metadata": {},
     "output_type": "execute_result"
    }
   ],
   "source": [
    "l.pop(2)"
   ]
  },
  {
   "cell_type": "code",
   "execution_count": 105,
   "id": "db6a1c0b",
   "metadata": {},
   "outputs": [
    {
     "data": {
      "text/plain": [
       "[1, 2, 50]"
      ]
     },
     "execution_count": 105,
     "metadata": {},
     "output_type": "execute_result"
    }
   ],
   "source": [
    "l"
   ]
  },
  {
   "cell_type": "code",
   "execution_count": 107,
   "id": "7dd6eded",
   "metadata": {},
   "outputs": [],
   "source": [
    "l.remove(2)"
   ]
  },
  {
   "cell_type": "code",
   "execution_count": null,
   "id": "f52f754d",
   "metadata": {},
   "outputs": [],
   "source": []
  },
  {
   "cell_type": "code",
   "execution_count": 108,
   "id": "1725153f",
   "metadata": {},
   "outputs": [
    {
     "data": {
      "text/plain": [
       "[1, 50]"
      ]
     },
     "execution_count": 108,
     "metadata": {},
     "output_type": "execute_result"
    }
   ],
   "source": [
    "l"
   ]
  },
  {
   "cell_type": "code",
   "execution_count": 110,
   "id": "12cb7be0",
   "metadata": {},
   "outputs": [],
   "source": [
    "l.reverse()"
   ]
  },
  {
   "cell_type": "code",
   "execution_count": null,
   "id": "8043838e",
   "metadata": {},
   "outputs": [],
   "source": []
  },
  {
   "cell_type": "code",
   "execution_count": 111,
   "id": "9cc6ef1b",
   "metadata": {},
   "outputs": [
    {
     "data": {
      "text/plain": [
       "[50, 1]"
      ]
     },
     "execution_count": 111,
     "metadata": {},
     "output_type": "execute_result"
    }
   ],
   "source": [
    "l"
   ]
  },
  {
   "cell_type": "markdown",
   "id": "414e565e",
   "metadata": {},
   "source": [
    "ADVANCE DATA TYPES ASSIGNMENT"
   ]
  },
  {
   "cell_type": "code",
   "execution_count": 112,
   "id": "5b9a8387",
   "metadata": {},
   "outputs": [
    {
     "data": {
      "text/plain": [
       "'0b10000000000'"
      ]
     },
     "execution_count": 112,
     "metadata": {},
     "output_type": "execute_result"
    }
   ],
   "source": [
    "bin(1024)"
   ]
  },
  {
   "cell_type": "code",
   "execution_count": 113,
   "id": "ef35d62a",
   "metadata": {},
   "outputs": [
    {
     "data": {
      "text/plain": [
       "5"
      ]
     },
     "execution_count": 113,
     "metadata": {},
     "output_type": "execute_result"
    }
   ],
   "source": [
    "round(5.23222)"
   ]
  },
  {
   "cell_type": "code",
   "execution_count": 116,
   "id": "8d38cb4b",
   "metadata": {},
   "outputs": [],
   "source": [
    "s='hellow how are you Mary, are you feeling okay?'"
   ]
  },
  {
   "cell_type": "code",
   "execution_count": 117,
   "id": "7d4b2f84",
   "metadata": {},
   "outputs": [
    {
     "data": {
      "text/plain": [
       "False"
      ]
     },
     "execution_count": 117,
     "metadata": {},
     "output_type": "execute_result"
    }
   ],
   "source": [
    "s.islower()"
   ]
  },
  {
   "cell_type": "code",
   "execution_count": 118,
   "id": "8514c23e",
   "metadata": {},
   "outputs": [],
   "source": [
    "s = 'twywywtwywbwhsjhwuwshshwuwwwjdjdid'"
   ]
  },
  {
   "cell_type": "code",
   "execution_count": 120,
   "id": "b84c3fd6",
   "metadata": {},
   "outputs": [
    {
     "data": {
      "text/plain": [
       "12"
      ]
     },
     "execution_count": 120,
     "metadata": {},
     "output_type": "execute_result"
    }
   ],
   "source": [
    "s.count('w')"
   ]
  },
  {
   "cell_type": "code",
   "execution_count": 121,
   "id": "b210011d",
   "metadata": {},
   "outputs": [],
   "source": [
    "set1 = {2,3,1,5,6,8}\n",
    "set2 = {3,1,7,5,6,8}\n",
    "\n"
   ]
  },
  {
   "cell_type": "code",
   "execution_count": 124,
   "id": "61c00c40",
   "metadata": {},
   "outputs": [
    {
     "data": {
      "text/plain": [
       "{2}"
      ]
     },
     "execution_count": 124,
     "metadata": {},
     "output_type": "execute_result"
    }
   ],
   "source": [
    "set1.difference(set2)"
   ]
  },
  {
   "cell_type": "code",
   "execution_count": 130,
   "id": "2a1fef3d",
   "metadata": {},
   "outputs": [
    {
     "name": "stdout",
     "output_type": "stream",
     "text": [
      "{0: 0, 1: 1, 2: 8, 3: 27, 4: 64}\n"
     ]
    }
   ],
   "source": [
    "k={k:k**3 for k in range(5)}\n",
    "print(k)"
   ]
  },
  {
   "cell_type": "code",
   "execution_count": 131,
   "id": "95b52c4a",
   "metadata": {},
   "outputs": [],
   "source": [
    "list1=[1,2,3,4]"
   ]
  },
  {
   "cell_type": "code",
   "execution_count": 141,
   "id": "aaf57806",
   "metadata": {},
   "outputs": [],
   "source": [
    "list1.reverse()\n"
   ]
  },
  {
   "cell_type": "code",
   "execution_count": 142,
   "id": "6b2d6a7f",
   "metadata": {},
   "outputs": [
    {
     "data": {
      "text/plain": [
       "[4, 3, 2, 1]"
      ]
     },
     "execution_count": 142,
     "metadata": {},
     "output_type": "execute_result"
    }
   ],
   "source": [
    "list1"
   ]
  },
  {
   "cell_type": "code",
   "execution_count": 143,
   "id": "7b5a5cbc",
   "metadata": {},
   "outputs": [],
   "source": [
    "list2=[3,4,2,5,1]"
   ]
  },
  {
   "cell_type": "code",
   "execution_count": 145,
   "id": "506c5f5b",
   "metadata": {},
   "outputs": [],
   "source": [
    "list2.sort()\n"
   ]
  },
  {
   "cell_type": "code",
   "execution_count": 148,
   "id": "2e9bd7f5",
   "metadata": {},
   "outputs": [
    {
     "data": {
      "text/plain": [
       "[1, 2, 3, 4, 5]"
      ]
     },
     "execution_count": 148,
     "metadata": {},
     "output_type": "execute_result"
    }
   ],
   "source": [
    "list2"
   ]
  },
  {
   "cell_type": "markdown",
   "id": "8da7608f",
   "metadata": {},
   "source": [
    "GUI\n"
   ]
  },
  {
   "cell_type": "code",
   "execution_count": 5,
   "id": "761c523c",
   "metadata": {},
   "outputs": [],
   "source": [
    "from ipywidgets import interact , interactive, fixed\n",
    "import ipywidgets as widgets"
   ]
  },
  {
   "cell_type": "code",
   "execution_count": 6,
   "id": "81d7ebb8",
   "metadata": {},
   "outputs": [],
   "source": [
    "def func(x):\n",
    "    return x"
   ]
  },
  {
   "cell_type": "code",
   "execution_count": 7,
   "id": "dc844ebd",
   "metadata": {},
   "outputs": [
    {
     "data": {
      "application/vnd.jupyter.widget-view+json": {
       "model_id": "05f94c763e0a4ff9a7aec370defaf1ed",
       "version_major": 2,
       "version_minor": 0
      },
      "text/plain": [
       "interactive(children=(IntSlider(value=10, description='x', max=30, min=-10), Output()), _dom_classes=('widget-…"
      ]
     },
     "metadata": {},
     "output_type": "display_data"
    },
    {
     "data": {
      "text/plain": [
       "<function __main__.func(x)>"
      ]
     },
     "execution_count": 7,
     "metadata": {},
     "output_type": "execute_result"
    }
   ],
   "source": [
    "interact(func,x=10)"
   ]
  },
  {
   "cell_type": "code",
   "execution_count": 8,
   "id": "fda97e16",
   "metadata": {},
   "outputs": [],
   "source": [
    "def func(x):\n",
    "    return x**2"
   ]
  },
  {
   "cell_type": "code",
   "execution_count": 9,
   "id": "19d73ddf",
   "metadata": {},
   "outputs": [
    {
     "data": {
      "application/vnd.jupyter.widget-view+json": {
       "model_id": "2882e31495b045c4820cb53c57a550ff",
       "version_major": 2,
       "version_minor": 0
      },
      "text/plain": [
       "interactive(children=(IntSlider(value=100, description='x', max=300, min=-100), Output()), _dom_classes=('widg…"
      ]
     },
     "metadata": {},
     "output_type": "display_data"
    },
    {
     "data": {
      "text/plain": [
       "<function __main__.func(x)>"
      ]
     },
     "execution_count": 9,
     "metadata": {},
     "output_type": "execute_result"
    }
   ],
   "source": [
    "interact(func,x=100)"
   ]
  },
  {
   "cell_type": "code",
   "execution_count": 10,
   "id": "bdf17909",
   "metadata": {},
   "outputs": [],
   "source": [
    "def func(x):\n",
    "    return x"
   ]
  },
  {
   "cell_type": "code",
   "execution_count": 12,
   "id": "0e6b0307",
   "metadata": {},
   "outputs": [
    {
     "data": {
      "application/vnd.jupyter.widget-view+json": {
       "model_id": "fccbe8829ec3458e935d2005488d9c80",
       "version_major": 2,
       "version_minor": 0
      },
      "text/plain": [
       "interactive(children=(Text(value='hello', description='x'), Output()), _dom_classes=('widget-interact',))"
      ]
     },
     "metadata": {},
     "output_type": "display_data"
    },
    {
     "data": {
      "text/plain": [
       "<function __main__.func(x)>"
      ]
     },
     "execution_count": 12,
     "metadata": {},
     "output_type": "execute_result"
    }
   ],
   "source": [
    "interact(func,x='hello')"
   ]
  },
  {
   "cell_type": "code",
   "execution_count": 15,
   "id": "314bed3f",
   "metadata": {},
   "outputs": [
    {
     "data": {
      "application/vnd.jupyter.widget-view+json": {
       "model_id": "a2c91f748f724caca36324df8474eecb",
       "version_major": 2,
       "version_minor": 0
      },
      "text/plain": [
       "interactive(children=(Checkbox(value=True, description='x'), FloatSlider(value=1.0, description='y', max=3.0, …"
      ]
     },
     "metadata": {},
     "output_type": "display_data"
    }
   ],
   "source": [
    "@interact(x=True,y=1.0)\n",
    "def g(x,y):\n",
    "    return (x,y)"
   ]
  },
  {
   "cell_type": "code",
   "execution_count": 18,
   "id": "6610f587",
   "metadata": {},
   "outputs": [
    {
     "data": {
      "application/vnd.jupyter.widget-view+json": {
       "model_id": "4fff7df8aa044a9a8404113a5429b108",
       "version_major": 2,
       "version_minor": 0
      },
      "text/plain": [
       "interactive(children=(IntSlider(value=0, description='x', min=-100), Output()), _dom_classes=('widget-interact…"
      ]
     },
     "metadata": {},
     "output_type": "display_data"
    },
    {
     "data": {
      "text/plain": [
       "<function __main__.func(x)>"
      ]
     },
     "execution_count": 18,
     "metadata": {},
     "output_type": "execute_result"
    }
   ],
   "source": [
    "interact(func,x=widgets.IntSlider(min=-100,max=100,step=1,value=0))"
   ]
  },
  {
   "cell_type": "code",
   "execution_count": 19,
   "id": "d31ede80",
   "metadata": {},
   "outputs": [
    {
     "data": {
      "application/vnd.jupyter.widget-view+json": {
       "model_id": "e062b8a43fff49ccb02b93ae9b342e28",
       "version_major": 2,
       "version_minor": 0
      },
      "text/plain": [
       "interactive(children=(IntSlider(value=0, description='x', min=-100), Output()), _dom_classes=('widget-interact…"
      ]
     },
     "metadata": {},
     "output_type": "display_data"
    },
    {
     "data": {
      "text/plain": [
       "<function __main__.func(x)>"
      ]
     },
     "execution_count": 19,
     "metadata": {},
     "output_type": "execute_result"
    }
   ],
   "source": [
    "interact(func,x=(-100,100,1))"
   ]
  },
  {
   "cell_type": "code",
   "execution_count": 20,
   "id": "cb5e8517",
   "metadata": {},
   "outputs": [
    {
     "data": {
      "application/vnd.jupyter.widget-view+json": {
       "model_id": "8f5773b8942a4ada97d9d19b872313aa",
       "version_major": 2,
       "version_minor": 0
      },
      "text/plain": [
       "interactive(children=(Dropdown(description='x', options=('hello', 'option 1', 'option 2', 'option 3'), value='…"
      ]
     },
     "metadata": {},
     "output_type": "display_data"
    },
    {
     "data": {
      "text/plain": [
       "<function __main__.func(x)>"
      ]
     },
     "execution_count": 20,
     "metadata": {},
     "output_type": "execute_result"
    }
   ],
   "source": [
    "interact(func,x=['hello','option 1','option 2','option 3'])"
   ]
  },
  {
   "cell_type": "code",
   "execution_count": 29,
   "id": "01a9cdba",
   "metadata": {},
   "outputs": [
    {
     "data": {
      "application/vnd.jupyter.widget-view+json": {
       "model_id": "249491c93d804b188b3f3d7ecc1b5a5d",
       "version_major": 2,
       "version_minor": 0
      },
      "text/plain": [
       "interactive(children=(Dropdown(description='x', options={'one': 10, 'two': 20}, value=10), Output()), _dom_cla…"
      ]
     },
     "metadata": {},
     "output_type": "display_data"
    }
   ],
   "source": [
    "interact(func,x={'one':10,'two':20});"
   ]
  },
  {
   "cell_type": "code",
   "execution_count": 22,
   "id": "ef74c7d4",
   "metadata": {},
   "outputs": [],
   "source": [
    "from IPython.display import display\n",
    "def f(a,b):\n",
    "    display(a+b)\n",
    "    return a+b"
   ]
  },
  {
   "cell_type": "code",
   "execution_count": 23,
   "id": "168bfb05",
   "metadata": {},
   "outputs": [],
   "source": [
    "w=interactive(f,a=10,b=20)"
   ]
  },
  {
   "cell_type": "code",
   "execution_count": 24,
   "id": "b481d3e1",
   "metadata": {},
   "outputs": [
    {
     "data": {
      "text/plain": [
       "ipywidgets.widgets.interaction.interactive"
      ]
     },
     "execution_count": 24,
     "metadata": {},
     "output_type": "execute_result"
    }
   ],
   "source": [
    "type(w)"
   ]
  },
  {
   "cell_type": "code",
   "execution_count": 26,
   "id": "9fcbac6a",
   "metadata": {},
   "outputs": [
    {
     "data": {
      "text/plain": [
       "(IntSlider(value=10, description='a', max=30, min=-10),\n",
       " IntSlider(value=20, description='b', max=60, min=-20),\n",
       " Output())"
      ]
     },
     "execution_count": 26,
     "metadata": {},
     "output_type": "execute_result"
    }
   ],
   "source": [
    "w.children"
   ]
  },
  {
   "cell_type": "code",
   "execution_count": 27,
   "id": "1fba6005",
   "metadata": {},
   "outputs": [
    {
     "data": {
      "application/vnd.jupyter.widget-view+json": {
       "model_id": "7676d10cae774965904bc2cda8937335",
       "version_major": 2,
       "version_minor": 0
      },
      "text/plain": [
       "interactive(children=(IntSlider(value=10, description='a', max=30, min=-10), IntSlider(value=20, description='…"
      ]
     },
     "metadata": {},
     "output_type": "display_data"
    }
   ],
   "source": [
    "display(w)"
   ]
  },
  {
   "cell_type": "code",
   "execution_count": 30,
   "id": "b3459870",
   "metadata": {},
   "outputs": [],
   "source": [
    "import ipywidgets as widgets"
   ]
  },
  {
   "cell_type": "code",
   "execution_count": 35,
   "id": "5b667a18",
   "metadata": {},
   "outputs": [],
   "source": [
    "w=widgets.IntSlider()"
   ]
  },
  {
   "cell_type": "code",
   "execution_count": 33,
   "id": "0295b10b",
   "metadata": {},
   "outputs": [],
   "source": [
    "from IPython.display import display "
   ]
  },
  {
   "cell_type": "code",
   "execution_count": 39,
   "id": "f70c127b",
   "metadata": {},
   "outputs": [
    {
     "data": {
      "text/plain": [
       "IntSlider(value=27)"
      ]
     },
     "metadata": {},
     "output_type": "display_data"
    }
   ],
   "source": [
    "display(w)"
   ]
  },
  {
   "cell_type": "code",
   "execution_count": 40,
   "id": "28cfcfaf",
   "metadata": {},
   "outputs": [
    {
     "data": {
      "text/plain": [
       "IntSlider(value=27)"
      ]
     },
     "metadata": {},
     "output_type": "display_data"
    }
   ],
   "source": [
    "display(w)"
   ]
  },
  {
   "cell_type": "code",
   "execution_count": 41,
   "id": "78f466b0",
   "metadata": {},
   "outputs": [],
   "source": [
    "w.close()"
   ]
  },
  {
   "cell_type": "code",
   "execution_count": 43,
   "id": "1481a9ed",
   "metadata": {},
   "outputs": [
    {
     "data": {
      "application/vnd.jupyter.widget-view+json": {
       "model_id": "8301ca92e7f94d72b8558445ed908a12",
       "version_major": 2,
       "version_minor": 0
      },
      "text/plain": [
       "IntSlider(value=0)"
      ]
     },
     "metadata": {},
     "output_type": "display_data"
    }
   ],
   "source": [
    "w=widgets.IntSlider()\n",
    "display(w)"
   ]
  },
  {
   "cell_type": "code",
   "execution_count": 44,
   "id": "2656d791",
   "metadata": {},
   "outputs": [
    {
     "data": {
      "text/plain": [
       "70"
      ]
     },
     "execution_count": 44,
     "metadata": {},
     "output_type": "execute_result"
    }
   ],
   "source": [
    "w.value"
   ]
  },
  {
   "cell_type": "code",
   "execution_count": 45,
   "id": "78639bf0",
   "metadata": {},
   "outputs": [
    {
     "data": {
      "text/plain": [
       "['_dom_classes',\n",
       " '_model_module',\n",
       " '_model_module_version',\n",
       " '_model_name',\n",
       " '_view_count',\n",
       " '_view_module',\n",
       " '_view_module_version',\n",
       " '_view_name',\n",
       " 'continuous_update',\n",
       " 'description',\n",
       " 'description_tooltip',\n",
       " 'disabled',\n",
       " 'layout',\n",
       " 'max',\n",
       " 'min',\n",
       " 'orientation',\n",
       " 'readout',\n",
       " 'readout_format',\n",
       " 'step',\n",
       " 'style',\n",
       " 'value']"
      ]
     },
     "execution_count": 45,
     "metadata": {},
     "output_type": "execute_result"
    }
   ],
   "source": [
    "w.keys"
   ]
  },
  {
   "cell_type": "code",
   "execution_count": 47,
   "id": "dbe2543c",
   "metadata": {},
   "outputs": [],
   "source": [
    "w.max=2000"
   ]
  },
  {
   "cell_type": "code",
   "execution_count": 51,
   "id": "ad6c95bd",
   "metadata": {},
   "outputs": [
    {
     "data": {
      "application/vnd.jupyter.widget-view+json": {
       "model_id": "dc11d6ee53664ace9e6e4faa3f36d776",
       "version_major": 2,
       "version_minor": 0
      },
      "text/plain": [
       "FloatText(value=0.0)"
      ]
     },
     "metadata": {},
     "output_type": "display_data"
    },
    {
     "data": {
      "application/vnd.jupyter.widget-view+json": {
       "model_id": "3780e70443e54afc8fd8844a2db7e78d",
       "version_major": 2,
       "version_minor": 0
      },
      "text/plain": [
       "FloatSlider(value=0.0)"
      ]
     },
     "metadata": {},
     "output_type": "display_data"
    },
    {
     "data": {
      "application/vnd.jupyter.widget-view+json": {
       "model_id": "dc11d6ee53664ace9e6e4faa3f36d776",
       "version_major": 2,
       "version_minor": 0
      },
      "text/plain": [
       "FloatText(value=0.0)"
      ]
     },
     "metadata": {},
     "output_type": "display_data"
    },
    {
     "data": {
      "application/vnd.jupyter.widget-view+json": {
       "model_id": "3780e70443e54afc8fd8844a2db7e78d",
       "version_major": 2,
       "version_minor": 0
      },
      "text/plain": [
       "FloatSlider(value=0.0)"
      ]
     },
     "metadata": {},
     "output_type": "display_data"
    }
   ],
   "source": [
    "a=widgets.FloatText()\n",
    "b=widgets.FloatSlider()\n",
    "\n",
    "display(a,b)\n",
    "\n",
    "mylink=widgets.jslink((a,'value'),(b,'value'))\n",
    "\n",
    "display(a,b)\n",
    "\n",
    "mylink=widgets.jslink((a,'value'),(b,'max'))"
   ]
  },
  {
   "cell_type": "code",
   "execution_count": 49,
   "id": "256f0857",
   "metadata": {},
   "outputs": [
    {
     "data": {
      "application/vnd.jupyter.widget-view+json": {
       "model_id": "48cbfa3fc2584bdd90f4bbbcd5575b7f",
       "version_major": 2,
       "version_minor": 0
      },
      "text/plain": [
       "FloatText(value=0.0)"
      ]
     },
     "metadata": {},
     "output_type": "display_data"
    }
   ],
   "source": [
    "display(a)"
   ]
  },
  {
   "cell_type": "code",
   "execution_count": 52,
   "id": "c63e1a69",
   "metadata": {},
   "outputs": [
    {
     "ename": "SyntaxError",
     "evalue": "expected ':' (3395285540.py, line 1)",
     "output_type": "error",
     "traceback": [
      "\u001b[1;36m  Cell \u001b[1;32mIn[52], line 1\u001b[1;36m\u001b[0m\n\u001b[1;33m    for  item in widgets\u001b[0m\n\u001b[1;37m                        ^\u001b[0m\n\u001b[1;31mSyntaxError\u001b[0m\u001b[1;31m:\u001b[0m expected ':'\n"
     ]
    }
   ],
   "source": [
    "#for all widgets check \n",
    "#https://github.com/Pierian-Data/Complete-Python-3-Bootcamp/blob/master/19-Bonus%20Material%20-%20Introduction%20to%20GUIs/03-Widget%20List.ipynb"
   ]
  },
  {
   "cell_type": "code",
   "execution_count": 53,
   "id": "b8d59180",
   "metadata": {},
   "outputs": [
    {
     "data": {
      "application/vnd.jupyter.widget-view+json": {
       "model_id": "8203c5d3d7cc4ea9b892e9086c994fe7",
       "version_major": 2,
       "version_minor": 0
      },
      "text/plain": [
       "IntSlider(value=0)"
      ]
     },
     "metadata": {},
     "output_type": "display_data"
    }
   ],
   "source": [
    "w=widgets.IntSlider()\n",
    "display(w)"
   ]
  },
  {
   "cell_type": "code",
   "execution_count": 54,
   "id": "b367cfef",
   "metadata": {},
   "outputs": [],
   "source": [
    "w.layout.margin='auto'\n",
    "w.layout.height='75px'"
   ]
  },
  {
   "cell_type": "code",
   "execution_count": 55,
   "id": "575abde7",
   "metadata": {},
   "outputs": [
    {
     "data": {
      "application/vnd.jupyter.widget-view+json": {
       "model_id": "72c9aa596eb14e0e8e9a168d436c5e99",
       "version_major": 2,
       "version_minor": 0
      },
      "text/plain": [
       "IntSlider(value=15, description='New Slider')"
      ]
     },
     "metadata": {},
     "output_type": "display_data"
    }
   ],
   "source": [
    "x=widgets.IntSlider(value=15,description='New Slider')\n",
    "display(x)"
   ]
  },
  {
   "cell_type": "code",
   "execution_count": 56,
   "id": "81c2d9ee",
   "metadata": {},
   "outputs": [],
   "source": [
    "x.layout=w.layout"
   ]
  },
  {
   "cell_type": "code",
   "execution_count": 59,
   "id": "5db73dfa",
   "metadata": {},
   "outputs": [
    {
     "data": {
      "application/vnd.jupyter.widget-view+json": {
       "model_id": "66bb9328ffbe48a78d3afc06b7ca41d7",
       "version_major": 2,
       "version_minor": 0
      },
      "text/plain": [
       "Button(button_style='danger', description='Ordinary button', style=ButtonStyle())"
      ]
     },
     "metadata": {},
     "output_type": "display_data"
    }
   ],
   "source": [
    "widgets.Button(description='Ordinary button',button_style='danger')"
   ]
  },
  {
   "cell_type": "code",
   "execution_count": 60,
   "id": "7357b9a6",
   "metadata": {},
   "outputs": [
    {
     "data": {
      "application/vnd.jupyter.widget-view+json": {
       "model_id": "c6236b3ea83047169838921f61a812fc",
       "version_major": 2,
       "version_minor": 0
      },
      "text/plain": [
       "Button(description='Custom Color', style=ButtonStyle(button_color='green'))"
      ]
     },
     "metadata": {},
     "output_type": "display_data"
    }
   ],
   "source": [
    "b1=widgets.Button(description='Custom Color')\n",
    "b1.style.button_color='green'\n",
    "b1"
   ]
  },
  {
   "cell_type": "code",
   "execution_count": 61,
   "id": "4f09061b",
   "metadata": {},
   "outputs": [
    {
     "data": {
      "text/plain": [
       "['_model_module',\n",
       " '_model_module_version',\n",
       " '_model_name',\n",
       " '_view_count',\n",
       " '_view_module',\n",
       " '_view_module_version',\n",
       " '_view_name',\n",
       " 'button_color',\n",
       " 'font_weight']"
      ]
     },
     "execution_count": 61,
     "metadata": {},
     "output_type": "execute_result"
    }
   ],
   "source": [
    "b1.style.keys"
   ]
  },
  {
   "cell_type": "code",
   "execution_count": 62,
   "id": "6f449bf6",
   "metadata": {},
   "outputs": [
    {
     "data": {
      "application/vnd.jupyter.widget-view+json": {
       "model_id": "d570dbf768504775b3b65755850537b6",
       "version_major": 2,
       "version_minor": 0
      },
      "text/plain": [
       "Button(style=ButtonStyle(button_color='green'))"
      ]
     },
     "metadata": {},
     "output_type": "display_data"
    }
   ],
   "source": [
    "b2=widgets.Button()\n",
    "b2.style=b1.style\n",
    "b2"
   ]
  },
  {
   "cell_type": "code",
   "execution_count": 63,
   "id": "8c3ac9ae",
   "metadata": {},
   "outputs": [
    {
     "ename": "NameError",
     "evalue": "name 's1' is not defined",
     "output_type": "error",
     "traceback": [
      "\u001b[1;31m---------------------------------------------------------------------------\u001b[0m",
      "\u001b[1;31mNameError\u001b[0m                                 Traceback (most recent call last)",
      "Cell \u001b[1;32mIn[63], line 1\u001b[0m\n\u001b[1;32m----> 1\u001b[0m \u001b[43ms1\u001b[49m\u001b[38;5;241m.\u001b[39mwidgets\u001b[38;5;241m.\u001b[39mIntSlider(description\u001b[38;5;241m=\u001b[39m\u001b[38;5;124m'\u001b[39m\u001b[38;5;124mMy Handle\u001b[39m\u001b[38;5;124m'\u001b[39m)\n\u001b[0;32m      2\u001b[0m s1\u001b[38;5;241m.\u001b[39mstyle\u001b[38;5;241m.\u001b[39mhandle\u001b[38;5;241m.\u001b[39mcolor\u001b[38;5;241m=\u001b[39m\u001b[38;5;124m'\u001b[39m\u001b[38;5;124mblack\u001b[39m\u001b[38;5;124m'\u001b[39m\n\u001b[0;32m      3\u001b[0m s1\n",
      "\u001b[1;31mNameError\u001b[0m: name 's1' is not defined"
     ]
    }
   ],
   "source": [
    "s1.widgets.IntSlider(description='My Handle')\n",
    "s1.style.handle.color='black'\n",
    "s1"
   ]
  },
  {
   "cell_type": "code",
   "execution_count": 64,
   "id": "910399eb",
   "metadata": {},
   "outputs": [
    {
     "ename": "NameError",
     "evalue": "name 's1' is not defined",
     "output_type": "error",
     "traceback": [
      "\u001b[1;31m---------------------------------------------------------------------------\u001b[0m",
      "\u001b[1;31mNameError\u001b[0m                                 Traceback (most recent call last)",
      "Cell \u001b[1;32mIn[64], line 1\u001b[0m\n\u001b[1;32m----> 1\u001b[0m \u001b[43ms1\u001b[49m\u001b[38;5;241m.\u001b[39mstyle\u001b[38;5;241m.\u001b[39mkeys\n",
      "\u001b[1;31mNameError\u001b[0m: name 's1' is not defined"
     ]
    }
   ],
   "source": []
  },
  {
   "cell_type": "code",
   "execution_count": 1,
   "id": "b5f22961",
   "metadata": {},
   "outputs": [
    {
     "data": {
      "text/plain": [
       "'C:\\\\Users\\\\bakal'"
      ]
     },
     "execution_count": 1,
     "metadata": {},
     "output_type": "execute_result"
    }
   ],
   "source": [
    "pwd\n"
   ]
  },
  {
   "cell_type": "code",
   "execution_count": null,
   "id": "2e9e9c44",
   "metadata": {},
   "outputs": [],
   "source": []
  }
 ],
 "metadata": {
  "kernelspec": {
   "display_name": "Python 3 (ipykernel)",
   "language": "python",
   "name": "python3"
  },
  "language_info": {
   "codemirror_mode": {
    "name": "ipython",
    "version": 3
   },
   "file_extension": ".py",
   "mimetype": "text/x-python",
   "name": "python",
   "nbconvert_exporter": "python",
   "pygments_lexer": "ipython3",
   "version": "3.10.9"
  }
 },
 "nbformat": 4,
 "nbformat_minor": 5
}
